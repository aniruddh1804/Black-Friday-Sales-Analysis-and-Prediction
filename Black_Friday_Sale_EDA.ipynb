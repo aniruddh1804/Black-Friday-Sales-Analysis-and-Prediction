{
  "nbformat": 4,
  "nbformat_minor": 0,
  "metadata": {
    "colab": {
      "name": "Black_Friday_Sale_EDA.ipynb",
      "provenance": [],
      "collapsed_sections": [
        "2JViZuz0NlTb",
        "w_bATW-PO4Jj",
        "hO3Ij2qWNIc7",
        "sz9VxH_cajiZ",
        "UPFBq7D1crzT",
        "Q3mFSj8Xcugi",
        "jP81IFS-cvGW",
        "tZaOxDS7cvfB",
        "k583qquSdKuM",
        "eL80R6speWfQ",
        "mA8NrX2cnhSn",
        "-W7PxnZHoHZ1",
        "pulAivWIqYFK",
        "HY00QOzNqYt5",
        "PgBp7bjVrfAK",
        "85rZcW25rfva",
        "hNEc5ehZrgZZ",
        "W6KNi_-srg5T",
        "hkkDDIDOtH8b",
        "pFryVoarndB2",
        "kfyLC5vLnsbs",
        "WUYuvtRZTgcM",
        "fOhutNjwJoBW",
        "0zKMyhS5NRZi",
        "EilIhK6HasZ3",
        "CZPhDZzubhJD",
        "ByTvCk3sUypw",
        "weRIR_6zU4V2",
        "dHFSUL0gU9ri",
        "9Yu7LPvkd61Y",
        "_UuB2MLyeXVb",
        "kO4RMO8ofkLp",
        "-_wm7WXQboio",
        "XfGTVy8abyMO",
        "CQtWsjrJEn89",
        "uIXyQtmZEu5F",
        "nKGB7ckBAFW9",
        "op5Rq2wkEisi",
        "L8RhGpbWFjlG",
        "mNTa09xH4E1T",
        "EHAFoS6EAVKx",
        "FbrXRUXSAcN5",
        "InXthwkka7It",
        "0EamoHyvCDi0",
        "AVAs6OkGBIGi",
        "2aftxfyuB88X",
        "S3RrUokGE9K2",
        "5noVIx03TV_w",
        "Ov7kAr_DQpHx",
        "n6zwKDOLHyxZ",
        "JIGSQ8NcQzH0",
        "dP_uLGIRRXoT",
        "qq-A9LPJDd7w",
        "CVomlZ42Gty4",
        "zRW25IZZG5nF"
      ],
      "toc_visible": true
    },
    "kernelspec": {
      "name": "python3",
      "display_name": "Python 3"
    }
  },
  "cells": [
    {
      "cell_type": "markdown",
      "metadata": {
        "id": "DYESH8Njpeu4"
      },
      "source": [
        "#**Black Friday Sale Prediction**"
      ]
    },
    {
      "cell_type": "markdown",
      "metadata": {
        "id": "2JViZuz0NlTb"
      },
      "source": [
        "#**1. Exploratory Data Analysis**"
      ]
    },
    {
      "cell_type": "markdown",
      "metadata": {
        "id": "aqgVwTEypd8O"
      },
      "source": [
        "1. Variable Identification\n",
        "2. Univariate Analysis\n",
        "3. Bi/Multivariate Analysis\n",
        "4. Outlier Detection\n",
        "5. Missing Value Treatment"
      ]
    },
    {
      "cell_type": "markdown",
      "metadata": {
        "id": "w_bATW-PO4Jj"
      },
      "source": [
        "##**Load Data and Libraries**"
      ]
    },
    {
      "cell_type": "code",
      "metadata": {
        "id": "DRcyYEy8pfcc",
        "colab": {
          "base_uri": "https://localhost:8080/"
        },
        "outputId": "83cccc71-091d-41c9-b44d-fb4665190a3a"
      },
      "source": [
        "  from google.colab import drive\n",
        "  import os\n",
        "\n",
        "  drive.mount('/content/drive/', force_remount=True)\n",
        "  os.chdir('/content/drive/My Drive/CA683 Assignment Data Analytics and Data Mining/black_friday_dataset/')"
      ],
      "execution_count": null,
      "outputs": [
        {
          "output_type": "stream",
          "text": [
            "Mounted at /content/drive/\n"
          ],
          "name": "stdout"
        }
      ]
    },
    {
      "cell_type": "code",
      "metadata": {
        "id": "z6kqe9uJPFdu"
      },
      "source": [
        "import pandas as pd\n",
        "import seaborn as sns\n",
        "import matplotlib.pyplot as plt\n",
        "import numpy as np"
      ],
      "execution_count": null,
      "outputs": []
    },
    {
      "cell_type": "code",
      "metadata": {
        "id": "KwU6O-T3RBk1"
      },
      "source": [
        "from sklearn.linear_model import LinearRegression\n",
        "from sklearn.model_selection import train_test_split\n",
        "from sklearn.preprocessing import OneHotEncoder\n",
        "from sklearn import metrics\n",
        "from sklearn.tree import DecisionTreeRegressor\n",
        "from sklearn.ensemble import RandomForestRegressor\n",
        "from sklearn.preprocessing import PolynomialFeatures"
      ],
      "execution_count": null,
      "outputs": []
    },
    {
      "cell_type": "code",
      "metadata": {
        "id": "dFDRkNtuPKCo"
      },
      "source": [
        "train = pd.read_csv('train.csv')\n",
        "test = pd.read_csv('test.csv')\n",
        "sale_df = train"
      ],
      "execution_count": null,
      "outputs": []
    },
    {
      "cell_type": "markdown",
      "metadata": {
        "id": "hO3Ij2qWNIc7"
      },
      "source": [
        "##**1.1. Variable Identification**"
      ]
    },
    {
      "cell_type": "markdown",
      "metadata": {
        "id": "jmdMuSlqPZDI"
      },
      "source": [
        "The Black Friday Sale Dataset Consist of two files (train.csv and test.csv).\n",
        "\n",
        "The train dataset includes 11 attributes (*User_ID, Product_ID, Gender, Age, Occupation, City_Category, Stay_In_Current_City_Years, Marital_Status, Product_Category_1, Product_Category_2, Product_Category_3, Purchase*) with both numirical and categorical data of total 550068 rows of values."
      ]
    },
    {
      "cell_type": "code",
      "metadata": {
        "colab": {
          "base_uri": "https://localhost:8080/"
        },
        "id": "Vc2g9WF8MTJV",
        "outputId": "4c03fcb5-37c9-4080-ebac-3948b61bfff6"
      },
      "source": [
        "sale_df.info()"
      ],
      "execution_count": null,
      "outputs": [
        {
          "output_type": "stream",
          "text": [
            "<class 'pandas.core.frame.DataFrame'>\n",
            "RangeIndex: 550068 entries, 0 to 550067\n",
            "Data columns (total 12 columns):\n",
            " #   Column                      Non-Null Count   Dtype  \n",
            "---  ------                      --------------   -----  \n",
            " 0   User_ID                     550068 non-null  int64  \n",
            " 1   Product_ID                  550068 non-null  object \n",
            " 2   Gender                      550068 non-null  object \n",
            " 3   Age                         550068 non-null  object \n",
            " 4   Occupation                  550068 non-null  int64  \n",
            " 5   City_Category               550068 non-null  object \n",
            " 6   Stay_In_Current_City_Years  550068 non-null  object \n",
            " 7   Marital_Status              550068 non-null  int64  \n",
            " 8   Product_Category_1          550068 non-null  int64  \n",
            " 9   Product_Category_2          376430 non-null  float64\n",
            " 10  Product_Category_3          166821 non-null  float64\n",
            " 11  Purchase                    550068 non-null  int64  \n",
            "dtypes: float64(2), int64(5), object(5)\n",
            "memory usage: 50.4+ MB\n"
          ],
          "name": "stdout"
        }
      ]
    },
    {
      "cell_type": "markdown",
      "metadata": {
        "id": "ek76TIaVGqbg"
      },
      "source": [
        "The dataset consist of different data types which can be changed if required.\n",
        "\n",
        "Most column attributes has non null value except for two attributes (*Product_Category_2 and Product_Category_3*). We will deal with the null values in the Missing Values Treatment Section."
      ]
    },
    {
      "cell_type": "code",
      "metadata": {
        "colab": {
          "base_uri": "https://localhost:8080/"
        },
        "id": "nNtlpvKpMrsP",
        "outputId": "d3132f97-7d79-46c0-f25e-c3256d3cdbfe"
      },
      "source": [
        "sale_df.info()"
      ],
      "execution_count": null,
      "outputs": [
        {
          "output_type": "stream",
          "text": [
            "<class 'pandas.core.frame.DataFrame'>\n",
            "RangeIndex: 550068 entries, 0 to 550067\n",
            "Data columns (total 12 columns):\n",
            " #   Column                      Non-Null Count   Dtype  \n",
            "---  ------                      --------------   -----  \n",
            " 0   User_ID                     550068 non-null  int64  \n",
            " 1   Product_ID                  550068 non-null  object \n",
            " 2   Gender                      550068 non-null  object \n",
            " 3   Age                         550068 non-null  object \n",
            " 4   Occupation                  550068 non-null  int64  \n",
            " 5   City_Category               550068 non-null  object \n",
            " 6   Stay_In_Current_City_Years  550068 non-null  object \n",
            " 7   Marital_Status              550068 non-null  int64  \n",
            " 8   Product_Category_1          550068 non-null  int64  \n",
            " 9   Product_Category_2          376430 non-null  float64\n",
            " 10  Product_Category_3          166821 non-null  float64\n",
            " 11  Purchase                    550068 non-null  int64  \n",
            "dtypes: float64(2), int64(5), object(5)\n",
            "memory usage: 50.4+ MB\n"
          ],
          "name": "stdout"
        }
      ]
    },
    {
      "cell_type": "markdown",
      "metadata": {
        "id": "3Iz6RtuHUdJL"
      },
      "source": [
        "The test.csv dataset does not include purchase information which is the target variable we want to predict. So we have decided to work with train dataset which is big enough for splitting it into training and testing sets."
      ]
    },
    {
      "cell_type": "code",
      "metadata": {
        "colab": {
          "base_uri": "https://localhost:8080/",
          "height": 284
        },
        "id": "rtmpYwduVYje",
        "outputId": "65c91870-b505-46ee-b1d1-59270e4c677b"
      },
      "source": [
        "sale_df.describe()"
      ],
      "execution_count": null,
      "outputs": [
        {
          "output_type": "execute_result",
          "data": {
            "text/html": [
              "<div>\n",
              "<style scoped>\n",
              "    .dataframe tbody tr th:only-of-type {\n",
              "        vertical-align: middle;\n",
              "    }\n",
              "\n",
              "    .dataframe tbody tr th {\n",
              "        vertical-align: top;\n",
              "    }\n",
              "\n",
              "    .dataframe thead th {\n",
              "        text-align: right;\n",
              "    }\n",
              "</style>\n",
              "<table border=\"1\" class=\"dataframe\">\n",
              "  <thead>\n",
              "    <tr style=\"text-align: right;\">\n",
              "      <th></th>\n",
              "      <th>User_ID</th>\n",
              "      <th>Occupation</th>\n",
              "      <th>Marital_Status</th>\n",
              "      <th>Product_Category_1</th>\n",
              "      <th>Product_Category_2</th>\n",
              "      <th>Product_Category_3</th>\n",
              "      <th>Purchase</th>\n",
              "    </tr>\n",
              "  </thead>\n",
              "  <tbody>\n",
              "    <tr>\n",
              "      <th>count</th>\n",
              "      <td>5.500680e+05</td>\n",
              "      <td>550068.000000</td>\n",
              "      <td>550068.000000</td>\n",
              "      <td>550068.000000</td>\n",
              "      <td>376430.000000</td>\n",
              "      <td>166821.000000</td>\n",
              "      <td>550068.000000</td>\n",
              "    </tr>\n",
              "    <tr>\n",
              "      <th>mean</th>\n",
              "      <td>1.003029e+06</td>\n",
              "      <td>8.076707</td>\n",
              "      <td>0.409653</td>\n",
              "      <td>5.404270</td>\n",
              "      <td>9.842329</td>\n",
              "      <td>12.668243</td>\n",
              "      <td>9263.968713</td>\n",
              "    </tr>\n",
              "    <tr>\n",
              "      <th>std</th>\n",
              "      <td>1.727592e+03</td>\n",
              "      <td>6.522660</td>\n",
              "      <td>0.491770</td>\n",
              "      <td>3.936211</td>\n",
              "      <td>5.086590</td>\n",
              "      <td>4.125338</td>\n",
              "      <td>5023.065394</td>\n",
              "    </tr>\n",
              "    <tr>\n",
              "      <th>min</th>\n",
              "      <td>1.000001e+06</td>\n",
              "      <td>0.000000</td>\n",
              "      <td>0.000000</td>\n",
              "      <td>1.000000</td>\n",
              "      <td>2.000000</td>\n",
              "      <td>3.000000</td>\n",
              "      <td>12.000000</td>\n",
              "    </tr>\n",
              "    <tr>\n",
              "      <th>25%</th>\n",
              "      <td>1.001516e+06</td>\n",
              "      <td>2.000000</td>\n",
              "      <td>0.000000</td>\n",
              "      <td>1.000000</td>\n",
              "      <td>5.000000</td>\n",
              "      <td>9.000000</td>\n",
              "      <td>5823.000000</td>\n",
              "    </tr>\n",
              "    <tr>\n",
              "      <th>50%</th>\n",
              "      <td>1.003077e+06</td>\n",
              "      <td>7.000000</td>\n",
              "      <td>0.000000</td>\n",
              "      <td>5.000000</td>\n",
              "      <td>9.000000</td>\n",
              "      <td>14.000000</td>\n",
              "      <td>8047.000000</td>\n",
              "    </tr>\n",
              "    <tr>\n",
              "      <th>75%</th>\n",
              "      <td>1.004478e+06</td>\n",
              "      <td>14.000000</td>\n",
              "      <td>1.000000</td>\n",
              "      <td>8.000000</td>\n",
              "      <td>15.000000</td>\n",
              "      <td>16.000000</td>\n",
              "      <td>12054.000000</td>\n",
              "    </tr>\n",
              "    <tr>\n",
              "      <th>max</th>\n",
              "      <td>1.006040e+06</td>\n",
              "      <td>20.000000</td>\n",
              "      <td>1.000000</td>\n",
              "      <td>20.000000</td>\n",
              "      <td>18.000000</td>\n",
              "      <td>18.000000</td>\n",
              "      <td>23961.000000</td>\n",
              "    </tr>\n",
              "  </tbody>\n",
              "</table>\n",
              "</div>"
            ],
            "text/plain": [
              "            User_ID     Occupation  ...  Product_Category_3       Purchase\n",
              "count  5.500680e+05  550068.000000  ...       166821.000000  550068.000000\n",
              "mean   1.003029e+06       8.076707  ...           12.668243    9263.968713\n",
              "std    1.727592e+03       6.522660  ...            4.125338    5023.065394\n",
              "min    1.000001e+06       0.000000  ...            3.000000      12.000000\n",
              "25%    1.001516e+06       2.000000  ...            9.000000    5823.000000\n",
              "50%    1.003077e+06       7.000000  ...           14.000000    8047.000000\n",
              "75%    1.004478e+06      14.000000  ...           16.000000   12054.000000\n",
              "max    1.006040e+06      20.000000  ...           18.000000   23961.000000\n",
              "\n",
              "[8 rows x 7 columns]"
            ]
          },
          "metadata": {
            "tags": []
          },
          "execution_count": 14
        }
      ]
    },
    {
      "cell_type": "code",
      "metadata": {
        "colab": {
          "base_uri": "https://localhost:8080/",
          "height": 160
        },
        "id": "2nli4deXaZoH",
        "outputId": "93c072d2-1434-4e45-94ce-defc613f80ad"
      },
      "source": [
        "sale_df.head(2)"
      ],
      "execution_count": null,
      "outputs": [
        {
          "output_type": "execute_result",
          "data": {
            "text/html": [
              "<div>\n",
              "<style scoped>\n",
              "    .dataframe tbody tr th:only-of-type {\n",
              "        vertical-align: middle;\n",
              "    }\n",
              "\n",
              "    .dataframe tbody tr th {\n",
              "        vertical-align: top;\n",
              "    }\n",
              "\n",
              "    .dataframe thead th {\n",
              "        text-align: right;\n",
              "    }\n",
              "</style>\n",
              "<table border=\"1\" class=\"dataframe\">\n",
              "  <thead>\n",
              "    <tr style=\"text-align: right;\">\n",
              "      <th></th>\n",
              "      <th>User_ID</th>\n",
              "      <th>Product_ID</th>\n",
              "      <th>Gender</th>\n",
              "      <th>Age</th>\n",
              "      <th>Occupation</th>\n",
              "      <th>City_Category</th>\n",
              "      <th>Stay_In_Current_City_Years</th>\n",
              "      <th>Marital_Status</th>\n",
              "      <th>Product_Category_1</th>\n",
              "      <th>Product_Category_2</th>\n",
              "      <th>Product_Category_3</th>\n",
              "      <th>Purchase</th>\n",
              "    </tr>\n",
              "  </thead>\n",
              "  <tbody>\n",
              "    <tr>\n",
              "      <th>0</th>\n",
              "      <td>1000001</td>\n",
              "      <td>P00069042</td>\n",
              "      <td>F</td>\n",
              "      <td>0-17</td>\n",
              "      <td>10</td>\n",
              "      <td>A</td>\n",
              "      <td>2</td>\n",
              "      <td>0</td>\n",
              "      <td>3</td>\n",
              "      <td>NaN</td>\n",
              "      <td>NaN</td>\n",
              "      <td>8370</td>\n",
              "    </tr>\n",
              "    <tr>\n",
              "      <th>1</th>\n",
              "      <td>1000001</td>\n",
              "      <td>P00248942</td>\n",
              "      <td>F</td>\n",
              "      <td>0-17</td>\n",
              "      <td>10</td>\n",
              "      <td>A</td>\n",
              "      <td>2</td>\n",
              "      <td>0</td>\n",
              "      <td>1</td>\n",
              "      <td>6.0</td>\n",
              "      <td>14.0</td>\n",
              "      <td>15200</td>\n",
              "    </tr>\n",
              "  </tbody>\n",
              "</table>\n",
              "</div>"
            ],
            "text/plain": [
              "   User_ID Product_ID Gender  ... Product_Category_2  Product_Category_3 Purchase\n",
              "0  1000001  P00069042      F  ...                NaN                 NaN     8370\n",
              "1  1000001  P00248942      F  ...                6.0                14.0    15200\n",
              "\n",
              "[2 rows x 12 columns]"
            ]
          },
          "metadata": {
            "tags": []
          },
          "execution_count": 15
        }
      ]
    },
    {
      "cell_type": "markdown",
      "metadata": {
        "id": "wizIZhMXSxeH"
      },
      "source": [
        "**Type of Variable:**\n",
        "\n",
        "**Categorical Variable:** User_ID, Product_ID, Gender, Age, Occupation, City_Category, Stay_In_Current_City_Years, Marital_Status, Product_Category_1\tProduct_Category_2\tProduct_Category_3.\n",
        "\n",
        "\n",
        "**Continuous Variable:** Purchase"
      ]
    },
    {
      "cell_type": "markdown",
      "metadata": {
        "id": "HzqQRqogNQim"
      },
      "source": [
        ""
      ]
    },
    {
      "cell_type": "markdown",
      "metadata": {
        "id": "sz9VxH_cajiZ"
      },
      "source": [
        "##**1.2. Univariate Analysis**"
      ]
    },
    {
      "cell_type": "markdown",
      "metadata": {
        "id": "i4mHNerxanE9"
      },
      "source": [
        "###**1.2.1. User_ID**"
      ]
    },
    {
      "cell_type": "code",
      "metadata": {
        "colab": {
          "base_uri": "https://localhost:8080/"
        },
        "id": "q0e4ZDOIann_",
        "outputId": "556bd1c3-d7e9-41f3-f531-e93d779a40cd"
      },
      "source": [
        "total_unique_user_id = len(sale_df['User_ID'].unique())\n",
        "print('Total Unique User ID:', total_unique_user_id)"
      ],
      "execution_count": null,
      "outputs": [
        {
          "output_type": "stream",
          "text": [
            "Total Unique User ID: 5891\n"
          ],
          "name": "stdout"
        }
      ]
    },
    {
      "cell_type": "markdown",
      "metadata": {
        "id": "46cz5cidb61C"
      },
      "source": [
        "###**1.2.2. Product_ID**"
      ]
    },
    {
      "cell_type": "code",
      "metadata": {
        "colab": {
          "base_uri": "https://localhost:8080/"
        },
        "id": "2Tcwnzr4b4Nt",
        "outputId": "aecd631a-c606-4663-ca99-37dd87d8d2ae"
      },
      "source": [
        "total_unique_product_id = len(sale_df['Product_ID'].unique())\n",
        "print('Total Unique Product ID:', total_unique_product_id)"
      ],
      "execution_count": null,
      "outputs": [
        {
          "output_type": "stream",
          "text": [
            "Total Unique Product ID: 3631\n"
          ],
          "name": "stdout"
        }
      ]
    },
    {
      "cell_type": "markdown",
      "metadata": {
        "id": "KrcIkeqnbvjA"
      },
      "source": [
        "###**1.2.3. Gender**"
      ]
    },
    {
      "cell_type": "code",
      "metadata": {
        "colab": {
          "base_uri": "https://localhost:8080/",
          "height": 327
        },
        "id": "DkqaZoCKbL1i",
        "outputId": "a245688e-94e4-4691-e3c7-293a4a503827"
      },
      "source": [
        "gender_barplot = sale_df['Gender'].value_counts().plot(kind='bar')\n",
        "gender_barplot.set_xlabel('Gender')\n",
        "gender_barplot.set_ylabel('Count')\n",
        "sns.despine()\n",
        "gender_barplot.set_title('Gender Count', fontsize = 15, pad = 20, loc = 'left', weight = 'bold')"
      ],
      "execution_count": null,
      "outputs": [
        {
          "output_type": "execute_result",
          "data": {
            "text/plain": [
              "Text(0.0, 1.0, 'Gender Count')"
            ]
          },
          "metadata": {
            "tags": []
          },
          "execution_count": 71
        },
        {
          "output_type": "display_data",
          "data": {
            "image/png": "[encoded data removed]",
            "text/plain": [
              "<Figure size 432x288 with 1 Axes>"
            ]
          },
          "metadata": {
            "tags": [],
            "needs_background": "light"
          }
        }
      ]
    },
    {
      "cell_type": "markdown",
      "metadata": {
        "id": "3IWxoqpHcUST"
      },
      "source": [
        "###**1.2.4. Age**"
      ]
    },
    {
      "cell_type": "code",
      "metadata": {
        "colab": {
          "base_uri": "https://localhost:8080/",
          "height": 347
        },
        "id": "tk8R4tqscYnU",
        "outputId": "a74067d4-dd4a-4296-ee97-2dc620149203"
      },
      "source": [
        "# sale_df['Age'].value_counts().plot(kind='bar')\n",
        "age_barplot = sale_df['Age'].value_counts().plot(kind='bar')\n",
        "age_barplot.set_xlabel('Age')\n",
        "age_barplot.set_ylabel('Count')\n",
        "sns.despine()\n",
        "age_barplot.set_title('AGE', fontsize = 15, pad = 20, loc = 'left', weight = 'bold')"
      ],
      "execution_count": null,
      "outputs": [
        {
          "output_type": "execute_result",
          "data": {
            "text/plain": [
              "Text(0.0, 1.0, 'AGE')"
            ]
          },
          "metadata": {
            "tags": []
          },
          "execution_count": 72
        },
        {
          "output_type": "display_data",
          "data": {
            "image/png": "[encoded data removed]",
            "text/plain": [
              "<Figure size 432x288 with 1 Axes>"
            ]
          },
          "metadata": {
            "tags": [],
            "needs_background": "light"
          }
        }
      ]
    },
    {
      "cell_type": "markdown",
      "metadata": {
        "id": "UPFBq7D1crzT"
      },
      "source": [
        "###**1.2.5. Occupation**"
      ]
    },
    {
      "cell_type": "code",
      "metadata": {
        "colab": {
          "base_uri": "https://localhost:8080/",
          "height": 331
        },
        "id": "XYLK7XlDdY4L",
        "outputId": "9f04542a-cd51-4ca9-f387-6beb238c0288"
      },
      "source": [
        "# sale_df['Occupation'].value_counts().plot(kind='bar')\n",
        "occupation_barplot = sale_df['Occupation'].value_counts().plot(kind='bar')\n",
        "occupation_barplot.set_xlabel('Occupation')\n",
        "occupation_barplot.set_ylabel('Count')\n",
        "sns.despine()\n",
        "occupation_barplot.set_title('OCCUPATION', fontsize = 15, pad = 20, loc = 'left', weight = 'bold')"
      ],
      "execution_count": null,
      "outputs": [
        {
          "output_type": "execute_result",
          "data": {
            "text/plain": [
              "Text(0.0, 1.0, 'OCCUPATION')"
            ]
          },
          "metadata": {
            "tags": []
          },
          "execution_count": 73
        },
        {
          "output_type": "display_data",
          "data": {
            "image/png": "[encoded data removed]",
            "text/plain": [
              "<Figure size 432x288 with 1 Axes>"
            ]
          },
          "metadata": {
            "tags": [],
            "needs_background": "light"
          }
        }
      ]
    },
    {
      "cell_type": "markdown",
      "metadata": {
        "id": "Vg46PYMwct9Z"
      },
      "source": [
        "###**1.2.6. City_Category**"
      ]
    },
    {
      "cell_type": "code",
      "metadata": {
        "colab": {
          "base_uri": "https://localhost:8080/",
          "height": 326
        },
        "id": "OnK2GS40dcLH",
        "outputId": "ded08383-5f2d-44aa-9ef5-ccb4fedd3ebb"
      },
      "source": [
        "# sale_df['City_Category'].value_counts().plot(kind='bar')\n",
        "city_barplot = sale_df['City_Category'].value_counts().plot(kind='bar')\n",
        "city_barplot.set_xlabel('City_Category')\n",
        "city_barplot.set_ylabel('Count')\n",
        "sns.despine()\n",
        "city_barplot.set_title('City_Category', fontsize = 15, pad = 20, loc = 'left', weight = 'bold')"
      ],
      "execution_count": null,
      "outputs": [
        {
          "output_type": "execute_result",
          "data": {
            "text/plain": [
              "Text(0.0, 1.0, 'City_Category')"
            ]
          },
          "metadata": {
            "tags": []
          },
          "execution_count": 74
        },
        {
          "output_type": "display_data",
          "data": {
            "image/png": "[encoded data removed]",
            "text/plain": [
              "<Figure size 432x288 with 1 Axes>"
            ]
          },
          "metadata": {
            "tags": [],
            "needs_background": "light"
          }
        }
      ]
    },
    {
      "cell_type": "markdown",
      "metadata": {
        "id": "Q3mFSj8Xcugi"
      },
      "source": [
        "###**1.2.7. Stay_In_Current_City_Years**"
      ]
    },
    {
      "cell_type": "code",
      "metadata": {
        "colab": {
          "base_uri": "https://localhost:8080/",
          "height": 334
        },
        "id": "_iovKlobJaJw",
        "outputId": "6dc53852-c80f-450f-9805-63e7124dfe39"
      },
      "source": [
        "# sale_df['Stay_In_Current_City_Years'].unique()\n",
        "stay_barplot = sale_df['Stay_In_Current_City_Years'].value_counts().plot(kind='bar')\n",
        "stay_barplot.set_xlabel('Stay_In_Current_City_Years')\n",
        "stay_barplot.set_ylabel('Count')\n",
        "sns.despine()\n",
        "stay_barplot.set_title('Stay_In_Current_City_Years', fontsize = 15, pad = 20, loc = 'left', weight = 'bold')"
      ],
      "execution_count": null,
      "outputs": [
        {
          "output_type": "execute_result",
          "data": {
            "text/plain": [
              "Text(0.0, 1.0, 'Stay_In_Current_City_Years')"
            ]
          },
          "metadata": {
            "tags": []
          },
          "execution_count": 76
        },
        {
          "output_type": "display_data",
          "data": {
            "image/png": "[encoded data removed]",
            "text/plain": [
              "<Figure size 432x288 with 1 Axes>"
            ]
          },
          "metadata": {
            "tags": [],
            "needs_background": "light"
          }
        }
      ]
    },
    {
      "cell_type": "markdown",
      "metadata": {
        "id": "jP81IFS-cvGW"
      },
      "source": [
        "###**1.2.8. Marital_Status**"
      ]
    },
    {
      "cell_type": "code",
      "metadata": {
        "colab": {
          "base_uri": "https://localhost:8080/",
          "height": 326
        },
        "id": "c4GWpC3KdoRN",
        "outputId": "37ba84e2-442a-44c6-b1ea-b574e8043710"
      },
      "source": [
        "marital_barplot = sale_df['Marital_Status'].value_counts().plot(kind='bar')\n",
        "marital_barplot.set_xlabel('Marital_Status')\n",
        "marital_barplot.set_ylabel('Count')\n",
        "sns.despine()\n",
        "marital_barplot.set_title('Marital_Status', fontsize = 15, pad = 20, loc = 'left', weight = 'bold')"
      ],
      "execution_count": null,
      "outputs": [
        {
          "output_type": "execute_result",
          "data": {
            "text/plain": [
              "Text(0.0, 1.0, 'Marital_Status')"
            ]
          },
          "metadata": {
            "tags": []
          },
          "execution_count": 77
        },
        {
          "output_type": "display_data",
          "data": {
            "image/png": "[encoded data removed]",
            "text/plain": [
              "<Figure size 432x288 with 1 Axes>"
            ]
          },
          "metadata": {
            "tags": [],
            "needs_background": "light"
          }
        }
      ]
    },
    {
      "cell_type": "markdown",
      "metadata": {
        "id": "tZaOxDS7cvfB"
      },
      "source": [
        "###**1.2.9. Product_Category_1**"
      ]
    },
    {
      "cell_type": "code",
      "metadata": {
        "colab": {
          "base_uri": "https://localhost:8080/",
          "height": 332
        },
        "id": "dc5t5eEHdv4F",
        "outputId": "274f6b1b-4c06-4409-da5b-36d6b89e3212"
      },
      "source": [
        "# sale_df['Product_Category_1'].value_counts().plot(kind='bar')\n",
        "product1_barplot = sale_df['Product_Category_1'].value_counts().plot(kind='bar')\n",
        "product1_barplot.set_xlabel('Product_Category_1')\n",
        "product1_barplot.set_ylabel('Count')\n",
        "sns.despine()\n",
        "product1_barplot.set_title('Product_Category_1', fontsize = 15, pad = 20, loc = 'left', weight = 'bold')"
      ],
      "execution_count": null,
      "outputs": [
        {
          "output_type": "execute_result",
          "data": {
            "text/plain": [
              "Text(0.0, 1.0, 'Product_Category_1')"
            ]
          },
          "metadata": {
            "tags": []
          },
          "execution_count": 78
        },
        {
          "output_type": "display_data",
          "data": {
            "image/png": "[encoded data removed]",
            "text/plain": [
              "<Figure size 432x288 with 1 Axes>"
            ]
          },
          "metadata": {
            "tags": [],
            "needs_background": "light"
          }
        }
      ]
    },
    {
      "cell_type": "markdown",
      "metadata": {
        "id": "YQAPNhCkdJh2"
      },
      "source": [
        "###**1.2.10. Product_Category_2**"
      ]
    },
    {
      "cell_type": "code",
      "metadata": {
        "colab": {
          "base_uri": "https://localhost:8080/",
          "height": 341
        },
        "id": "bgfTt66Pdz7X",
        "outputId": "4ad235b2-ca43-4320-959a-5c551c52ce36"
      },
      "source": [
        "# sale_df['Product_Category_2'].value_counts().plot(kind='bar')\n",
        "product2_barplot = sale_df['Product_Category_2'].value_counts().plot(kind='bar')\n",
        "product2_barplot.set_xlabel('Product_Category_2')\n",
        "product2_barplot.set_ylabel('Count')\n",
        "sns.despine()\n",
        "product2_barplot.set_title('Product_Category_2', fontsize = 15, pad = 20, loc = 'left', weight = 'bold')"
      ],
      "execution_count": null,
      "outputs": [
        {
          "output_type": "execute_result",
          "data": {
            "text/plain": [
              "Text(0.0, 1.0, 'Product_Category_2')"
            ]
          },
          "metadata": {
            "tags": []
          },
          "execution_count": 79
        },
        {
          "output_type": "display_data",
          "data": {
            "image/png": "[encoded data removed]",
            "text/plain": [
              "<Figure size 432x288 with 1 Axes>"
            ]
          },
          "metadata": {
            "tags": [],
            "needs_background": "light"
          }
        }
      ]
    },
    {
      "cell_type": "markdown",
      "metadata": {
        "id": "k583qquSdKuM"
      },
      "source": [
        "###**1.2.11. Product_Category_3**"
      ]
    },
    {
      "cell_type": "code",
      "metadata": {
        "colab": {
          "base_uri": "https://localhost:8080/"
        },
        "id": "iepTC0Djd4Ye",
        "outputId": "fe4d52b6-fda9-40bf-9bf4-501af5670e13"
      },
      "source": [
        "sale_df['Product_Category_3'].value_counts().plot(kind='bar')"
      ],
      "execution_count": null,
      "outputs": [
        {
          "output_type": "execute_result",
          "data": {
            "text/plain": [
              "<matplotlib.axes._subplots.AxesSubplot at 0x7f828eea6490>"
            ]
          },
          "metadata": {
            "tags": []
          },
          "execution_count": 27
        },
        {
          "output_type": "display_data",
          "data": {
            "image/png": "[encoded data removed]",
            "text/plain": [
              "<Figure size 432x288 with 1 Axes>"
            ]
          },
          "metadata": {
            "tags": [],
            "needs_background": "light"
          }
        }
      ]
    },
    {
      "cell_type": "markdown",
      "metadata": {
        "id": "eL80R6speWfQ"
      },
      "source": [
        "###**1.2.12. Purchase**"
      ]
    },
    {
      "cell_type": "markdown",
      "metadata": {
        "id": "8iXLT_iHkTRF"
      },
      "source": [
        "The Purchase atribute in the dataset does not have any description on it's unit measure. It is numeric and **continuous** with statistical characteristics (Min: 12, Max: 23961, Mean: 9264, Std: 5023).\n",
        "\n",
        "There does not seems to be any outlier values in this attribute as purchase values can range from low as 12 to high as 23961."
      ]
    },
    {
      "cell_type": "code",
      "metadata": {
        "colab": {
          "base_uri": "https://localhost:8080/"
        },
        "id": "-NKXrei6kGay",
        "outputId": "89aee13c-12f2-4cbd-ae0d-2b46cc412da0"
      },
      "source": [
        "sale_df['Purchase'].describe()"
      ],
      "execution_count": null,
      "outputs": [
        {
          "output_type": "execute_result",
          "data": {
            "text/plain": [
              "count    550068.000000\n",
              "mean       9263.968713\n",
              "std        5023.065394\n",
              "min          12.000000\n",
              "25%        5823.000000\n",
              "50%        8047.000000\n",
              "75%       12054.000000\n",
              "max       23961.000000\n",
              "Name: Purchase, dtype: float64"
            ]
          },
          "metadata": {
            "tags": []
          },
          "execution_count": 28
        }
      ]
    },
    {
      "cell_type": "code",
      "metadata": {
        "colab": {
          "base_uri": "https://localhost:8080/"
        },
        "id": "Ng7wOwfneYCb",
        "outputId": "5c9e0523-88d0-4656-88bd-287bee30c207"
      },
      "source": [
        "purchase_boxplot = sale_df.boxplot(column = ['Purchase'], grid = True)\n",
        "sns.despine()\n",
        "purchase_boxplot.set_title('Purchase', fontsize = 15, pad = 20, loc = 'left', weight = 'bold')"
      ],
      "execution_count": null,
      "outputs": [
        {
          "output_type": "execute_result",
          "data": {
            "text/plain": [
              "Text(0.0, 1.0, 'Purchase')"
            ]
          },
          "metadata": {
            "tags": []
          },
          "execution_count": 29
        },
        {
          "output_type": "display_data",
          "data": {
            "image/png": "[encoded data removed]",
            "text/plain": [
              "<Figure size 432x288 with 1 Axes>"
            ]
          },
          "metadata": {
            "tags": [],
            "needs_background": "light"
          }
        }
      ]
    },
    {
      "cell_type": "code",
      "metadata": {
        "colab": {
          "base_uri": "https://localhost:8080/"
        },
        "id": "iX4JLFYPKRIh",
        "outputId": "9f30c354-f0cb-459b-961e-43f509b4b348"
      },
      "source": [
        "sale_df.hist('Purchase', bins = 50)\n",
        "plt.title('Purchase Distribution', fontsize = 15, pad = 20, loc = 'center', weight = 'bold')"
      ],
      "execution_count": null,
      "outputs": [
        {
          "output_type": "execute_result",
          "data": {
            "text/plain": [
              "Text(0.5, 1.0, 'Purchase Distribution')"
            ]
          },
          "metadata": {
            "tags": []
          },
          "execution_count": 30
        },
        {
          "output_type": "display_data",
          "data": {
            "image/png": "[encoded data removed]",
            "text/plain": [
              "<Figure size 432x288 with 1 Axes>"
            ]
          },
          "metadata": {
            "tags": [],
            "needs_background": "light"
          }
        }
      ]
    },
    {
      "cell_type": "code",
      "metadata": {
        "colab": {
          "base_uri": "https://localhost:8080/"
        },
        "id": "kBDUWTx3Hpk2",
        "outputId": "75ddbcd9-aff4-4eb3-b896-57593487c8d0"
      },
      "source": [
        "sale_df.loc[train['Product_ID'] == 'P00069042', 'Purchase']"
      ],
      "execution_count": null,
      "outputs": [
        {
          "output_type": "execute_result",
          "data": {
            "text/plain": [
              "0          8370\n",
              "825       10715\n",
              "3314      11037\n",
              "4224       8009\n",
              "5864      13346\n",
              "          ...  \n",
              "539484    13483\n",
              "540849    10895\n",
              "543419    11047\n",
              "544454    13557\n",
              "545219    13241\n",
              "Name: Purchase, Length: 227, dtype: int64"
            ]
          },
          "metadata": {
            "tags": []
          },
          "execution_count": 31
        }
      ]
    },
    {
      "cell_type": "markdown",
      "metadata": {
        "id": "N5uqNQThJ-9c"
      },
      "source": [
        "We can observe that the product id corresponds to variable purchase values."
      ]
    },
    {
      "cell_type": "code",
      "metadata": {
        "colab": {
          "base_uri": "https://localhost:8080/"
        },
        "id": "D1KFI7LsJeno",
        "outputId": "54cb32ca-9e1a-4a9b-c67f-82a8be7836be"
      },
      "source": [
        "sale_df[sale_df.index == 0]"
      ],
      "execution_count": null,
      "outputs": [
        {
          "output_type": "execute_result",
          "data": {
            "text/html": [
              "<div>\n",
              "<style scoped>\n",
              "    .dataframe tbody tr th:only-of-type {\n",
              "        vertical-align: middle;\n",
              "    }\n",
              "\n",
              "    .dataframe tbody tr th {\n",
              "        vertical-align: top;\n",
              "    }\n",
              "\n",
              "    .dataframe thead th {\n",
              "        text-align: right;\n",
              "    }\n",
              "</style>\n",
              "<table border=\"1\" class=\"dataframe\">\n",
              "  <thead>\n",
              "    <tr style=\"text-align: right;\">\n",
              "      <th></th>\n",
              "      <th>User_ID</th>\n",
              "      <th>Product_ID</th>\n",
              "      <th>Gender</th>\n",
              "      <th>Age</th>\n",
              "      <th>Occupation</th>\n",
              "      <th>City_Category</th>\n",
              "      <th>Stay_In_Current_City_Years</th>\n",
              "      <th>Marital_Status</th>\n",
              "      <th>Product_Category_1</th>\n",
              "      <th>Product_Category_2</th>\n",
              "      <th>Product_Category_3</th>\n",
              "      <th>Purchase</th>\n",
              "    </tr>\n",
              "  </thead>\n",
              "  <tbody>\n",
              "    <tr>\n",
              "      <th>0</th>\n",
              "      <td>1000001</td>\n",
              "      <td>P00069042</td>\n",
              "      <td>F</td>\n",
              "      <td>0-17</td>\n",
              "      <td>10</td>\n",
              "      <td>A</td>\n",
              "      <td>2</td>\n",
              "      <td>0</td>\n",
              "      <td>3</td>\n",
              "      <td>NaN</td>\n",
              "      <td>NaN</td>\n",
              "      <td>8370</td>\n",
              "    </tr>\n",
              "  </tbody>\n",
              "</table>\n",
              "</div>"
            ],
            "text/plain": [
              "   User_ID Product_ID Gender  ... Product_Category_2  Product_Category_3 Purchase\n",
              "0  1000001  P00069042      F  ...                NaN                 NaN     8370\n",
              "\n",
              "[1 rows x 12 columns]"
            ]
          },
          "metadata": {
            "tags": []
          },
          "execution_count": 32
        }
      ]
    },
    {
      "cell_type": "code",
      "metadata": {
        "colab": {
          "base_uri": "https://localhost:8080/"
        },
        "id": "OmQF8x0uI9tC",
        "outputId": "b56bc8d4-d582-4bcf-d4f4-77e9e4cf7849"
      },
      "source": [
        "sale_df[sale_df.index == 825]"
      ],
      "execution_count": null,
      "outputs": [
        {
          "output_type": "execute_result",
          "data": {
            "text/html": [
              "<div>\n",
              "<style scoped>\n",
              "    .dataframe tbody tr th:only-of-type {\n",
              "        vertical-align: middle;\n",
              "    }\n",
              "\n",
              "    .dataframe tbody tr th {\n",
              "        vertical-align: top;\n",
              "    }\n",
              "\n",
              "    .dataframe thead th {\n",
              "        text-align: right;\n",
              "    }\n",
              "</style>\n",
              "<table border=\"1\" class=\"dataframe\">\n",
              "  <thead>\n",
              "    <tr style=\"text-align: right;\">\n",
              "      <th></th>\n",
              "      <th>User_ID</th>\n",
              "      <th>Product_ID</th>\n",
              "      <th>Gender</th>\n",
              "      <th>Age</th>\n",
              "      <th>Occupation</th>\n",
              "      <th>City_Category</th>\n",
              "      <th>Stay_In_Current_City_Years</th>\n",
              "      <th>Marital_Status</th>\n",
              "      <th>Product_Category_1</th>\n",
              "      <th>Product_Category_2</th>\n",
              "      <th>Product_Category_3</th>\n",
              "      <th>Purchase</th>\n",
              "    </tr>\n",
              "  </thead>\n",
              "  <tbody>\n",
              "    <tr>\n",
              "      <th>825</th>\n",
              "      <td>1000149</td>\n",
              "      <td>P00069042</td>\n",
              "      <td>M</td>\n",
              "      <td>26-35</td>\n",
              "      <td>1</td>\n",
              "      <td>B</td>\n",
              "      <td>2</td>\n",
              "      <td>1</td>\n",
              "      <td>3</td>\n",
              "      <td>NaN</td>\n",
              "      <td>NaN</td>\n",
              "      <td>10715</td>\n",
              "    </tr>\n",
              "  </tbody>\n",
              "</table>\n",
              "</div>"
            ],
            "text/plain": [
              "     User_ID Product_ID  ... Product_Category_3 Purchase\n",
              "825  1000149  P00069042  ...                NaN    10715\n",
              "\n",
              "[1 rows x 12 columns]"
            ]
          },
          "metadata": {
            "tags": []
          },
          "execution_count": 33
        }
      ]
    },
    {
      "cell_type": "code",
      "metadata": {
        "colab": {
          "base_uri": "https://localhost:8080/"
        },
        "id": "qtKeOn9QJjfH",
        "outputId": "d55409b6-f83b-4cfd-f78f-6732eef40f2f"
      },
      "source": [
        "sale_df[sale_df.index == 545219]"
      ],
      "execution_count": null,
      "outputs": [
        {
          "output_type": "execute_result",
          "data": {
            "text/html": [
              "<div>\n",
              "<style scoped>\n",
              "    .dataframe tbody tr th:only-of-type {\n",
              "        vertical-align: middle;\n",
              "    }\n",
              "\n",
              "    .dataframe tbody tr th {\n",
              "        vertical-align: top;\n",
              "    }\n",
              "\n",
              "    .dataframe thead th {\n",
              "        text-align: right;\n",
              "    }\n",
              "</style>\n",
              "<table border=\"1\" class=\"dataframe\">\n",
              "  <thead>\n",
              "    <tr style=\"text-align: right;\">\n",
              "      <th></th>\n",
              "      <th>User_ID</th>\n",
              "      <th>Product_ID</th>\n",
              "      <th>Gender</th>\n",
              "      <th>Age</th>\n",
              "      <th>Occupation</th>\n",
              "      <th>City_Category</th>\n",
              "      <th>Stay_In_Current_City_Years</th>\n",
              "      <th>Marital_Status</th>\n",
              "      <th>Product_Category_1</th>\n",
              "      <th>Product_Category_2</th>\n",
              "      <th>Product_Category_3</th>\n",
              "      <th>Purchase</th>\n",
              "    </tr>\n",
              "  </thead>\n",
              "  <tbody>\n",
              "    <tr>\n",
              "      <th>545219</th>\n",
              "      <td>1005938</td>\n",
              "      <td>P00069042</td>\n",
              "      <td>M</td>\n",
              "      <td>26-35</td>\n",
              "      <td>1</td>\n",
              "      <td>C</td>\n",
              "      <td>1</td>\n",
              "      <td>1</td>\n",
              "      <td>3</td>\n",
              "      <td>NaN</td>\n",
              "      <td>NaN</td>\n",
              "      <td>13241</td>\n",
              "    </tr>\n",
              "  </tbody>\n",
              "</table>\n",
              "</div>"
            ],
            "text/plain": [
              "        User_ID Product_ID  ... Product_Category_3 Purchase\n",
              "545219  1005938  P00069042  ...                NaN    13241\n",
              "\n",
              "[1 rows x 12 columns]"
            ]
          },
          "metadata": {
            "tags": []
          },
          "execution_count": 34
        }
      ]
    },
    {
      "cell_type": "markdown",
      "metadata": {
        "id": "mA8NrX2cnhSn"
      },
      "source": [
        "##**1.3. Bi/Multivariate Analysis**"
      ]
    },
    {
      "cell_type": "markdown",
      "metadata": {
        "id": "-W7PxnZHoHZ1"
      },
      "source": [
        "###**1.3.1 Gender Vs Purchase**"
      ]
    },
    {
      "cell_type": "markdown",
      "metadata": {
        "id": "DyTpVrzkKg--"
      },
      "source": [
        "Gender Male seems to be spending more when compared with Female gender."
      ]
    },
    {
      "cell_type": "code",
      "metadata": {
        "colab": {
          "base_uri": "https://localhost:8080/",
          "height": 299
        },
        "id": "wu8ptGTloHpU",
        "outputId": "f6bbffa2-61e1-449a-fee5-29cb252b44ac"
      },
      "source": [
        "gender_money_spent = []\n",
        "genders = sale_df['Gender'].value_counts().index.tolist()\n",
        "for sex in genders:\n",
        "    gender_money_spent.append(sale_df[sale_df['Gender'] == sex]['Purchase'].mean())\n",
        "plt.bar(genders, gender_money_spent )\n",
        "plt.xlabel('Gender', fontsize=14)\n",
        "plt.ylabel('Purchase', fontsize=14)\n",
        "plt.title(\"PURCHASE BY GENDER\")\n",
        "plt.show()"
      ],
      "execution_count": null,
      "outputs": [
        {
          "output_type": "display_data",
          "data": {
            "image/png": "[encoded data removed]",
            "text/plain": [
              "<Figure size 432x288 with 1 Axes>"
            ]
          },
          "metadata": {
            "tags": [],
            "needs_background": "light"
          }
        }
      ]
    },
    {
      "cell_type": "markdown",
      "metadata": {
        "id": "2zdz4IE-pxZm"
      },
      "source": [
        "###**1.3.2 Age Vs Purchase**"
      ]
    },
    {
      "cell_type": "markdown",
      "metadata": {
        "id": "ArideLl0Mara"
      },
      "source": [
        "Customers in Age range 51-55 seems to be spending more when compared with other age groups. Although there is not much difference among all the age expenditure pattern."
      ]
    },
    {
      "cell_type": "code",
      "metadata": {
        "colab": {
          "base_uri": "https://localhost:8080/",
          "height": 299
        },
        "id": "j5ZvLp38pxl_",
        "outputId": "a20025e7-e0af-4cab-8223-daa293e02fe9"
      },
      "source": [
        "age_money_spent = []\n",
        "ages = sale_df['Age'].value_counts().index.tolist()\n",
        "for age in ages:\n",
        "    age_money_spent.append(sale_df[sale_df['Age'] == age]['Purchase'].mean())\n",
        "\n",
        "plt.bar(ages, age_money_spent )\n",
        "plt.xlabel('Age', fontsize=14)\n",
        "plt.ylabel('Purchase', fontsize=14)\n",
        "plt.title(\"PURCHASE BY AGE\")\n",
        "plt.show()"
      ],
      "execution_count": null,
      "outputs": [
        {
          "output_type": "display_data",
          "data": {
            "image/png": "[encoded data removed]",
            "text/plain": [
              "<Figure size 432x288 with 1 Axes>"
            ]
          },
          "metadata": {
            "tags": [],
            "needs_background": "light"
          }
        }
      ]
    },
    {
      "cell_type": "markdown",
      "metadata": {
        "id": "pulAivWIqYFK"
      },
      "source": [
        "###**1.3.3 Occupation Vs Purchase**"
      ]
    },
    {
      "cell_type": "markdown",
      "metadata": {
        "id": "Nh76ZWxRM0qn"
      },
      "source": [
        "There is some variation in the mean spending done among 21 Occupation categories, however the differences are not that drastic. Occupation 12 expenditure is the highest and 9 is the lowest."
      ]
    },
    {
      "cell_type": "code",
      "metadata": {
        "colab": {
          "base_uri": "https://localhost:8080/",
          "height": 316
        },
        "id": "5T2SmXlGqYeh",
        "outputId": "79d0216c-d710-470c-e5f3-b68888b227bb"
      },
      "source": [
        "occupation_spent_money = list()\n",
        "occupations = sale_df['Occupation'].value_counts().index.tolist()\n",
        "for oid in occupations:\n",
        "    occupation_spent_money.append(sale_df[sale_df['Occupation'] == oid]['Purchase'].mean())\n",
        "plt.bar(occupations, occupation_spent_money)\n",
        "plt.xlabel('Occupation', fontsize=14)\n",
        "plt.ylabel('Purchase', fontsize=14)\n",
        "plt.title(\"PURCHASE BY OCCUPATION\")\n"
      ],
      "execution_count": null,
      "outputs": [
        {
          "output_type": "execute_result",
          "data": {
            "text/plain": [
              "Text(0.5, 1.0, 'PURCHASE BY OCCUPATION')"
            ]
          },
          "metadata": {
            "tags": []
          },
          "execution_count": 93
        },
        {
          "output_type": "display_data",
          "data": {
            "image/png": "[encoded data removed]",
            "text/plain": [
              "<Figure size 432x288 with 1 Axes>"
            ]
          },
          "metadata": {
            "tags": [],
            "needs_background": "light"
          }
        }
      ]
    },
    {
      "cell_type": "markdown",
      "metadata": {
        "id": "HY00QOzNqYt5"
      },
      "source": [
        "###**1.3.4 City_Category Vs Purchase**"
      ]
    },
    {
      "cell_type": "markdown",
      "metadata": {
        "id": "cdtk8tHsQv-9"
      },
      "source": [
        "Mean spending among City_Category also shows some variations but not huge."
      ]
    },
    {
      "cell_type": "code",
      "metadata": {
        "colab": {
          "base_uri": "https://localhost:8080/",
          "height": 299
        },
        "id": "iYKzMHQUqY6L",
        "outputId": "ba29f94e-21bf-41f8-a9f9-744487a1fcdb"
      },
      "source": [
        "cities_spent_money = list()\n",
        "cities = sale_df['City_Category'].value_counts().index.tolist()\n",
        "for city in cities:\n",
        "    cities_spent_money.append(sale_df[sale_df['City_Category'] == city]['Purchase'].mean())\n",
        "plt.bar(cities, cities_spent_money)\n",
        "plt.xlabel('Purchase', fontsize=14)\n",
        "plt.ylabel('City Categories', fontsize=14)\n",
        "plt.title(\"PURCHASE BY CITY CATEGORY\")\n",
        "\n",
        "plt.show()"
      ],
      "execution_count": null,
      "outputs": [
        {
          "output_type": "display_data",
          "data": {
            "image/png": "[encoded data removed]",
            "text/plain": [
              "<Figure size 432x288 with 1 Axes>"
            ]
          },
          "metadata": {
            "tags": [],
            "needs_background": "light"
          }
        }
      ]
    },
    {
      "cell_type": "markdown",
      "metadata": {
        "id": "PgBp7bjVrfAK"
      },
      "source": [
        "###**1.3.5 Stay_In_Current_City_Years Vs Purchase**"
      ]
    },
    {
      "cell_type": "markdown",
      "metadata": {
        "id": "15m2iCOcQ8_j"
      },
      "source": [
        "Mean spending among customer considering their duration of stay at the specific city (which can be taken as the person being more familier with the city and more frequent visit to retail shop) shows not much difference."
      ]
    },
    {
      "cell_type": "code",
      "metadata": {
        "colab": {
          "base_uri": "https://localhost:8080/",
          "height": 316
        },
        "id": "Tph-sbb8sJKy",
        "outputId": "21b05839-5f85-48e0-f19e-d25a40ed1460"
      },
      "source": [
        "stay_spent_money = list()\n",
        "stays = sale_df['Stay_In_Current_City_Years'].value_counts().index.tolist()\n",
        "for sid in stays:\n",
        "    stay_spent_money.append(sale_df[sale_df['Stay_In_Current_City_Years'] == sid]['Purchase'].mean())\n",
        "plt.bar(stays, stay_spent_money)\n",
        "plt.xlabel('Stayed Duration (Currrent City)', fontsize=14)\n",
        "plt.ylabel('Purchase', fontsize=14)\n",
        "plt.title(\"PURCHASE BY STAY IN CURRENT CITY\")\n"
      ],
      "execution_count": null,
      "outputs": [
        {
          "output_type": "execute_result",
          "data": {
            "text/plain": [
              "Text(0.5, 1.0, 'PURCHASE BY STAY IN CURRENT CITY')"
            ]
          },
          "metadata": {
            "tags": []
          },
          "execution_count": 95
        },
        {
          "output_type": "display_data",
          "data": {
            "image/png": "[encoded data removed]",
            "text/plain": [
              "<Figure size 432x288 with 1 Axes>"
            ]
          },
          "metadata": {
            "tags": [],
            "needs_background": "light"
          }
        }
      ]
    },
    {
      "cell_type": "markdown",
      "metadata": {
        "id": "85rZcW25rfva"
      },
      "source": [
        "###**1.3.6 Marital_Status Vs Purchase**"
      ]
    },
    {
      "cell_type": "markdown",
      "metadata": {
        "id": "EevmJOPIR8nP"
      },
      "source": [
        "Average Marital status (Married or Unmarried) expenditure also has not much difference."
      ]
    },
    {
      "cell_type": "code",
      "metadata": {
        "colab": {
          "base_uri": "https://localhost:8080/",
          "height": 316
        },
        "id": "vS-bDIz_sQEV",
        "outputId": "8d5d09f8-1292-473d-b222-a91b2346355f"
      },
      "source": [
        "marital_status_spent_money = list()\n",
        "status_list = sale_df['Marital_Status'].value_counts().index.tolist()\n",
        "for status in status_list:\n",
        "    marital_status_spent_money.append(sale_df[sale_df['Marital_Status'] == status]['Purchase'].mean())\n",
        "status_list[0]='0'\n",
        "status_list[1]='1'\n",
        "plt.bar(status_list, marital_status_spent_money)\n",
        "plt.xlabel('Marital_Status', fontsize=14)\n",
        "plt.ylabel('Purchase', fontsize=14)\n",
        "plt.title(\"PURCHASE BY MARITAL STATUS\")\n"
      ],
      "execution_count": null,
      "outputs": [
        {
          "output_type": "execute_result",
          "data": {
            "text/plain": [
              "Text(0.5, 1.0, 'PURCHASE BY MARITAL STATUS')"
            ]
          },
          "metadata": {
            "tags": []
          },
          "execution_count": 96
        },
        {
          "output_type": "display_data",
          "data": {
            "image/png": "[encoded data removed]",
            "text/plain": [
              "<Figure size 432x288 with 1 Axes>"
            ]
          },
          "metadata": {
            "tags": [],
            "needs_background": "light"
          }
        }
      ]
    },
    {
      "cell_type": "markdown",
      "metadata": {
        "id": "hNEc5ehZrgZZ"
      },
      "source": [
        "###**1.3.7 Product_Category_1 Vs Purchase**"
      ]
    },
    {
      "cell_type": "markdown",
      "metadata": {
        "id": "PaEHalRUSens"
      },
      "source": [
        "Inclusion of some product can be linked to higher expenditure."
      ]
    },
    {
      "cell_type": "code",
      "metadata": {
        "colab": {
          "base_uri": "https://localhost:8080/",
          "height": 316
        },
        "id": "4bCxpLEes4Pj",
        "outputId": "a086bf5f-1a6a-42af-85a6-ba7f1b84fcee"
      },
      "source": [
        "pc1_spent_money = list()\n",
        "products = sale_df['Product_Category_1'].value_counts().index.tolist()\n",
        "for pid in products:\n",
        "    pc1_spent_money.append(sale_df[sale_df['Product_Category_1'] == pid]['Purchase'].mean())\n",
        "plt.bar(products, pc1_spent_money)\n",
        "plt.xlabel('Product Category 1', fontsize=14)\n",
        "plt.ylabel('Purchase', fontsize=14)\n",
        "plt.title(\"PURCHASE BY PRODUCT CATEGORY 1\")\n"
      ],
      "execution_count": null,
      "outputs": [
        {
          "output_type": "execute_result",
          "data": {
            "text/plain": [
              "Text(0.5, 1.0, 'PURCHASE BY PRODUCT CATEGORY 1')"
            ]
          },
          "metadata": {
            "tags": []
          },
          "execution_count": 97
        },
        {
          "output_type": "display_data",
          "data": {
            "image/png": "[encoded data removed]",
            "text/plain": [
              "<Figure size 432x288 with 1 Axes>"
            ]
          },
          "metadata": {
            "tags": [],
            "needs_background": "light"
          }
        }
      ]
    },
    {
      "cell_type": "markdown",
      "metadata": {
        "id": "W6KNi_-srg5T"
      },
      "source": [
        "###**1.3.8 Product_Category_2 Vs Purchase**"
      ]
    },
    {
      "cell_type": "markdown",
      "metadata": {
        "id": "akyXZPlASqCw"
      },
      "source": [
        "Inclusion of some product can be linked to higher expenditure."
      ]
    },
    {
      "cell_type": "code",
      "metadata": {
        "colab": {
          "base_uri": "https://localhost:8080/",
          "height": 316
        },
        "id": "iP1jlAjrtHm9",
        "outputId": "1bf7b1fb-2b21-440f-8e08-0266fd851856"
      },
      "source": [
        "pc2_spent_money = list()\n",
        "products = sale_df['Product_Category_2'].value_counts().index.tolist()\n",
        "for pid in products:\n",
        "    pc2_spent_money.append(sale_df[sale_df['Product_Category_2'] == pid]['Purchase'].mean())\n",
        "plt.bar(products, pc2_spent_money)\n",
        "plt.xlabel('Product Category 2', fontsize=14)\n",
        "plt.ylabel('Purchase', fontsize=14)\n",
        "plt.title(\"PURCHASE BY PRODUCT CATEGORY 2\")\n"
      ],
      "execution_count": null,
      "outputs": [
        {
          "output_type": "execute_result",
          "data": {
            "text/plain": [
              "Text(0.5, 1.0, 'PURCHASE BY PRODUCT CATEGORY 2')"
            ]
          },
          "metadata": {
            "tags": []
          },
          "execution_count": 98
        },
        {
          "output_type": "display_data",
          "data": {
            "image/png": "[encoded data removed]",
            "text/plain": [
              "<Figure size 432x288 with 1 Axes>"
            ]
          },
          "metadata": {
            "tags": [],
            "needs_background": "light"
          }
        }
      ]
    },
    {
      "cell_type": "markdown",
      "metadata": {
        "id": "hkkDDIDOtH8b"
      },
      "source": [
        "###**1.3.9 Product_Category_3 Vs Purchase**"
      ]
    },
    {
      "cell_type": "markdown",
      "metadata": {
        "id": "6Rvi3l4MSuEW"
      },
      "source": [
        "As Product_Category_3 has missing values, we cannot observe similar high variation that we saw in Product_Category_1 and Product_Category_2."
      ]
    },
    {
      "cell_type": "code",
      "metadata": {
        "colab": {
          "base_uri": "https://localhost:8080/"
        },
        "id": "7jW4bSCLtILr",
        "outputId": "a81e4815-7b57-4bcb-d758-59e31f3b19e8"
      },
      "source": [
        "pc3_spent_money = list()\n",
        "products = sale_df['Product_Category_3'].value_counts().index.tolist()\n",
        "for pid in products:\n",
        "    pc3_spent_money.append(sale_df[sale_df['Product_Category_3'] == pid]['Purchase'].mean())\n",
        "plt.bar(products, pc3_spent_money)\n",
        "plt.xlabel('Product Category 3', fontsize=14)\n",
        "plt.ylabel('Expenditure', fontsize=14)"
      ],
      "execution_count": null,
      "outputs": [
        {
          "output_type": "execute_result",
          "data": {
            "text/plain": [
              "Text(0, 0.5, 'Expenditure')"
            ]
          },
          "metadata": {
            "tags": []
          },
          "execution_count": 43
        },
        {
          "output_type": "display_data",
          "data": {
            "image/png": "[encoded data removed]",
            "text/plain": [
              "<Figure size 432x288 with 1 Axes>"
            ]
          },
          "metadata": {
            "tags": [],
            "needs_background": "light"
          }
        }
      ]
    },
    {
      "cell_type": "markdown",
      "metadata": {
        "id": "pFryVoarndB2"
      },
      "source": [
        "##**1.4. Outlier Detection**"
      ]
    },
    {
      "cell_type": "markdown",
      "metadata": {
        "id": "QBdqFlV2XlFm"
      },
      "source": [
        "Presence of Outlier can effect our model performance. After analysing the data in the above section, we have came to conclusion that there is no outlier in this dataset.\n",
        "\n",
        "\n",
        "There does not seems to be any outlier values in this attribute as purchase values can range from low as 12 to high as 23961."
      ]
    },
    {
      "cell_type": "code",
      "metadata": {
        "colab": {
          "base_uri": "https://localhost:8080/"
        },
        "id": "GO2Q6agT_2qW",
        "outputId": "44629f58-c959-411e-c378-cae33796b937"
      },
      "source": [
        "sale_df['Purchase'].describe()"
      ],
      "execution_count": null,
      "outputs": [
        {
          "output_type": "execute_result",
          "data": {
            "text/plain": [
              "count    550068.000000\n",
              "mean       9263.968713\n",
              "std        5023.065394\n",
              "min          12.000000\n",
              "25%        5823.000000\n",
              "50%        8047.000000\n",
              "75%       12054.000000\n",
              "max       23961.000000\n",
              "Name: Purchase, dtype: float64"
            ]
          },
          "metadata": {
            "tags": []
          },
          "execution_count": 44
        }
      ]
    },
    {
      "cell_type": "code",
      "metadata": {
        "colab": {
          "base_uri": "https://localhost:8080/"
        },
        "id": "eR5flf7jTOP9",
        "outputId": "c0d6d7ad-dfcc-4949-fbe7-a137aa9a44e5"
      },
      "source": [
        "purchase_boxplot = sale_df.boxplot(column = ['Purchase'], grid = True)\n",
        "sns.despine()\n",
        "purchase_boxplot.set_title('Purchase', fontsize = 15, pad = 20, loc = 'left', weight = 'bold')"
      ],
      "execution_count": null,
      "outputs": [
        {
          "output_type": "execute_result",
          "data": {
            "text/plain": [
              "Text(0.0, 1.0, 'Purchase')"
            ]
          },
          "metadata": {
            "tags": []
          },
          "execution_count": 45
        },
        {
          "output_type": "display_data",
          "data": {
            "image/png": "[encoded data removed]",
            "text/plain": [
              "<Figure size 432x288 with 1 Axes>"
            ]
          },
          "metadata": {
            "tags": [],
            "needs_background": "light"
          }
        }
      ]
    },
    {
      "cell_type": "code",
      "metadata": {
        "id": "7iyoldyhYWv5",
        "colab": {
          "base_uri": "https://localhost:8080/"
        },
        "outputId": "afb279c5-5a80-4fd9-8088-2d99099efce8"
      },
      "source": [
        "B = plt.boxplot(sale_df.Purchase)\n",
        "[item.get_ydata() for item in B['whiskers']]"
      ],
      "execution_count": null,
      "outputs": [
        {
          "output_type": "execute_result",
          "data": {
            "text/plain": [
              "[array([5823.,   12.]), array([12054., 21399.])]"
            ]
          },
          "metadata": {
            "tags": []
          },
          "execution_count": 46
        },
        {
          "output_type": "display_data",
          "data": {
            "image/png": "[encoded data removed]",
            "text/plain": [
              "<Figure size 432x288 with 1 Axes>"
            ]
          },
          "metadata": {
            "tags": [],
            "needs_background": "light"
          }
        }
      ]
    },
    {
      "cell_type": "code",
      "metadata": {
        "colab": {
          "base_uri": "https://localhost:8080/"
        },
        "id": "QsIr7VHSZHSh",
        "outputId": "1f55f017-b51b-4fb5-b31c-01afd70ce7be"
      },
      "source": [
        "[item.get_ydata()[1] for item in B['whiskers']]"
      ],
      "execution_count": null,
      "outputs": [
        {
          "output_type": "execute_result",
          "data": {
            "text/plain": [
              "[12.0, 21399.0]"
            ]
          },
          "metadata": {
            "tags": []
          },
          "execution_count": 47
        }
      ]
    },
    {
      "cell_type": "code",
      "metadata": {
        "colab": {
          "base_uri": "https://localhost:8080/"
        },
        "id": "cHGwdL9-T0EN",
        "outputId": "30cf89a9-205b-4160-f251-911306756299"
      },
      "source": [
        "high_purchase_list = []\n",
        "purchase_list = sale_df['Purchase'].value_counts().index.tolist()\n",
        "for purchase_amount in purchase_list:\n",
        "  if purchase_amount > 21399:\n",
        "    high_purchase_list.append(purchase_amount)\n",
        "len(high_purchase_list)"
      ],
      "execution_count": null,
      "outputs": [
        {
          "output_type": "execute_result",
          "data": {
            "text/plain": [
              "1027"
            ]
          },
          "metadata": {
            "tags": []
          },
          "execution_count": 48
        }
      ]
    },
    {
      "cell_type": "markdown",
      "metadata": {
        "id": "LyYUI7PWAw1q"
      },
      "source": [
        "We can observe few values outside the maximum (Largest values within 1.5 times interquartile range (IQR) above 75th percentile) in Purchase Box Plot. We check for total number of purchases with values above 23500 which is 419."
      ]
    },
    {
      "cell_type": "code",
      "metadata": {
        "id": "yIyBUoGiFn20"
      },
      "source": [
        "#Plot Normal Distribution Here for Purchase"
      ],
      "execution_count": null,
      "outputs": []
    },
    {
      "cell_type": "markdown",
      "metadata": {
        "id": "kfyLC5vLnsbs"
      },
      "source": [
        "\n",
        "##**1.5. Missing Value Treatment**"
      ]
    },
    {
      "cell_type": "markdown",
      "metadata": {
        "id": "8BW-BawzVa6U"
      },
      "source": [
        "Product_Category_2 and Product_Category_3 has 173638 and 383247 null values respectively out of 550068 rows."
      ]
    },
    {
      "cell_type": "code",
      "metadata": {
        "id": "KoM7nnZQncc0",
        "colab": {
          "base_uri": "https://localhost:8080/"
        },
        "outputId": "e0830fe3-8493-4382-cd72-232253e75c0b"
      },
      "source": [
        "print('Total number of rows:', len(sale_df))\n",
        "sale_df.isnull().sum()"
      ],
      "execution_count": null,
      "outputs": [
        {
          "output_type": "stream",
          "text": [
            "Total number of rows: 550068\n"
          ],
          "name": "stdout"
        },
        {
          "output_type": "execute_result",
          "data": {
            "text/plain": [
              "User_ID                            0\n",
              "Product_ID                         0\n",
              "Gender                             0\n",
              "Age                                0\n",
              "Occupation                         0\n",
              "City_Category                      0\n",
              "Stay_In_Current_City_Years         0\n",
              "Marital_Status                     0\n",
              "Product_Category_1                 0\n",
              "Product_Category_2            173638\n",
              "Product_Category_3            383247\n",
              "Purchase                           0\n",
              "dtype: int64"
            ]
          },
          "metadata": {
            "tags": []
          },
          "execution_count": 50
        }
      ]
    },
    {
      "cell_type": "markdown",
      "metadata": {
        "id": "bWLp888WXYGg"
      },
      "source": [
        "There in no rows with null values."
      ]
    },
    {
      "cell_type": "code",
      "metadata": {
        "colab": {
          "base_uri": "https://localhost:8080/"
        },
        "id": "aDkagTy3WGHH",
        "outputId": "b9f58247-95a1-48be-e751-65ce0f6262b4"
      },
      "source": [
        "pd.isnull(sale_df).all(axis=1).sum()"
      ],
      "execution_count": null,
      "outputs": [
        {
          "output_type": "execute_result",
          "data": {
            "text/plain": [
              "0"
            ]
          },
          "metadata": {
            "tags": []
          },
          "execution_count": 51
        }
      ]
    },
    {
      "cell_type": "code",
      "metadata": {
        "colab": {
          "base_uri": "https://localhost:8080/",
          "height": 282
        },
        "id": "wkJZB-XSMSso",
        "outputId": "0365c22b-6f06-49a8-8700-a0616713a7a6"
      },
      "source": [
        "nan_product2 = sale_df[sale_df['Product_Category_2'].isnull()]\n",
        "fig = plt.figure()\n",
        "\n",
        "# Divide the figure into a 1x2 grid, and give me the first section\n",
        "ax1 = fig.add_subplot(2,2,1)\n",
        "\n",
        "# Divide the figure into a 1x2 grid, and give me the second section\n",
        "ax2 = fig.add_subplot(2,2,2)\n",
        "\n",
        "# Divide the figure into a 1x2 grid, and give me the third section\n",
        "ax3 = fig.add_subplot(2,2,3)\n",
        "\n",
        "nan_product2['Gender'].value_counts().plot(kind='barh',  ax=ax1)\n",
        "nan_product2['Marital_Status'].value_counts().plot(kind='barh', ax = ax2)\n",
        "nan_product2['Age'].value_counts().plot(kind='barh', ax = ax3)"
      ],
      "execution_count": null,
      "outputs": [
        {
          "output_type": "execute_result",
          "data": {
            "text/plain": [
              "<matplotlib.axes._subplots.AxesSubplot at 0x7f828dcaac10>"
            ]
          },
          "metadata": {
            "tags": []
          },
          "execution_count": 52
        },
        {
          "output_type": "display_data",
          "data": {
            "image/png": "[encoded data removed]",
            "text/plain": [
              "<Figure size 432x288 with 3 Axes>"
            ]
          },
          "metadata": {
            "tags": [],
            "needs_background": "light"
          }
        }
      ]
    },
    {
      "cell_type": "code",
      "metadata": {
        "colab": {
          "base_uri": "https://localhost:8080/",
          "height": 282
        },
        "id": "5k_mvtA-NZGT",
        "outputId": "fe7d95ac-6ead-44d1-d790-2d4a05cff6f9"
      },
      "source": [
        "nan_product2['Product_Category_1'].value_counts().plot(kind='barh')"
      ],
      "execution_count": null,
      "outputs": [
        {
          "output_type": "execute_result",
          "data": {
            "text/plain": [
              "<matplotlib.axes._subplots.AxesSubplot at 0x7f828dba2d90>"
            ]
          },
          "metadata": {
            "tags": []
          },
          "execution_count": 53
        },
        {
          "output_type": "display_data",
          "data": {
            "image/png": "[encoded data removed]",
            "text/plain": [
              "<Figure size 432x288 with 1 Axes>"
            ]
          },
          "metadata": {
            "tags": [],
            "needs_background": "light"
          }
        }
      ]
    },
    {
      "cell_type": "code",
      "metadata": {
        "colab": {
          "base_uri": "https://localhost:8080/"
        },
        "id": "6GLVGklONphA",
        "outputId": "a354fc2c-68af-4c8f-f41e-49890d296706"
      },
      "source": [
        "prods = sale_df['Product_Category_2'].value_counts().index.tolist()\n",
        "probs = sale_df['Product_Category_2'].value_counts().tolist()\n",
        "probs = [p /376430  for p in probs ]\n",
        "# print(probs,prods)\n",
        "    \n",
        "fill_missing = np.random.choice(prods, p = probs, size = len(sale_df))\n",
        "\n",
        "sale_df['Product_Category_2'].fillna(pd.Series(fill_missing), inplace=True)\n",
        "sale_df.info()"
      ],
      "execution_count": null,
      "outputs": [
        {
          "output_type": "stream",
          "text": [
            "<class 'pandas.core.frame.DataFrame'>\n",
            "RangeIndex: 550068 entries, 0 to 550067\n",
            "Data columns (total 12 columns):\n",
            " #   Column                      Non-Null Count   Dtype  \n",
            "---  ------                      --------------   -----  \n",
            " 0   User_ID                     550068 non-null  int64  \n",
            " 1   Product_ID                  550068 non-null  object \n",
            " 2   Gender                      550068 non-null  object \n",
            " 3   Age                         550068 non-null  object \n",
            " 4   Occupation                  550068 non-null  int64  \n",
            " 5   City_Category               550068 non-null  object \n",
            " 6   Stay_In_Current_City_Years  550068 non-null  object \n",
            " 7   Marital_Status              550068 non-null  int64  \n",
            " 8   Product_Category_1          550068 non-null  int64  \n",
            " 9   Product_Category_2          550068 non-null  float64\n",
            " 10  Product_Category_3          166821 non-null  float64\n",
            " 11  Purchase                    550068 non-null  int64  \n",
            "dtypes: float64(2), int64(5), object(5)\n",
            "memory usage: 50.4+ MB\n"
          ],
          "name": "stdout"
        }
      ]
    },
    {
      "cell_type": "code",
      "metadata": {
        "colab": {
          "base_uri": "https://localhost:8080/",
          "height": 282
        },
        "id": "Xh59M3MzN8ID",
        "outputId": "b2ee47b4-9e0c-4ccd-ce7d-17583eb19ee4"
      },
      "source": [
        "sale_df['Product_Category_2'].value_counts().plot(kind='barh')"
      ],
      "execution_count": null,
      "outputs": [
        {
          "output_type": "execute_result",
          "data": {
            "text/plain": [
              "<matplotlib.axes._subplots.AxesSubplot at 0x7f828dadb810>"
            ]
          },
          "metadata": {
            "tags": []
          },
          "execution_count": 55
        },
        {
          "output_type": "display_data",
          "data": {
            "image/png": "[encoded data removed]",
            "text/plain": [
              "<Figure size 432x288 with 1 Axes>"
            ]
          },
          "metadata": {
            "tags": [],
            "needs_background": "light"
          }
        }
      ]
    },
    {
      "cell_type": "code",
      "metadata": {
        "colab": {
          "base_uri": "https://localhost:8080/",
          "height": 282
        },
        "id": "tCFk8oDYOHkH",
        "outputId": "05ecec28-9e94-407d-abdd-0bee483a5a31"
      },
      "source": [
        "pc2_spent_money = list()\n",
        "products = sale_df['Product_Category_2'].value_counts().index.tolist()\n",
        "for pid in products:\n",
        "    pc2_spent_money.append(sale_df[sale_df['Product_Category_2'] == pid]['Purchase'].mean())\n",
        "plt.bar(products, pc2_spent_money)"
      ],
      "execution_count": null,
      "outputs": [
        {
          "output_type": "execute_result",
          "data": {
            "text/plain": [
              "<BarContainer object of 17 artists>"
            ]
          },
          "metadata": {
            "tags": []
          },
          "execution_count": 56
        },
        {
          "output_type": "display_data",
          "data": {
            "image/png": "[encoded data removed]",
            "text/plain": [
              "<Figure size 432x288 with 1 Axes>"
            ]
          },
          "metadata": {
            "tags": [],
            "needs_background": "light"
          }
        }
      ]
    },
    {
      "cell_type": "markdown",
      "metadata": {
        "id": "WUYuvtRZTgcM"
      },
      "source": [
        "##**EDA Summary**"
      ]
    },
    {
      "cell_type": "markdown",
      "metadata": {
        "id": "bSPKuK2IThRK"
      },
      "source": [
        "* Most of the variables like occupation, Product categories in the dataset are masked with integers and City_Category is masked with alphabets\n",
        "* Male buyers are more frequent in the dataset than female buyers.\n",
        "* Age group with most transactions was 26-35.\n",
        "* Occupation '4' had the most transactions.\n",
        "* City Category with most transactions was B.\n",
        "Highest number of purchasers had '1 year stay' in the current city.\n",
        "* Data set has more singles (Marital status 0) than married people (Marital status 1)."
      ]
    },
    {
      "cell_type": "markdown",
      "metadata": {
        "id": "fOhutNjwJoBW"
      },
      "source": [
        "#**2. Data Transformation and OLS**"
      ]
    },
    {
      "cell_type": "markdown",
      "metadata": {
        "id": "hKMV0LpTJpRm"
      },
      "source": [
        "**Below are from Literature Review:**\n",
        "\n",
        "**Product_ID** consist of both numerical and character values, we can remove the preceeding 'P' from each values to convert it to numeric.\n",
        "\n",
        "**Gender** has character values (F,M) which can be converted to (0,1).\n",
        "\n",
        "**Age** has data in bins (0-17, 26-35) we can take the one number instead of range.\n",
        "\n",
        "**City_Category** has categorical values (A, B, C), which can be converted to (0,1,2).\n",
        "\n",
        "**Stay_In_Current_City_Years** has numerical values but one value is 4+, which we can assigned with 4."
      ]
    },
    {
      "cell_type": "code",
      "metadata": {
        "colab": {
          "base_uri": "https://localhost:8080/",
          "height": 173
        },
        "id": "IyopoAX9Ok8L",
        "outputId": "b255641b-fe8d-42fe-88ae-1de8a11d0292"
      },
      "source": [
        "cols = ['Gender', 'Age', 'Occupation', 'City_Category', 'Stay_In_Current_City_Years', 'Marital_Status', 'Product_Category_1', 'Product_Category_2']\n",
        "drop_cols = ['User_ID', 'Product_ID', 'Product_Category_3', 'Purchase']\n",
        "X1 = pd.get_dummies(sale_df, columns=cols)\n",
        "X = X1.drop(columns = drop_cols)\n",
        "X.head(3)"
      ],
      "execution_count": null,
      "outputs": [
        {
          "output_type": "execute_result",
          "data": {
            "text/html": [
              "<div>\n",
              "<style scoped>\n",
              "    .dataframe tbody tr th:only-of-type {\n",
              "        vertical-align: middle;\n",
              "    }\n",
              "\n",
              "    .dataframe tbody tr th {\n",
              "        vertical-align: top;\n",
              "    }\n",
              "\n",
              "    .dataframe thead th {\n",
              "        text-align: right;\n",
              "    }\n",
              "</style>\n",
              "<table border=\"1\" class=\"dataframe\">\n",
              "  <thead>\n",
              "    <tr style=\"text-align: right;\">\n",
              "      <th></th>\n",
              "      <th>Gender_F</th>\n",
              "      <th>Gender_M</th>\n",
              "      <th>Age_0-17</th>\n",
              "      <th>Age_18-25</th>\n",
              "      <th>Age_26-35</th>\n",
              "      <th>Age_36-45</th>\n",
              "      <th>Age_46-50</th>\n",
              "      <th>Age_51-55</th>\n",
              "      <th>Age_55+</th>\n",
              "      <th>Occupation_0</th>\n",
              "      <th>Occupation_1</th>\n",
              "      <th>Occupation_2</th>\n",
              "      <th>Occupation_3</th>\n",
              "      <th>Occupation_4</th>\n",
              "      <th>Occupation_5</th>\n",
              "      <th>Occupation_6</th>\n",
              "      <th>Occupation_7</th>\n",
              "      <th>Occupation_8</th>\n",
              "      <th>Occupation_9</th>\n",
              "      <th>Occupation_10</th>\n",
              "      <th>Occupation_11</th>\n",
              "      <th>Occupation_12</th>\n",
              "      <th>Occupation_13</th>\n",
              "      <th>Occupation_14</th>\n",
              "      <th>Occupation_15</th>\n",
              "      <th>Occupation_16</th>\n",
              "      <th>Occupation_17</th>\n",
              "      <th>Occupation_18</th>\n",
              "      <th>Occupation_19</th>\n",
              "      <th>Occupation_20</th>\n",
              "      <th>City_Category_A</th>\n",
              "      <th>City_Category_B</th>\n",
              "      <th>City_Category_C</th>\n",
              "      <th>Stay_In_Current_City_Years_0</th>\n",
              "      <th>Stay_In_Current_City_Years_1</th>\n",
              "      <th>Stay_In_Current_City_Years_2</th>\n",
              "      <th>Stay_In_Current_City_Years_3</th>\n",
              "      <th>Stay_In_Current_City_Years_4+</th>\n",
              "      <th>Marital_Status_0</th>\n",
              "      <th>Marital_Status_1</th>\n",
              "      <th>Product_Category_1_1</th>\n",
              "      <th>Product_Category_1_2</th>\n",
              "      <th>Product_Category_1_3</th>\n",
              "      <th>Product_Category_1_4</th>\n",
              "      <th>Product_Category_1_5</th>\n",
              "      <th>Product_Category_1_6</th>\n",
              "      <th>Product_Category_1_7</th>\n",
              "      <th>Product_Category_1_8</th>\n",
              "      <th>Product_Category_1_9</th>\n",
              "      <th>Product_Category_1_10</th>\n",
              "      <th>Product_Category_1_11</th>\n",
              "      <th>Product_Category_1_12</th>\n",
              "      <th>Product_Category_1_13</th>\n",
              "      <th>Product_Category_1_14</th>\n",
              "      <th>Product_Category_1_15</th>\n",
              "      <th>Product_Category_1_16</th>\n",
              "      <th>Product_Category_1_17</th>\n",
              "      <th>Product_Category_1_18</th>\n",
              "      <th>Product_Category_1_19</th>\n",
              "      <th>Product_Category_1_20</th>\n",
              "      <th>Product_Category_2_2.0</th>\n",
              "      <th>Product_Category_2_3.0</th>\n",
              "      <th>Product_Category_2_4.0</th>\n",
              "      <th>Product_Category_2_5.0</th>\n",
              "      <th>Product_Category_2_6.0</th>\n",
              "      <th>Product_Category_2_7.0</th>\n",
              "      <th>Product_Category_2_8.0</th>\n",
              "      <th>Product_Category_2_9.0</th>\n",
              "      <th>Product_Category_2_10.0</th>\n",
              "      <th>Product_Category_2_11.0</th>\n",
              "      <th>Product_Category_2_12.0</th>\n",
              "      <th>Product_Category_2_13.0</th>\n",
              "      <th>Product_Category_2_14.0</th>\n",
              "      <th>Product_Category_2_15.0</th>\n",
              "      <th>Product_Category_2_16.0</th>\n",
              "      <th>Product_Category_2_17.0</th>\n",
              "      <th>Product_Category_2_18.0</th>\n",
              "    </tr>\n",
              "  </thead>\n",
              "  <tbody>\n",
              "    <tr>\n",
              "      <th>0</th>\n",
              "      <td>1</td>\n",
              "      <td>0</td>\n",
              "      <td>1</td>\n",
              "      <td>0</td>\n",
              "      <td>0</td>\n",
              "      <td>0</td>\n",
              "      <td>0</td>\n",
              "      <td>0</td>\n",
              "      <td>0</td>\n",
              "      <td>0</td>\n",
              "      <td>0</td>\n",
              "      <td>0</td>\n",
              "      <td>0</td>\n",
              "      <td>0</td>\n",
              "      <td>0</td>\n",
              "      <td>0</td>\n",
              "      <td>0</td>\n",
              "      <td>0</td>\n",
              "      <td>0</td>\n",
              "      <td>1</td>\n",
              "      <td>0</td>\n",
              "      <td>0</td>\n",
              "      <td>0</td>\n",
              "      <td>0</td>\n",
              "      <td>0</td>\n",
              "      <td>0</td>\n",
              "      <td>0</td>\n",
              "      <td>0</td>\n",
              "      <td>0</td>\n",
              "      <td>0</td>\n",
              "      <td>1</td>\n",
              "      <td>0</td>\n",
              "      <td>0</td>\n",
              "      <td>0</td>\n",
              "      <td>0</td>\n",
              "      <td>1</td>\n",
              "      <td>0</td>\n",
              "      <td>0</td>\n",
              "      <td>1</td>\n",
              "      <td>0</td>\n",
              "      <td>0</td>\n",
              "      <td>0</td>\n",
              "      <td>1</td>\n",
              "      <td>0</td>\n",
              "      <td>0</td>\n",
              "      <td>0</td>\n",
              "      <td>0</td>\n",
              "      <td>0</td>\n",
              "      <td>0</td>\n",
              "      <td>0</td>\n",
              "      <td>0</td>\n",
              "      <td>0</td>\n",
              "      <td>0</td>\n",
              "      <td>0</td>\n",
              "      <td>0</td>\n",
              "      <td>0</td>\n",
              "      <td>0</td>\n",
              "      <td>0</td>\n",
              "      <td>0</td>\n",
              "      <td>0</td>\n",
              "      <td>0</td>\n",
              "      <td>0</td>\n",
              "      <td>0</td>\n",
              "      <td>1</td>\n",
              "      <td>0</td>\n",
              "      <td>0</td>\n",
              "      <td>0</td>\n",
              "      <td>0</td>\n",
              "      <td>0</td>\n",
              "      <td>0</td>\n",
              "      <td>0</td>\n",
              "      <td>0</td>\n",
              "      <td>0</td>\n",
              "      <td>0</td>\n",
              "      <td>0</td>\n",
              "      <td>0</td>\n",
              "      <td>0</td>\n",
              "    </tr>\n",
              "    <tr>\n",
              "      <th>1</th>\n",
              "      <td>1</td>\n",
              "      <td>0</td>\n",
              "      <td>1</td>\n",
              "      <td>0</td>\n",
              "      <td>0</td>\n",
              "      <td>0</td>\n",
              "      <td>0</td>\n",
              "      <td>0</td>\n",
              "      <td>0</td>\n",
              "      <td>0</td>\n",
              "      <td>0</td>\n",
              "      <td>0</td>\n",
              "      <td>0</td>\n",
              "      <td>0</td>\n",
              "      <td>0</td>\n",
              "      <td>0</td>\n",
              "      <td>0</td>\n",
              "      <td>0</td>\n",
              "      <td>0</td>\n",
              "      <td>1</td>\n",
              "      <td>0</td>\n",
              "      <td>0</td>\n",
              "      <td>0</td>\n",
              "      <td>0</td>\n",
              "      <td>0</td>\n",
              "      <td>0</td>\n",
              "      <td>0</td>\n",
              "      <td>0</td>\n",
              "      <td>0</td>\n",
              "      <td>0</td>\n",
              "      <td>1</td>\n",
              "      <td>0</td>\n",
              "      <td>0</td>\n",
              "      <td>0</td>\n",
              "      <td>0</td>\n",
              "      <td>1</td>\n",
              "      <td>0</td>\n",
              "      <td>0</td>\n",
              "      <td>1</td>\n",
              "      <td>0</td>\n",
              "      <td>1</td>\n",
              "      <td>0</td>\n",
              "      <td>0</td>\n",
              "      <td>0</td>\n",
              "      <td>0</td>\n",
              "      <td>0</td>\n",
              "      <td>0</td>\n",
              "      <td>0</td>\n",
              "      <td>0</td>\n",
              "      <td>0</td>\n",
              "      <td>0</td>\n",
              "      <td>0</td>\n",
              "      <td>0</td>\n",
              "      <td>0</td>\n",
              "      <td>0</td>\n",
              "      <td>0</td>\n",
              "      <td>0</td>\n",
              "      <td>0</td>\n",
              "      <td>0</td>\n",
              "      <td>0</td>\n",
              "      <td>0</td>\n",
              "      <td>0</td>\n",
              "      <td>0</td>\n",
              "      <td>0</td>\n",
              "      <td>1</td>\n",
              "      <td>0</td>\n",
              "      <td>0</td>\n",
              "      <td>0</td>\n",
              "      <td>0</td>\n",
              "      <td>0</td>\n",
              "      <td>0</td>\n",
              "      <td>0</td>\n",
              "      <td>0</td>\n",
              "      <td>0</td>\n",
              "      <td>0</td>\n",
              "      <td>0</td>\n",
              "      <td>0</td>\n",
              "    </tr>\n",
              "    <tr>\n",
              "      <th>2</th>\n",
              "      <td>1</td>\n",
              "      <td>0</td>\n",
              "      <td>1</td>\n",
              "      <td>0</td>\n",
              "      <td>0</td>\n",
              "      <td>0</td>\n",
              "      <td>0</td>\n",
              "      <td>0</td>\n",
              "      <td>0</td>\n",
              "      <td>0</td>\n",
              "      <td>0</td>\n",
              "      <td>0</td>\n",
              "      <td>0</td>\n",
              "      <td>0</td>\n",
              "      <td>0</td>\n",
              "      <td>0</td>\n",
              "      <td>0</td>\n",
              "      <td>0</td>\n",
              "      <td>0</td>\n",
              "      <td>1</td>\n",
              "      <td>0</td>\n",
              "      <td>0</td>\n",
              "      <td>0</td>\n",
              "      <td>0</td>\n",
              "      <td>0</td>\n",
              "      <td>0</td>\n",
              "      <td>0</td>\n",
              "      <td>0</td>\n",
              "      <td>0</td>\n",
              "      <td>0</td>\n",
              "      <td>1</td>\n",
              "      <td>0</td>\n",
              "      <td>0</td>\n",
              "      <td>0</td>\n",
              "      <td>0</td>\n",
              "      <td>1</td>\n",
              "      <td>0</td>\n",
              "      <td>0</td>\n",
              "      <td>1</td>\n",
              "      <td>0</td>\n",
              "      <td>0</td>\n",
              "      <td>0</td>\n",
              "      <td>0</td>\n",
              "      <td>0</td>\n",
              "      <td>0</td>\n",
              "      <td>0</td>\n",
              "      <td>0</td>\n",
              "      <td>0</td>\n",
              "      <td>0</td>\n",
              "      <td>0</td>\n",
              "      <td>0</td>\n",
              "      <td>1</td>\n",
              "      <td>0</td>\n",
              "      <td>0</td>\n",
              "      <td>0</td>\n",
              "      <td>0</td>\n",
              "      <td>0</td>\n",
              "      <td>0</td>\n",
              "      <td>0</td>\n",
              "      <td>0</td>\n",
              "      <td>0</td>\n",
              "      <td>0</td>\n",
              "      <td>0</td>\n",
              "      <td>0</td>\n",
              "      <td>1</td>\n",
              "      <td>0</td>\n",
              "      <td>0</td>\n",
              "      <td>0</td>\n",
              "      <td>0</td>\n",
              "      <td>0</td>\n",
              "      <td>0</td>\n",
              "      <td>0</td>\n",
              "      <td>0</td>\n",
              "      <td>0</td>\n",
              "      <td>0</td>\n",
              "      <td>0</td>\n",
              "      <td>0</td>\n",
              "    </tr>\n",
              "  </tbody>\n",
              "</table>\n",
              "</div>"
            ],
            "text/plain": [
              "   Gender_F  Gender_M  ...  Product_Category_2_17.0  Product_Category_2_18.0\n",
              "0         1         0  ...                        0                        0\n",
              "1         1         0  ...                        0                        0\n",
              "2         1         0  ...                        0                        0\n",
              "\n",
              "[3 rows x 77 columns]"
            ]
          },
          "metadata": {
            "tags": []
          },
          "execution_count": 57
        }
      ]
    },
    {
      "cell_type": "code",
      "metadata": {
        "id": "W9rc3w-9V-qS"
      },
      "source": [
        "Y = sale_df['Purchase']"
      ],
      "execution_count": null,
      "outputs": []
    },
    {
      "cell_type": "markdown",
      "metadata": {
        "id": "wXA4e2hJHvsN"
      },
      "source": [
        "A predictor that has a low p-value (< 0.05) is likely to be a meaningful addition to your model because changes in the predictor's value are related to changes in the response variable. \n",
        "\n",
        "If we remove attributes with no significance to the result and both Alaik Information Criterion (AIC) and Bayesian Information Criterion (BIC) increases then it means that the quality of the result has not improved by removal of the attributes.\n",
        "\n",
        "Since for our dataset, removal of attribute does not decrease the AIC and BIC value thus displays no improvement of the result quality.\n"
      ]
    },
    {
      "cell_type": "markdown",
      "metadata": {
        "id": "0zKMyhS5NRZi"
      },
      "source": [
        "##**2.1. Load Dataset**"
      ]
    },
    {
      "cell_type": "code",
      "metadata": {
        "colab": {
          "base_uri": "https://localhost:8080/"
        },
        "id": "q24J2_qpOLrY",
        "outputId": "3655bd7f-933a-4aa3-f15b-cb4f8f1dc6fa"
      },
      "source": [
        "  from google.colab import drive\n",
        "  import os\n",
        "\n",
        "  drive.mount('/content/drive/', force_remount=True)\n",
        "  os.chdir('/content/drive/My Drive/black_friday_dataset/')"
      ],
      "execution_count": null,
      "outputs": [
        {
          "output_type": "stream",
          "text": [
            "Mounted at /content/drive/\n"
          ],
          "name": "stdout"
        }
      ]
    },
    {
      "cell_type": "code",
      "metadata": {
        "colab": {
          "base_uri": "https://localhost:8080/"
        },
        "id": "KsK5z4zqOLrZ",
        "outputId": "b975368c-5e5e-4735-abb8-eb223e9300ee"
      },
      "source": [
        "import pandas as pd\n",
        "import seaborn as sns\n",
        "import matplotlib.pyplot as plt\n",
        "import numpy as np\n",
        "\n",
        "import statsmodels.formula.api as sm"
      ],
      "execution_count": null,
      "outputs": [
        {
          "output_type": "stream",
          "text": [
            "/usr/local/lib/python3.7/dist-packages/statsmodels/tools/_testing.py:19: FutureWarning: pandas.util.testing is deprecated. Use the functions in the public API at pandas.testing instead.\n",
            "  import pandas.util.testing as tm\n"
          ],
          "name": "stderr"
        }
      ]
    },
    {
      "cell_type": "code",
      "metadata": {
        "colab": {
          "base_uri": "https://localhost:8080/",
          "height": 165
        },
        "id": "bq9Eu2eBOLra",
        "outputId": "624509f8-9e72-4562-fc56-5517907cca3c"
      },
      "source": [
        "train = pd.read_csv('train.csv')\n",
        "test = pd.read_csv('test.csv')\n",
        "sale_df = train\n",
        "sale_df.head(2)"
      ],
      "execution_count": null,
      "outputs": [
        {
          "output_type": "execute_result",
          "data": {
            "text/html": [
              "<div>\n",
              "<style scoped>\n",
              "    .dataframe tbody tr th:only-of-type {\n",
              "        vertical-align: middle;\n",
              "    }\n",
              "\n",
              "    .dataframe tbody tr th {\n",
              "        vertical-align: top;\n",
              "    }\n",
              "\n",
              "    .dataframe thead th {\n",
              "        text-align: right;\n",
              "    }\n",
              "</style>\n",
              "<table border=\"1\" class=\"dataframe\">\n",
              "  <thead>\n",
              "    <tr style=\"text-align: right;\">\n",
              "      <th></th>\n",
              "      <th>User_ID</th>\n",
              "      <th>Product_ID</th>\n",
              "      <th>Gender</th>\n",
              "      <th>Age</th>\n",
              "      <th>Occupation</th>\n",
              "      <th>City_Category</th>\n",
              "      <th>Stay_In_Current_City_Years</th>\n",
              "      <th>Marital_Status</th>\n",
              "      <th>Product_Category_1</th>\n",
              "      <th>Product_Category_2</th>\n",
              "      <th>Product_Category_3</th>\n",
              "      <th>Purchase</th>\n",
              "    </tr>\n",
              "  </thead>\n",
              "  <tbody>\n",
              "    <tr>\n",
              "      <th>0</th>\n",
              "      <td>1000001</td>\n",
              "      <td>P00069042</td>\n",
              "      <td>F</td>\n",
              "      <td>0-17</td>\n",
              "      <td>10</td>\n",
              "      <td>A</td>\n",
              "      <td>2</td>\n",
              "      <td>0</td>\n",
              "      <td>3</td>\n",
              "      <td>NaN</td>\n",
              "      <td>NaN</td>\n",
              "      <td>8370</td>\n",
              "    </tr>\n",
              "    <tr>\n",
              "      <th>1</th>\n",
              "      <td>1000001</td>\n",
              "      <td>P00248942</td>\n",
              "      <td>F</td>\n",
              "      <td>0-17</td>\n",
              "      <td>10</td>\n",
              "      <td>A</td>\n",
              "      <td>2</td>\n",
              "      <td>0</td>\n",
              "      <td>1</td>\n",
              "      <td>6.0</td>\n",
              "      <td>14.0</td>\n",
              "      <td>15200</td>\n",
              "    </tr>\n",
              "  </tbody>\n",
              "</table>\n",
              "</div>"
            ],
            "text/plain": [
              "   User_ID Product_ID Gender  ... Product_Category_2  Product_Category_3 Purchase\n",
              "0  1000001  P00069042      F  ...                NaN                 NaN     8370\n",
              "1  1000001  P00248942      F  ...                6.0                14.0    15200\n",
              "\n",
              "[2 rows x 12 columns]"
            ]
          },
          "metadata": {
            "tags": []
          },
          "execution_count": 3
        }
      ]
    },
    {
      "cell_type": "markdown",
      "metadata": {
        "id": "EilIhK6HasZ3"
      },
      "source": [
        "##**2.2. Missing value Handled with 0**"
      ]
    },
    {
      "cell_type": "code",
      "metadata": {
        "id": "0K8SeYUT01t8",
        "colab": {
          "base_uri": "https://localhost:8080/",
          "height": 165
        },
        "outputId": "e8fe67dc-f9d7-48b3-e719-b1c2188cc5cb"
      },
      "source": [
        "#Handling Missing Values 1\n",
        "sale_df1 = sale_df\n",
        "sale_df1['Product_Category_2'].fillna(0, inplace=True)\n",
        "sale_df1['Product_Category_3'].fillna(0, inplace=True)\n",
        "sale_df1.head(2)"
      ],
      "execution_count": null,
      "outputs": [
        {
          "output_type": "execute_result",
          "data": {
            "text/html": [
              "<div>\n",
              "<style scoped>\n",
              "    .dataframe tbody tr th:only-of-type {\n",
              "        vertical-align: middle;\n",
              "    }\n",
              "\n",
              "    .dataframe tbody tr th {\n",
              "        vertical-align: top;\n",
              "    }\n",
              "\n",
              "    .dataframe thead th {\n",
              "        text-align: right;\n",
              "    }\n",
              "</style>\n",
              "<table border=\"1\" class=\"dataframe\">\n",
              "  <thead>\n",
              "    <tr style=\"text-align: right;\">\n",
              "      <th></th>\n",
              "      <th>User_ID</th>\n",
              "      <th>Product_ID</th>\n",
              "      <th>Gender</th>\n",
              "      <th>Age</th>\n",
              "      <th>Occupation</th>\n",
              "      <th>City_Category</th>\n",
              "      <th>Stay_In_Current_City_Years</th>\n",
              "      <th>Marital_Status</th>\n",
              "      <th>Product_Category_1</th>\n",
              "      <th>Product_Category_2</th>\n",
              "      <th>Product_Category_3</th>\n",
              "      <th>Purchase</th>\n",
              "    </tr>\n",
              "  </thead>\n",
              "  <tbody>\n",
              "    <tr>\n",
              "      <th>0</th>\n",
              "      <td>1000001</td>\n",
              "      <td>P00069042</td>\n",
              "      <td>F</td>\n",
              "      <td>0-17</td>\n",
              "      <td>10</td>\n",
              "      <td>A</td>\n",
              "      <td>2</td>\n",
              "      <td>0</td>\n",
              "      <td>3</td>\n",
              "      <td>0.0</td>\n",
              "      <td>0.0</td>\n",
              "      <td>8370</td>\n",
              "    </tr>\n",
              "    <tr>\n",
              "      <th>1</th>\n",
              "      <td>1000001</td>\n",
              "      <td>P00248942</td>\n",
              "      <td>F</td>\n",
              "      <td>0-17</td>\n",
              "      <td>10</td>\n",
              "      <td>A</td>\n",
              "      <td>2</td>\n",
              "      <td>0</td>\n",
              "      <td>1</td>\n",
              "      <td>6.0</td>\n",
              "      <td>14.0</td>\n",
              "      <td>15200</td>\n",
              "    </tr>\n",
              "  </tbody>\n",
              "</table>\n",
              "</div>"
            ],
            "text/plain": [
              "   User_ID Product_ID Gender  ... Product_Category_2  Product_Category_3 Purchase\n",
              "0  1000001  P00069042      F  ...                0.0                 0.0     8370\n",
              "1  1000001  P00248942      F  ...                6.0                14.0    15200\n",
              "\n",
              "[2 rows x 12 columns]"
            ]
          },
          "metadata": {
            "tags": []
          },
          "execution_count": 17
        }
      ]
    },
    {
      "cell_type": "markdown",
      "metadata": {
        "id": "CZPhDZzubhJD"
      },
      "source": [
        "###Chi-Square"
      ]
    },
    {
      "cell_type": "code",
      "metadata": {
        "colab": {
          "base_uri": "https://localhost:8080/"
        },
        "id": "mbdpmHkRObVi",
        "outputId": "fe617286-73e4-45cf-91ce-6d668f24f3f9"
      },
      "source": [
        "# CHI SQUARE TEST 1\n",
        "from scipy.stats import chi2_contingency\n",
        "c = sale_df1.columns\n",
        "categorical_cols = [c[2],c[4],c[5],c[6],c[7],c[8],c[9],c[10],c[11]]\n",
        "for i in list(range(0,3)):\n",
        "    for j in list(range(0,6)) :\n",
        "        cont = pd.crosstab(sale_df1[categorical_cols[i]], sale_df1[categorical_cols[j]])\n",
        "        c, p, dof, expected = chi2_contingency(cont)\n",
        "        print(categorical_cols[i] + \"  \", categorical_cols[j])\n",
        "        print(p)"
      ],
      "execution_count": null,
      "outputs": [
        {
          "output_type": "stream",
          "text": [
            "Gender   Gender\n",
            "0.0\n",
            "Gender   Occupation\n",
            "0.0\n",
            "Gender   City_Category\n",
            "5.097590042852447e-08\n",
            "Gender   Stay_In_Current_City_Years\n",
            "2.4239419818989305e-190\n",
            "Gender   Marital_Status\n",
            "7.80091894540745e-18\n",
            "Gender   Product_Category_1\n",
            "0.0\n",
            "Occupation   Gender\n",
            "0.0\n",
            "Occupation   Occupation\n",
            "0.0\n",
            "Occupation   City_Category\n",
            "0.0\n",
            "Occupation   Stay_In_Current_City_Years\n",
            "0.0\n",
            "Occupation   Marital_Status\n",
            "0.0\n",
            "Occupation   Product_Category_1\n",
            "0.0\n",
            "City_Category   Gender\n",
            "5.097590042852447e-08\n",
            "City_Category   Occupation\n",
            "0.0\n",
            "City_Category   City_Category\n",
            "0.0\n",
            "City_Category   Stay_In_Current_City_Years\n",
            "0.0\n",
            "City_Category   Marital_Status\n",
            "7.649061125706496e-190\n",
            "City_Category   Product_Category_1\n",
            "0.0\n"
          ],
          "name": "stdout"
        }
      ]
    },
    {
      "cell_type": "markdown",
      "metadata": {
        "id": "ByTvCk3sUypw"
      },
      "source": [
        "###Change to Numeric"
      ]
    },
    {
      "cell_type": "markdown",
      "metadata": {
        "id": "weRIR_6zU4V2"
      },
      "source": [
        "####Age"
      ]
    },
    {
      "cell_type": "code",
      "metadata": {
        "colab": {
          "base_uri": "https://localhost:8080/"
        },
        "id": "vtewVboyTgPL",
        "outputId": "13a9d1e1-592d-4393-cd18-20421c6cf856"
      },
      "source": [
        "#Chaneg to numeric\n",
        "ages = sale_df1['Age'].unique()\n",
        "ages"
      ],
      "execution_count": null,
      "outputs": [
        {
          "output_type": "execute_result",
          "data": {
            "text/plain": [
              "array(['0-17', '55+', '26-35', '46-50', '51-55', '36-45', '18-25'],\n",
              "      dtype=object)"
            ]
          },
          "metadata": {
            "tags": []
          },
          "execution_count": 19
        }
      ]
    },
    {
      "cell_type": "code",
      "metadata": {
        "colab": {
          "base_uri": "https://localhost:8080/",
          "height": 131
        },
        "id": "LkLwaIKIUG7o",
        "outputId": "ae88ed5c-da13-4562-ade1-dfd592e06136"
      },
      "source": [
        "Age_number = {ages[2] : 30, ages[5]:40, ages[3] : 48, ages[4] : 53, ages[1] : 60, ages[0] : 9, ages[6] : 22}\n",
        "sale_df1 = sale_df1.replace({'Age':Age_number})\n",
        "sale_df1['Age'].unique()\n",
        "sale_df1.head(2)"
      ],
      "execution_count": null,
      "outputs": [
        {
          "output_type": "execute_result",
          "data": {
            "text/html": [
              "<div>\n",
              "<style scoped>\n",
              "    .dataframe tbody tr th:only-of-type {\n",
              "        vertical-align: middle;\n",
              "    }\n",
              "\n",
              "    .dataframe tbody tr th {\n",
              "        vertical-align: top;\n",
              "    }\n",
              "\n",
              "    .dataframe thead th {\n",
              "        text-align: right;\n",
              "    }\n",
              "</style>\n",
              "<table border=\"1\" class=\"dataframe\">\n",
              "  <thead>\n",
              "    <tr style=\"text-align: right;\">\n",
              "      <th></th>\n",
              "      <th>User_ID</th>\n",
              "      <th>Product_ID</th>\n",
              "      <th>Gender</th>\n",
              "      <th>Age</th>\n",
              "      <th>Occupation</th>\n",
              "      <th>City_Category</th>\n",
              "      <th>Stay_In_Current_City_Years</th>\n",
              "      <th>Marital_Status</th>\n",
              "      <th>Product_Category_1</th>\n",
              "      <th>Product_Category_2</th>\n",
              "      <th>Product_Category_3</th>\n",
              "      <th>Purchase</th>\n",
              "    </tr>\n",
              "  </thead>\n",
              "  <tbody>\n",
              "    <tr>\n",
              "      <th>0</th>\n",
              "      <td>1000001</td>\n",
              "      <td>P00069042</td>\n",
              "      <td>F</td>\n",
              "      <td>9</td>\n",
              "      <td>10</td>\n",
              "      <td>A</td>\n",
              "      <td>2</td>\n",
              "      <td>0</td>\n",
              "      <td>3</td>\n",
              "      <td>0.0</td>\n",
              "      <td>0.0</td>\n",
              "      <td>8370</td>\n",
              "    </tr>\n",
              "    <tr>\n",
              "      <th>1</th>\n",
              "      <td>1000001</td>\n",
              "      <td>P00248942</td>\n",
              "      <td>F</td>\n",
              "      <td>9</td>\n",
              "      <td>10</td>\n",
              "      <td>A</td>\n",
              "      <td>2</td>\n",
              "      <td>0</td>\n",
              "      <td>1</td>\n",
              "      <td>6.0</td>\n",
              "      <td>14.0</td>\n",
              "      <td>15200</td>\n",
              "    </tr>\n",
              "  </tbody>\n",
              "</table>\n",
              "</div>"
            ],
            "text/plain": [
              "   User_ID Product_ID Gender  ...  Product_Category_2  Product_Category_3 Purchase\n",
              "0  1000001  P00069042      F  ...                 0.0                 0.0     8370\n",
              "1  1000001  P00248942      F  ...                 6.0                14.0    15200\n",
              "\n",
              "[2 rows x 12 columns]"
            ]
          },
          "metadata": {
            "tags": []
          },
          "execution_count": 20
        }
      ]
    },
    {
      "cell_type": "markdown",
      "metadata": {
        "id": "dHFSUL0gU9ri"
      },
      "source": [
        "####Gender"
      ]
    },
    {
      "cell_type": "code",
      "metadata": {
        "colab": {
          "base_uri": "https://localhost:8080/",
          "height": 131
        },
        "id": "A5AXPclOUvx7",
        "outputId": "7e309327-9d1a-4993-d6e5-c29411809173"
      },
      "source": [
        "gender_dict = {'F':0, 'M':1}\n",
        "sale_df1['Gender'] = sale_df1['Gender'].apply(lambda x: gender_dict[x])\n",
        "sale_df1.head(2)"
      ],
      "execution_count": null,
      "outputs": [
        {
          "output_type": "execute_result",
          "data": {
            "text/html": [
              "<div>\n",
              "<style scoped>\n",
              "    .dataframe tbody tr th:only-of-type {\n",
              "        vertical-align: middle;\n",
              "    }\n",
              "\n",
              "    .dataframe tbody tr th {\n",
              "        vertical-align: top;\n",
              "    }\n",
              "\n",
              "    .dataframe thead th {\n",
              "        text-align: right;\n",
              "    }\n",
              "</style>\n",
              "<table border=\"1\" class=\"dataframe\">\n",
              "  <thead>\n",
              "    <tr style=\"text-align: right;\">\n",
              "      <th></th>\n",
              "      <th>User_ID</th>\n",
              "      <th>Product_ID</th>\n",
              "      <th>Gender</th>\n",
              "      <th>Age</th>\n",
              "      <th>Occupation</th>\n",
              "      <th>City_Category</th>\n",
              "      <th>Stay_In_Current_City_Years</th>\n",
              "      <th>Marital_Status</th>\n",
              "      <th>Product_Category_1</th>\n",
              "      <th>Product_Category_2</th>\n",
              "      <th>Product_Category_3</th>\n",
              "      <th>Purchase</th>\n",
              "    </tr>\n",
              "  </thead>\n",
              "  <tbody>\n",
              "    <tr>\n",
              "      <th>0</th>\n",
              "      <td>1000001</td>\n",
              "      <td>P00069042</td>\n",
              "      <td>0</td>\n",
              "      <td>9</td>\n",
              "      <td>10</td>\n",
              "      <td>A</td>\n",
              "      <td>2</td>\n",
              "      <td>0</td>\n",
              "      <td>3</td>\n",
              "      <td>0.0</td>\n",
              "      <td>0.0</td>\n",
              "      <td>8370</td>\n",
              "    </tr>\n",
              "    <tr>\n",
              "      <th>1</th>\n",
              "      <td>1000001</td>\n",
              "      <td>P00248942</td>\n",
              "      <td>0</td>\n",
              "      <td>9</td>\n",
              "      <td>10</td>\n",
              "      <td>A</td>\n",
              "      <td>2</td>\n",
              "      <td>0</td>\n",
              "      <td>1</td>\n",
              "      <td>6.0</td>\n",
              "      <td>14.0</td>\n",
              "      <td>15200</td>\n",
              "    </tr>\n",
              "  </tbody>\n",
              "</table>\n",
              "</div>"
            ],
            "text/plain": [
              "   User_ID Product_ID  Gender  ...  Product_Category_2  Product_Category_3 Purchase\n",
              "0  1000001  P00069042       0  ...                 0.0                 0.0     8370\n",
              "1  1000001  P00248942       0  ...                 6.0                14.0    15200\n",
              "\n",
              "[2 rows x 12 columns]"
            ]
          },
          "metadata": {
            "tags": []
          },
          "execution_count": 21
        }
      ]
    },
    {
      "cell_type": "markdown",
      "metadata": {
        "id": "9Yu7LPvkd61Y"
      },
      "source": [
        "####City Category"
      ]
    },
    {
      "cell_type": "code",
      "metadata": {
        "colab": {
          "base_uri": "https://localhost:8080/",
          "height": 131
        },
        "id": "nedyqXPveAhc",
        "outputId": "2156aba1-ca23-44d5-d935-a14f48c62908"
      },
      "source": [
        "city_Category_dict = {'A':0, 'B':1, 'C':2}\n",
        "sale_df1['City_Category'] = sale_df1['City_Category'].apply(lambda x: city_Category_dict[x])\n",
        "sale_df1.head(2)"
      ],
      "execution_count": null,
      "outputs": [
        {
          "output_type": "execute_result",
          "data": {
            "text/html": [
              "<div>\n",
              "<style scoped>\n",
              "    .dataframe tbody tr th:only-of-type {\n",
              "        vertical-align: middle;\n",
              "    }\n",
              "\n",
              "    .dataframe tbody tr th {\n",
              "        vertical-align: top;\n",
              "    }\n",
              "\n",
              "    .dataframe thead th {\n",
              "        text-align: right;\n",
              "    }\n",
              "</style>\n",
              "<table border=\"1\" class=\"dataframe\">\n",
              "  <thead>\n",
              "    <tr style=\"text-align: right;\">\n",
              "      <th></th>\n",
              "      <th>User_ID</th>\n",
              "      <th>Product_ID</th>\n",
              "      <th>Gender</th>\n",
              "      <th>Age</th>\n",
              "      <th>Occupation</th>\n",
              "      <th>City_Category</th>\n",
              "      <th>Stay_In_Current_City_Years</th>\n",
              "      <th>Marital_Status</th>\n",
              "      <th>Product_Category_1</th>\n",
              "      <th>Product_Category_2</th>\n",
              "      <th>Product_Category_3</th>\n",
              "      <th>Purchase</th>\n",
              "    </tr>\n",
              "  </thead>\n",
              "  <tbody>\n",
              "    <tr>\n",
              "      <th>0</th>\n",
              "      <td>1000001</td>\n",
              "      <td>P00069042</td>\n",
              "      <td>0</td>\n",
              "      <td>9</td>\n",
              "      <td>10</td>\n",
              "      <td>0</td>\n",
              "      <td>2</td>\n",
              "      <td>0</td>\n",
              "      <td>3</td>\n",
              "      <td>0.0</td>\n",
              "      <td>0.0</td>\n",
              "      <td>8370</td>\n",
              "    </tr>\n",
              "    <tr>\n",
              "      <th>1</th>\n",
              "      <td>1000001</td>\n",
              "      <td>P00248942</td>\n",
              "      <td>0</td>\n",
              "      <td>9</td>\n",
              "      <td>10</td>\n",
              "      <td>0</td>\n",
              "      <td>2</td>\n",
              "      <td>0</td>\n",
              "      <td>1</td>\n",
              "      <td>6.0</td>\n",
              "      <td>14.0</td>\n",
              "      <td>15200</td>\n",
              "    </tr>\n",
              "  </tbody>\n",
              "</table>\n",
              "</div>"
            ],
            "text/plain": [
              "   User_ID Product_ID  Gender  ...  Product_Category_2  Product_Category_3  Purchase\n",
              "0  1000001  P00069042       0  ...                 0.0                 0.0      8370\n",
              "1  1000001  P00248942       0  ...                 6.0                14.0     15200\n",
              "\n",
              "[2 rows x 12 columns]"
            ]
          },
          "metadata": {
            "tags": []
          },
          "execution_count": 22
        }
      ]
    },
    {
      "cell_type": "markdown",
      "metadata": {
        "id": "_UuB2MLyeXVb"
      },
      "source": [
        "####Stay In Current City Years"
      ]
    },
    {
      "cell_type": "code",
      "metadata": {
        "colab": {
          "base_uri": "https://localhost:8080/",
          "height": 131
        },
        "id": "7u5VpO1meXh3",
        "outputId": "118bbd16-d2a1-4c1c-dcd8-9a5e72283059"
      },
      "source": [
        "stay_years_dict = {'0':0, '1':1, '2':2, '3':3, '4+':4}\n",
        "sale_df1['Stay_In_Current_City_Years'] = sale_df1['Stay_In_Current_City_Years'].apply(lambda x: stay_years_dict[x])\n",
        "sale_df1.head(2)"
      ],
      "execution_count": null,
      "outputs": [
        {
          "output_type": "execute_result",
          "data": {
            "text/html": [
              "<div>\n",
              "<style scoped>\n",
              "    .dataframe tbody tr th:only-of-type {\n",
              "        vertical-align: middle;\n",
              "    }\n",
              "\n",
              "    .dataframe tbody tr th {\n",
              "        vertical-align: top;\n",
              "    }\n",
              "\n",
              "    .dataframe thead th {\n",
              "        text-align: right;\n",
              "    }\n",
              "</style>\n",
              "<table border=\"1\" class=\"dataframe\">\n",
              "  <thead>\n",
              "    <tr style=\"text-align: right;\">\n",
              "      <th></th>\n",
              "      <th>User_ID</th>\n",
              "      <th>Product_ID</th>\n",
              "      <th>Gender</th>\n",
              "      <th>Age</th>\n",
              "      <th>Occupation</th>\n",
              "      <th>City_Category</th>\n",
              "      <th>Stay_In_Current_City_Years</th>\n",
              "      <th>Marital_Status</th>\n",
              "      <th>Product_Category_1</th>\n",
              "      <th>Product_Category_2</th>\n",
              "      <th>Product_Category_3</th>\n",
              "      <th>Purchase</th>\n",
              "    </tr>\n",
              "  </thead>\n",
              "  <tbody>\n",
              "    <tr>\n",
              "      <th>0</th>\n",
              "      <td>1000001</td>\n",
              "      <td>P00069042</td>\n",
              "      <td>0</td>\n",
              "      <td>9</td>\n",
              "      <td>10</td>\n",
              "      <td>0</td>\n",
              "      <td>2</td>\n",
              "      <td>0</td>\n",
              "      <td>3</td>\n",
              "      <td>0.0</td>\n",
              "      <td>0.0</td>\n",
              "      <td>8370</td>\n",
              "    </tr>\n",
              "    <tr>\n",
              "      <th>1</th>\n",
              "      <td>1000001</td>\n",
              "      <td>P00248942</td>\n",
              "      <td>0</td>\n",
              "      <td>9</td>\n",
              "      <td>10</td>\n",
              "      <td>0</td>\n",
              "      <td>2</td>\n",
              "      <td>0</td>\n",
              "      <td>1</td>\n",
              "      <td>6.0</td>\n",
              "      <td>14.0</td>\n",
              "      <td>15200</td>\n",
              "    </tr>\n",
              "  </tbody>\n",
              "</table>\n",
              "</div>"
            ],
            "text/plain": [
              "   User_ID Product_ID  Gender  ...  Product_Category_2  Product_Category_3  Purchase\n",
              "0  1000001  P00069042       0  ...                 0.0                 0.0      8370\n",
              "1  1000001  P00248942       0  ...                 6.0                14.0     15200\n",
              "\n",
              "[2 rows x 12 columns]"
            ]
          },
          "metadata": {
            "tags": []
          },
          "execution_count": 23
        }
      ]
    },
    {
      "cell_type": "markdown",
      "metadata": {
        "id": "kO4RMO8ofkLp"
      },
      "source": [
        "####Product ID"
      ]
    },
    {
      "cell_type": "code",
      "metadata": {
        "colab": {
          "base_uri": "https://localhost:8080/",
          "height": 131
        },
        "id": "RgLTkGTIfnv-",
        "outputId": "4c1e7a3e-6d7d-4ec3-d98a-ce4e0e43e6ea"
      },
      "source": [
        "sale_df1['Product_ID'] = sale_df1['Product_ID'].str[1:]\n",
        "sale_df1['Product_ID'] = sale_df1['Product_ID'].astype(str).astype(int)\n",
        "sale_df1.head(2)\n",
        "\n",
        "#sale_df1['Product_Category_2'] = sale_df1['Product_Category_2'].astype(float).astype(int)\n",
        "#sale_df1['Product_Category_3'] = sale_df1['Product_Category_3'].astype(float).astype(int)         "
      ],
      "execution_count": null,
      "outputs": [
        {
          "output_type": "execute_result",
          "data": {
            "text/html": [
              "<div>\n",
              "<style scoped>\n",
              "    .dataframe tbody tr th:only-of-type {\n",
              "        vertical-align: middle;\n",
              "    }\n",
              "\n",
              "    .dataframe tbody tr th {\n",
              "        vertical-align: top;\n",
              "    }\n",
              "\n",
              "    .dataframe thead th {\n",
              "        text-align: right;\n",
              "    }\n",
              "</style>\n",
              "<table border=\"1\" class=\"dataframe\">\n",
              "  <thead>\n",
              "    <tr style=\"text-align: right;\">\n",
              "      <th></th>\n",
              "      <th>User_ID</th>\n",
              "      <th>Product_ID</th>\n",
              "      <th>Gender</th>\n",
              "      <th>Age</th>\n",
              "      <th>Occupation</th>\n",
              "      <th>City_Category</th>\n",
              "      <th>Stay_In_Current_City_Years</th>\n",
              "      <th>Marital_Status</th>\n",
              "      <th>Product_Category_1</th>\n",
              "      <th>Product_Category_2</th>\n",
              "      <th>Product_Category_3</th>\n",
              "      <th>Purchase</th>\n",
              "    </tr>\n",
              "  </thead>\n",
              "  <tbody>\n",
              "    <tr>\n",
              "      <th>0</th>\n",
              "      <td>1000001</td>\n",
              "      <td>69042</td>\n",
              "      <td>0</td>\n",
              "      <td>9</td>\n",
              "      <td>10</td>\n",
              "      <td>0</td>\n",
              "      <td>2</td>\n",
              "      <td>0</td>\n",
              "      <td>3</td>\n",
              "      <td>0.0</td>\n",
              "      <td>0.0</td>\n",
              "      <td>8370</td>\n",
              "    </tr>\n",
              "    <tr>\n",
              "      <th>1</th>\n",
              "      <td>1000001</td>\n",
              "      <td>248942</td>\n",
              "      <td>0</td>\n",
              "      <td>9</td>\n",
              "      <td>10</td>\n",
              "      <td>0</td>\n",
              "      <td>2</td>\n",
              "      <td>0</td>\n",
              "      <td>1</td>\n",
              "      <td>6.0</td>\n",
              "      <td>14.0</td>\n",
              "      <td>15200</td>\n",
              "    </tr>\n",
              "  </tbody>\n",
              "</table>\n",
              "</div>"
            ],
            "text/plain": [
              "   User_ID  Product_ID  ...  Product_Category_3  Purchase\n",
              "0  1000001       69042  ...                 0.0      8370\n",
              "1  1000001      248942  ...                14.0     15200\n",
              "\n",
              "[2 rows x 12 columns]"
            ]
          },
          "metadata": {
            "tags": []
          },
          "execution_count": 24
        }
      ]
    },
    {
      "cell_type": "code",
      "metadata": {
        "colab": {
          "base_uri": "https://localhost:8080/"
        },
        "id": "dBiAdG--f4kf",
        "outputId": "63a604c9-2c1c-45b4-a179-1b335d3b8598"
      },
      "source": [
        "sale_df1.info()"
      ],
      "execution_count": null,
      "outputs": [
        {
          "output_type": "stream",
          "text": [
            "<class 'pandas.core.frame.DataFrame'>\n",
            "RangeIndex: 550068 entries, 0 to 550067\n",
            "Data columns (total 12 columns):\n",
            " #   Column                      Non-Null Count   Dtype  \n",
            "---  ------                      --------------   -----  \n",
            " 0   User_ID                     550068 non-null  int64  \n",
            " 1   Product_ID                  550068 non-null  int64  \n",
            " 2   Gender                      550068 non-null  int64  \n",
            " 3   Age                         550068 non-null  int64  \n",
            " 4   Occupation                  550068 non-null  int64  \n",
            " 5   City_Category               550068 non-null  int64  \n",
            " 6   Stay_In_Current_City_Years  550068 non-null  int64  \n",
            " 7   Marital_Status              550068 non-null  int64  \n",
            " 8   Product_Category_1          550068 non-null  int64  \n",
            " 9   Product_Category_2          550068 non-null  float64\n",
            " 10  Product_Category_3          550068 non-null  float64\n",
            " 11  Purchase                    550068 non-null  int64  \n",
            "dtypes: float64(2), int64(10)\n",
            "memory usage: 50.4 MB\n"
          ],
          "name": "stdout"
        }
      ]
    },
    {
      "cell_type": "markdown",
      "metadata": {
        "id": "-_wm7WXQboio"
      },
      "source": [
        "###Age vs Purchase (Numeric)"
      ]
    },
    {
      "cell_type": "code",
      "metadata": {
        "colab": {
          "base_uri": "https://localhost:8080/",
          "height": 232
        },
        "id": "yaGQhg1rVypn",
        "outputId": "0e6a3748-2062-4e03-9c3e-4060ac39213d"
      },
      "source": [
        "numerical = sale_df1[['Age','Purchase']]\n",
        "corr = numerical.corr()\n",
        "plt.figure(figsize=(5,3))\n",
        "sns.heatmap(corr, annot=True)"
      ],
      "execution_count": null,
      "outputs": [
        {
          "output_type": "execute_result",
          "data": {
            "text/plain": [
              "<matplotlib.axes._subplots.AxesSubplot at 0x7fda0b635f50>"
            ]
          },
          "metadata": {
            "tags": []
          },
          "execution_count": 15
        },
        {
          "output_type": "display_data",
          "data": {
            "image/png": "[encoded data removed]",
            "text/plain": [
              "<Figure size 360x216 with 2 Axes>"
            ]
          },
          "metadata": {
            "tags": [],
            "needs_background": "light"
          }
        }
      ]
    },
    {
      "cell_type": "code",
      "metadata": {
        "colab": {
          "base_uri": "https://localhost:8080/",
          "height": 391
        },
        "id": "Q1apk6BoaJha",
        "outputId": "1c3fe04c-3f67-4895-82fb-e4debf68c756"
      },
      "source": [
        "sns.pairplot(numerical)"
      ],
      "execution_count": null,
      "outputs": [
        {
          "output_type": "execute_result",
          "data": {
            "text/plain": [
              "<seaborn.axisgrid.PairGrid at 0x7fcff08db590>"
            ]
          },
          "metadata": {
            "tags": []
          },
          "execution_count": 18
        },
        {
          "output_type": "display_data",
          "data": {
            "image/png": "[encoded data removed]",
            "text/plain": [
              "<Figure size 360x360 with 6 Axes>"
            ]
          },
          "metadata": {
            "tags": [],
            "needs_background": "light"
          }
        }
      ]
    },
    {
      "cell_type": "markdown",
      "metadata": {
        "id": "XfGTVy8abyMO"
      },
      "source": [
        "###OLS"
      ]
    },
    {
      "cell_type": "markdown",
      "metadata": {
        "id": "CQtWsjrJEn89"
      },
      "source": [
        "####OLS on Numeric"
      ]
    },
    {
      "cell_type": "code",
      "metadata": {
        "id": "DfivGM-5ai1p",
        "colab": {
          "base_uri": "https://localhost:8080/"
        },
        "outputId": "eb45c6aa-21ec-4b36-e033-f41421156662"
      },
      "source": [
        "#OLS\n",
        "#col_1 = ['Gender', 'Occupation', 'City_Category', 'Stay_In_Current_City_Years', 'Marital_Status', 'Product_Category_1', 'Product_Category_2', 'Product_Category_3']\n",
        "drop_cols_1 = ['User_ID', 'Product_ID', 'Purchase']\n",
        "\n",
        "X = sale_df1.drop(columns = drop_cols_1)\n",
        "Y = sale_df1[['Purchase']]\n",
        "\n",
        "df1 = sale_df1\n",
        "formula_str=\"Y~X\"\n",
        "result = sm.ols(formula=formula_str,data=df1).fit()\n",
        "print(result.summary())"
      ],
      "execution_count": null,
      "outputs": [
        {
          "output_type": "stream",
          "text": [
            "                            OLS Regression Results                            \n",
            "==============================================================================\n",
            "Dep. Variable:                      Y   R-squared:                       0.152\n",
            "Model:                            OLS   Adj. R-squared:                  0.152\n",
            "Method:                 Least Squares   F-statistic:                 1.097e+04\n",
            "Date:                Thu, 15 Apr 2021   Prob (F-statistic):               0.00\n",
            "Time:                        10:56:50   Log-Likelihood:            -5.4227e+06\n",
            "No. Observations:              550068   AIC:                         1.085e+07\n",
            "Df Residuals:                  550058   BIC:                         1.085e+07\n",
            "Df Model:                           9                                         \n",
            "Covariance Type:            nonrobust                                         \n",
            "==============================================================================\n",
            "                 coef    std err          t      P>|t|      [0.025      0.975]\n",
            "------------------------------------------------------------------------------\n",
            "Intercept   9331.7459     28.581    326.506      0.000    9275.729    9387.763\n",
            "X[0]         475.3325     14.583     32.594      0.000     446.750     503.915\n",
            "X[1]          13.0239      0.595     21.892      0.000      11.858      14.190\n",
            "X[2]           5.7373      0.967      5.930      0.000       3.841       7.633\n",
            "X[3]         318.0327      8.269     38.462      0.000     301.826     334.239\n",
            "X[4]           8.4508      4.840      1.746      0.081      -1.036      17.937\n",
            "X[5]         -50.1773     13.358     -3.756      0.000     -76.358     -23.996\n",
            "X[6]        -348.0904      1.723   -202.074      0.000    -351.467    -344.714\n",
            "X[7]          12.5202      1.009     12.411      0.000      10.543      14.497\n",
            "X[8]         143.6553      1.085    132.386      0.000     141.529     145.782\n",
            "==============================================================================\n",
            "Omnibus:                    57278.930   Durbin-Watson:                   1.726\n",
            "Prob(Omnibus):                  0.000   Jarque-Bera (JB):            79682.781\n",
            "Skew:                           0.833   Prob(JB):                         0.00\n",
            "Kurtosis:                       3.836   Cond. No.                         179.\n",
            "==============================================================================\n",
            "\n",
            "Warnings:\n",
            "[1] Standard Errors assume that the covariance matrix of the errors is correctly specified.\n"
          ],
          "name": "stdout"
        }
      ]
    },
    {
      "cell_type": "markdown",
      "metadata": {
        "id": "uIXyQtmZEu5F"
      },
      "source": [
        "####OLS Attribute Removed "
      ]
    },
    {
      "cell_type": "markdown",
      "metadata": {
        "id": "bLKLP7g_MA8y"
      },
      "source": [
        "AIC and BIC remain same after removal of attributes with no significant (p-value>0.05)."
      ]
    },
    {
      "cell_type": "code",
      "metadata": {
        "colab": {
          "base_uri": "https://localhost:8080/"
        },
        "id": "xVds-Et2zlnj",
        "outputId": "03a10a2c-26a4-4ad2-d3f4-69f85d11bc8a"
      },
      "source": [
        "#OLS\n",
        "drop_cols_1 = ['User_ID', 'Product_ID', 'Stay_In_Current_City_Years', 'Purchase']\n",
        "\n",
        "X = sale_df1.drop(columns = drop_cols_1)\n",
        "Y = sale_df1[['Purchase']]\n",
        "\n",
        "df1 = sale_df1\n",
        "formula_str=\"Y~X\"\n",
        "result = sm.ols(formula=formula_str,data=df1).fit()\n",
        "print(result.summary())"
      ],
      "execution_count": null,
      "outputs": [
        {
          "output_type": "stream",
          "text": [
            "                            OLS Regression Results                            \n",
            "==============================================================================\n",
            "Dep. Variable:                      Y   R-squared:                       0.152\n",
            "Model:                            OLS   Adj. R-squared:                  0.152\n",
            "Method:                 Least Squares   F-statistic:                 1.234e+04\n",
            "Date:                Thu, 15 Apr 2021   Prob (F-statistic):               0.00\n",
            "Time:                        10:56:51   Log-Likelihood:            -5.4227e+06\n",
            "No. Observations:              550068   AIC:                         1.085e+07\n",
            "Df Residuals:                  550059   BIC:                         1.085e+07\n",
            "Df Model:                           8                                         \n",
            "Covariance Type:            nonrobust                                         \n",
            "==============================================================================\n",
            "                 coef    std err          t      P>|t|      [0.025      0.975]\n",
            "------------------------------------------------------------------------------\n",
            "Intercept   9346.8639     27.238    343.161      0.000    9293.479    9400.249\n",
            "X[0]         475.6134     14.582     32.616      0.000     447.032     504.194\n",
            "X[1]          13.0193      0.595     21.884      0.000      11.853      14.185\n",
            "X[2]           5.7852      0.967      5.982      0.000       3.890       7.681\n",
            "X[3]         318.3197      8.267     38.504      0.000     302.116     334.523\n",
            "X[4]         -50.4578     13.357     -3.778      0.000     -76.637     -24.279\n",
            "X[5]        -348.0984      1.723   -202.079      0.000    -351.475    -344.722\n",
            "X[6]          12.5215      1.009     12.413      0.000      10.544      14.499\n",
            "X[7]         143.6540      1.085    132.385      0.000     141.527     145.781\n",
            "==============================================================================\n",
            "Omnibus:                    57275.990   Durbin-Watson:                   1.726\n",
            "Prob(Omnibus):                  0.000   Jarque-Bera (JB):            79677.342\n",
            "Skew:                           0.833   Prob(JB):                         0.00\n",
            "Kurtosis:                       3.836   Cond. No.                         171.\n",
            "==============================================================================\n",
            "\n",
            "Warnings:\n",
            "[1] Standard Errors assume that the covariance matrix of the errors is correctly specified.\n"
          ],
          "name": "stdout"
        }
      ]
    },
    {
      "cell_type": "code",
      "metadata": {
        "colab": {
          "base_uri": "https://localhost:8080/"
        },
        "id": "W8QTNzaBLGoe",
        "outputId": "55621cc4-d4ae-49ea-a88f-57e5e8016244"
      },
      "source": [
        "#OLS\n",
        "drop_cols_1 = ['User_ID', 'Product_ID', 'Gender', 'Occupation', 'City_Category','Stay_In_Current_City_Years', 'Purchase']\n",
        "\n",
        "X = sale_df1.drop(columns = drop_cols_1)\n",
        "Y = sale_df1[['Purchase']]\n",
        "\n",
        "df1 = sale_df1\n",
        "formula_str=\"Y~X\"\n",
        "result = sm.ols(formula=formula_str,data=df1).fit()\n",
        "print(result.summary())"
      ],
      "execution_count": null,
      "outputs": [
        {
          "output_type": "stream",
          "text": [
            "                            OLS Regression Results                            \n",
            "==============================================================================\n",
            "Dep. Variable:                      Y   R-squared:                       0.148\n",
            "Model:                            OLS   Adj. R-squared:                  0.148\n",
            "Method:                 Least Squares   F-statistic:                 1.913e+04\n",
            "Date:                Thu, 15 Apr 2021   Prob (F-statistic):               0.00\n",
            "Time:                        10:56:51   Log-Likelihood:            -5.4240e+06\n",
            "No. Observations:              550068   AIC:                         1.085e+07\n",
            "Df Residuals:                  550062   BIC:                         1.085e+07\n",
            "Df Model:                           5                                         \n",
            "Covariance Type:            nonrobust                                         \n",
            "==============================================================================\n",
            "                 coef    std err          t      P>|t|      [0.025      0.975]\n",
            "------------------------------------------------------------------------------\n",
            "Intercept   9991.6018     23.631    422.817      0.000    9945.286       1e+04\n",
            "X[0]          15.8752      0.591     26.877      0.000      14.718      17.033\n",
            "X[1]         -53.6911     13.388     -4.010      0.000     -79.931     -27.451\n",
            "X[2]        -350.6469      1.726   -203.200      0.000    -354.029    -347.265\n",
            "X[3]          12.7514      1.011     12.611      0.000      10.770      14.733\n",
            "X[4]         145.6828      1.087    134.024      0.000     143.552     147.813\n",
            "==============================================================================\n",
            "Omnibus:                    57590.959   Durbin-Watson:                   1.719\n",
            "Prob(Omnibus):                  0.000   Jarque-Bera (JB):            80128.898\n",
            "Skew:                           0.837   Prob(JB):                         0.00\n",
            "Kurtosis:                       3.832   Cond. No.                         141.\n",
            "==============================================================================\n",
            "\n",
            "Warnings:\n",
            "[1] Standard Errors assume that the covariance matrix of the errors is correctly specified.\n"
          ],
          "name": "stdout"
        }
      ]
    },
    {
      "cell_type": "markdown",
      "metadata": {
        "id": "nKGB7ckBAFW9"
      },
      "source": [
        "####Dummy Generated"
      ]
    },
    {
      "cell_type": "code",
      "metadata": {
        "id": "YIz9c0zh08xp",
        "colab": {
          "base_uri": "https://localhost:8080/",
          "height": 160
        },
        "outputId": "59b9d34e-525e-41ba-9ead-8f368df91555"
      },
      "source": [
        "#Generating Dummies Values\n",
        "col_1 = ['Gender', 'Occupation', 'City_Category', 'Stay_In_Current_City_Years', 'Marital_Status', 'Product_Category_1', 'Product_Category_2', 'Product_Category_3']\n",
        "drop_cols_1 = ['User_ID', 'Product_ID', 'Purchase']\n",
        "\n",
        "Y = sale_df1[['Purchase']]\n",
        "X1 = pd.get_dummies(sale_df1, columns=col_1)\n",
        "dummy_X = X1.drop(columns = drop_cols_1)\n",
        "dummy_X.head(2)"
      ],
      "execution_count": null,
      "outputs": [
        {
          "output_type": "execute_result",
          "data": {
            "text/html": [
              "<div>\n",
              "<style scoped>\n",
              "    .dataframe tbody tr th:only-of-type {\n",
              "        vertical-align: middle;\n",
              "    }\n",
              "\n",
              "    .dataframe tbody tr th {\n",
              "        vertical-align: top;\n",
              "    }\n",
              "\n",
              "    .dataframe thead th {\n",
              "        text-align: right;\n",
              "    }\n",
              "</style>\n",
              "<table border=\"1\" class=\"dataframe\">\n",
              "  <thead>\n",
              "    <tr style=\"text-align: right;\">\n",
              "      <th></th>\n",
              "      <th>Age</th>\n",
              "      <th>Gender_0</th>\n",
              "      <th>Gender_1</th>\n",
              "      <th>Occupation_0</th>\n",
              "      <th>Occupation_1</th>\n",
              "      <th>Occupation_2</th>\n",
              "      <th>Occupation_3</th>\n",
              "      <th>Occupation_4</th>\n",
              "      <th>Occupation_5</th>\n",
              "      <th>Occupation_6</th>\n",
              "      <th>Occupation_7</th>\n",
              "      <th>Occupation_8</th>\n",
              "      <th>Occupation_9</th>\n",
              "      <th>Occupation_10</th>\n",
              "      <th>Occupation_11</th>\n",
              "      <th>Occupation_12</th>\n",
              "      <th>Occupation_13</th>\n",
              "      <th>Occupation_14</th>\n",
              "      <th>Occupation_15</th>\n",
              "      <th>Occupation_16</th>\n",
              "      <th>Occupation_17</th>\n",
              "      <th>Occupation_18</th>\n",
              "      <th>Occupation_19</th>\n",
              "      <th>Occupation_20</th>\n",
              "      <th>City_Category_0</th>\n",
              "      <th>City_Category_1</th>\n",
              "      <th>City_Category_2</th>\n",
              "      <th>Stay_In_Current_City_Years_0</th>\n",
              "      <th>Stay_In_Current_City_Years_1</th>\n",
              "      <th>Stay_In_Current_City_Years_2</th>\n",
              "      <th>Stay_In_Current_City_Years_3</th>\n",
              "      <th>Stay_In_Current_City_Years_4</th>\n",
              "      <th>Marital_Status_0</th>\n",
              "      <th>Marital_Status_1</th>\n",
              "      <th>Product_Category_1_1</th>\n",
              "      <th>Product_Category_1_2</th>\n",
              "      <th>Product_Category_1_3</th>\n",
              "      <th>Product_Category_1_4</th>\n",
              "      <th>Product_Category_1_5</th>\n",
              "      <th>Product_Category_1_6</th>\n",
              "      <th>...</th>\n",
              "      <th>Product_Category_1_15</th>\n",
              "      <th>Product_Category_1_16</th>\n",
              "      <th>Product_Category_1_17</th>\n",
              "      <th>Product_Category_1_18</th>\n",
              "      <th>Product_Category_1_19</th>\n",
              "      <th>Product_Category_1_20</th>\n",
              "      <th>Product_Category_2_0.0</th>\n",
              "      <th>Product_Category_2_2.0</th>\n",
              "      <th>Product_Category_2_3.0</th>\n",
              "      <th>Product_Category_2_4.0</th>\n",
              "      <th>Product_Category_2_5.0</th>\n",
              "      <th>Product_Category_2_6.0</th>\n",
              "      <th>Product_Category_2_7.0</th>\n",
              "      <th>Product_Category_2_8.0</th>\n",
              "      <th>Product_Category_2_9.0</th>\n",
              "      <th>Product_Category_2_10.0</th>\n",
              "      <th>Product_Category_2_11.0</th>\n",
              "      <th>Product_Category_2_12.0</th>\n",
              "      <th>Product_Category_2_13.0</th>\n",
              "      <th>Product_Category_2_14.0</th>\n",
              "      <th>Product_Category_2_15.0</th>\n",
              "      <th>Product_Category_2_16.0</th>\n",
              "      <th>Product_Category_2_17.0</th>\n",
              "      <th>Product_Category_2_18.0</th>\n",
              "      <th>Product_Category_3_0.0</th>\n",
              "      <th>Product_Category_3_3.0</th>\n",
              "      <th>Product_Category_3_4.0</th>\n",
              "      <th>Product_Category_3_5.0</th>\n",
              "      <th>Product_Category_3_6.0</th>\n",
              "      <th>Product_Category_3_8.0</th>\n",
              "      <th>Product_Category_3_9.0</th>\n",
              "      <th>Product_Category_3_10.0</th>\n",
              "      <th>Product_Category_3_11.0</th>\n",
              "      <th>Product_Category_3_12.0</th>\n",
              "      <th>Product_Category_3_13.0</th>\n",
              "      <th>Product_Category_3_14.0</th>\n",
              "      <th>Product_Category_3_15.0</th>\n",
              "      <th>Product_Category_3_16.0</th>\n",
              "      <th>Product_Category_3_17.0</th>\n",
              "      <th>Product_Category_3_18.0</th>\n",
              "    </tr>\n",
              "  </thead>\n",
              "  <tbody>\n",
              "    <tr>\n",
              "      <th>0</th>\n",
              "      <td>9</td>\n",
              "      <td>1</td>\n",
              "      <td>0</td>\n",
              "      <td>0</td>\n",
              "      <td>0</td>\n",
              "      <td>0</td>\n",
              "      <td>0</td>\n",
              "      <td>0</td>\n",
              "      <td>0</td>\n",
              "      <td>0</td>\n",
              "      <td>0</td>\n",
              "      <td>0</td>\n",
              "      <td>0</td>\n",
              "      <td>1</td>\n",
              "      <td>0</td>\n",
              "      <td>0</td>\n",
              "      <td>0</td>\n",
              "      <td>0</td>\n",
              "      <td>0</td>\n",
              "      <td>0</td>\n",
              "      <td>0</td>\n",
              "      <td>0</td>\n",
              "      <td>0</td>\n",
              "      <td>0</td>\n",
              "      <td>1</td>\n",
              "      <td>0</td>\n",
              "      <td>0</td>\n",
              "      <td>0</td>\n",
              "      <td>0</td>\n",
              "      <td>1</td>\n",
              "      <td>0</td>\n",
              "      <td>0</td>\n",
              "      <td>1</td>\n",
              "      <td>0</td>\n",
              "      <td>0</td>\n",
              "      <td>0</td>\n",
              "      <td>1</td>\n",
              "      <td>0</td>\n",
              "      <td>0</td>\n",
              "      <td>0</td>\n",
              "      <td>...</td>\n",
              "      <td>0</td>\n",
              "      <td>0</td>\n",
              "      <td>0</td>\n",
              "      <td>0</td>\n",
              "      <td>0</td>\n",
              "      <td>0</td>\n",
              "      <td>1</td>\n",
              "      <td>0</td>\n",
              "      <td>0</td>\n",
              "      <td>0</td>\n",
              "      <td>0</td>\n",
              "      <td>0</td>\n",
              "      <td>0</td>\n",
              "      <td>0</td>\n",
              "      <td>0</td>\n",
              "      <td>0</td>\n",
              "      <td>0</td>\n",
              "      <td>0</td>\n",
              "      <td>0</td>\n",
              "      <td>0</td>\n",
              "      <td>0</td>\n",
              "      <td>0</td>\n",
              "      <td>0</td>\n",
              "      <td>0</td>\n",
              "      <td>1</td>\n",
              "      <td>0</td>\n",
              "      <td>0</td>\n",
              "      <td>0</td>\n",
              "      <td>0</td>\n",
              "      <td>0</td>\n",
              "      <td>0</td>\n",
              "      <td>0</td>\n",
              "      <td>0</td>\n",
              "      <td>0</td>\n",
              "      <td>0</td>\n",
              "      <td>0</td>\n",
              "      <td>0</td>\n",
              "      <td>0</td>\n",
              "      <td>0</td>\n",
              "      <td>0</td>\n",
              "    </tr>\n",
              "    <tr>\n",
              "      <th>1</th>\n",
              "      <td>9</td>\n",
              "      <td>1</td>\n",
              "      <td>0</td>\n",
              "      <td>0</td>\n",
              "      <td>0</td>\n",
              "      <td>0</td>\n",
              "      <td>0</td>\n",
              "      <td>0</td>\n",
              "      <td>0</td>\n",
              "      <td>0</td>\n",
              "      <td>0</td>\n",
              "      <td>0</td>\n",
              "      <td>0</td>\n",
              "      <td>1</td>\n",
              "      <td>0</td>\n",
              "      <td>0</td>\n",
              "      <td>0</td>\n",
              "      <td>0</td>\n",
              "      <td>0</td>\n",
              "      <td>0</td>\n",
              "      <td>0</td>\n",
              "      <td>0</td>\n",
              "      <td>0</td>\n",
              "      <td>0</td>\n",
              "      <td>1</td>\n",
              "      <td>0</td>\n",
              "      <td>0</td>\n",
              "      <td>0</td>\n",
              "      <td>0</td>\n",
              "      <td>1</td>\n",
              "      <td>0</td>\n",
              "      <td>0</td>\n",
              "      <td>1</td>\n",
              "      <td>0</td>\n",
              "      <td>1</td>\n",
              "      <td>0</td>\n",
              "      <td>0</td>\n",
              "      <td>0</td>\n",
              "      <td>0</td>\n",
              "      <td>0</td>\n",
              "      <td>...</td>\n",
              "      <td>0</td>\n",
              "      <td>0</td>\n",
              "      <td>0</td>\n",
              "      <td>0</td>\n",
              "      <td>0</td>\n",
              "      <td>0</td>\n",
              "      <td>0</td>\n",
              "      <td>0</td>\n",
              "      <td>0</td>\n",
              "      <td>0</td>\n",
              "      <td>0</td>\n",
              "      <td>1</td>\n",
              "      <td>0</td>\n",
              "      <td>0</td>\n",
              "      <td>0</td>\n",
              "      <td>0</td>\n",
              "      <td>0</td>\n",
              "      <td>0</td>\n",
              "      <td>0</td>\n",
              "      <td>0</td>\n",
              "      <td>0</td>\n",
              "      <td>0</td>\n",
              "      <td>0</td>\n",
              "      <td>0</td>\n",
              "      <td>0</td>\n",
              "      <td>0</td>\n",
              "      <td>0</td>\n",
              "      <td>0</td>\n",
              "      <td>0</td>\n",
              "      <td>0</td>\n",
              "      <td>0</td>\n",
              "      <td>0</td>\n",
              "      <td>0</td>\n",
              "      <td>0</td>\n",
              "      <td>0</td>\n",
              "      <td>1</td>\n",
              "      <td>0</td>\n",
              "      <td>0</td>\n",
              "      <td>0</td>\n",
              "      <td>0</td>\n",
              "    </tr>\n",
              "  </tbody>\n",
              "</table>\n",
              "<p>2 rows × 88 columns</p>\n",
              "</div>"
            ],
            "text/plain": [
              "   Age  Gender_0  ...  Product_Category_3_17.0  Product_Category_3_18.0\n",
              "0    9         1  ...                        0                        0\n",
              "1    9         1  ...                        0                        0\n",
              "\n",
              "[2 rows x 88 columns]"
            ]
          },
          "metadata": {
            "tags": []
          },
          "execution_count": 28
        }
      ]
    },
    {
      "cell_type": "markdown",
      "metadata": {
        "id": "op5Rq2wkEisi"
      },
      "source": [
        "####OLS Dummy"
      ]
    },
    {
      "cell_type": "code",
      "metadata": {
        "colab": {
          "base_uri": "https://localhost:8080/"
        },
        "id": "BReMffvu1dkV",
        "outputId": "a3a597b3-cfb2-4bec-f977-72b9926c6bca"
      },
      "source": [
        "#OLS\n",
        "X = dummy_X\n",
        "Y = sale_df1[['Purchase']]\n",
        "\n",
        "df1 = sale_df1\n",
        "formula_str=\"Y~X\"\n",
        "result = sm.ols(formula=formula_str,data=df1).fit()\n",
        "print(result.summary())"
      ],
      "execution_count": null,
      "outputs": [
        {
          "output_type": "stream",
          "text": [
            "                            OLS Regression Results                            \n",
            "==============================================================================\n",
            "Dep. Variable:                      Y   R-squared:                       0.648\n",
            "Model:                            OLS   Adj. R-squared:                  0.648\n",
            "Method:                 Least Squares   F-statistic:                 1.264e+04\n",
            "Date:                Thu, 15 Apr 2021   Prob (F-statistic):               0.00\n",
            "Time:                        10:57:08   Log-Likelihood:            -5.1811e+06\n",
            "No. Observations:              550068   AIC:                         1.036e+07\n",
            "Df Residuals:                  549987   BIC:                         1.036e+07\n",
            "Df Model:                          80                                         \n",
            "Covariance Type:            nonrobust                                         \n",
            "==============================================================================\n",
            "                 coef    std err          t      P>|t|      [0.025      0.975]\n",
            "------------------------------------------------------------------------------\n",
            "Intercept   3195.7618      9.978    320.269      0.000    3176.205    3215.319\n",
            "X[0]           9.9793      0.452     22.083      0.000       9.094      10.865\n",
            "X[1]        1626.3497      7.296    222.908      0.000    1612.050    1640.650\n",
            "X[2]        1569.4121      6.672    235.208      0.000    1556.334    1582.490\n",
            "X[3]          79.4058     12.386      6.411      0.000      55.130     103.681\n",
            "X[4]          26.8769     14.512      1.852      0.064      -1.567      55.321\n",
            "X[5]         113.8518     18.522      6.147      0.000      77.549     150.154\n",
            "X[6]         308.9664     22.318     13.844      0.000     265.224     352.708\n",
            "X[7]         214.4885     12.947     16.566      0.000     189.112     239.865\n",
            "X[8]         130.1249     26.504      4.910      0.000      78.177     182.072\n",
            "X[9]         289.6664     20.993     13.798      0.000     248.520     330.813\n",
            "X[10]        182.0828     13.290     13.701      0.000     156.036     208.130\n",
            "X[11]       -211.4648     72.633     -2.911      0.004    -353.824     -69.106\n",
            "X[12]        177.3352     36.923      4.803      0.000     104.968     249.702\n",
            "X[13]        276.9009     27.735      9.984      0.000     222.541     331.260\n",
            "X[14]        174.6186     27.144      6.433      0.000     121.417     227.820\n",
            "X[15]        352.9368     17.294     20.408      0.000     319.041     386.832\n",
            "X[16]        125.7030     34.241      3.671      0.000      58.592     192.814\n",
            "X[17]        256.2456     18.260     14.033      0.000     220.456     292.035\n",
            "X[18]        432.5821     26.469     16.343      0.000     380.704     484.460\n",
            "X[19]        185.5277     19.025      9.752      0.000     148.239     222.817\n",
            "X[20]        258.3489     15.589     16.573      0.000     227.795     288.903\n",
            "X[21]         57.0282     35.554      1.604      0.109     -12.657     126.713\n",
            "X[22]       -211.0450     31.624     -6.674      0.000    -273.026    -149.064\n",
            "X[23]        -24.4188     16.754     -1.457      0.145     -57.256       8.419\n",
            "X[24]        838.6212      6.987    120.032      0.000     824.928     852.315\n",
            "X[25]        977.5842      6.296    155.282      0.000     965.245     989.923\n",
            "X[26]       1379.5564      6.941    198.755      0.000    1365.952    1393.161\n",
            "X[27]        625.7638      9.752     64.169      0.000     606.651     644.877\n",
            "X[28]        628.0176      6.973     90.064      0.000     614.351     641.684\n",
            "X[29]        667.2212      8.648     77.153      0.000     650.271     684.171\n",
            "X[30]        627.0277      8.879     70.616      0.000     609.624     644.431\n",
            "X[31]        647.7315      9.267     69.898      0.000     629.569     665.894\n",
            "X[32]       1626.0040      5.962    272.719      0.000    1614.318    1637.690\n",
            "X[33]       1569.7578      7.187    218.418      0.000    1555.672    1583.844\n",
            "X[34]       4491.2951     17.280    259.909      0.000    4457.426    4525.164\n",
            "X[35]       2745.6630     27.374    100.302      0.000    2692.011    2799.315\n",
            "X[36]       2300.1853     37.071     62.048      0.000    2227.527    2372.844\n",
            "X[37]      -6430.5677     34.415   -186.856      0.000   -6498.019   -6363.116\n",
            "X[38]      -2778.2595     15.466   -179.642      0.000   -2808.571   -2747.948\n",
            "X[39]       6631.7883     26.842    247.072      0.000    6579.180    6684.397\n",
            "X[40]       7443.4692     48.525    153.395      0.000    7348.362    7538.576\n",
            "X[41]      -1514.4417     15.922    -95.114      0.000   -1545.649   -1483.234\n",
            "X[42]       6712.7611    141.358     47.488      0.000    6435.705    6989.818\n",
            "X[43]       1.074e+04     43.314    247.910      0.000    1.07e+04    1.08e+04\n",
            "X[44]      -4227.3352     22.592   -187.117      0.000   -4271.615   -4183.056\n",
            "X[45]      -7657.2785     47.483   -161.263      0.000   -7750.344   -7564.213\n",
            "X[46]      -8262.1750     41.334   -199.889      0.000   -8343.188   -8181.162\n",
            "X[47]       4143.8354     73.849     56.113      0.000    3999.095    4288.576\n",
            "X[48]       5699.7981     38.518    147.977      0.000    5624.304    5775.292\n",
            "X[49]       5809.2104     31.951    181.813      0.000    5746.586    5871.834\n",
            "X[50]       1130.3510    118.673      9.525      0.000     897.756    1362.946\n",
            "X[51]      -6020.3157     52.668   -114.307      0.000   -6123.544   -5917.088\n",
            "X[52]      -9056.1765     72.181   -125.465      0.000   -9197.649   -8914.704\n",
            "X[53]      -8704.1254     57.898   -150.336      0.000   -8817.604   -8590.647\n",
            "X[54]         58.6319     14.670      3.997      0.000      29.880      87.384\n",
            "X[55]        179.3165     20.691      8.666      0.000     138.763     219.870\n",
            "X[56]       1612.8359     81.153     19.874      0.000    1453.779    1771.893\n",
            "X[57]      -1568.2458     34.985    -44.826      0.000   -1636.816   -1499.676\n",
            "X[58]       -554.0185     24.870    -22.277      0.000    -602.762    -505.275\n",
            "X[59]        168.4791     26.537      6.349      0.000     116.467     220.491\n",
            "X[60]        781.8848    113.340      6.899      0.000     559.742    1004.027\n",
            "X[61]        381.1879     16.424     23.209      0.000     348.997     413.379\n",
            "X[62]        -72.5844     39.705     -1.828      0.068    -150.405       5.236\n",
            "X[63]       1550.0788     59.023     26.262      0.000    1434.396    1665.762\n",
            "X[64]       -174.9797     26.511     -6.600      0.000    -226.941    -123.018\n",
            "X[65]       -347.1127     39.790     -8.724      0.000    -425.100    -269.125\n",
            "X[66]        -53.9259     31.455     -1.714      0.086    -115.577       7.725\n",
            "X[67]        -74.7809     17.489     -4.276      0.000    -109.058     -40.503\n",
            "X[68]        -91.6508     19.393     -4.726      0.000    -129.660     -53.642\n",
            "X[69]        111.4340     19.182      5.809      0.000      73.838     149.030\n",
            "X[70]        643.1871     27.698     23.222      0.000     588.901     697.473\n",
            "X[71]        646.0245     54.866     11.775      0.000     538.489     753.560\n",
            "X[72]        306.3210     17.589     17.416      0.000     271.848     340.794\n",
            "X[73]        695.9801    114.254      6.092      0.000     472.047     919.913\n",
            "X[74]      -3340.6632     84.132    -39.708      0.000   -3505.558   -3175.768\n",
            "X[75]        840.5399     28.179     29.829      0.000     785.310     895.770\n",
            "X[76]        380.6903     44.395      8.575      0.000     293.678     467.703\n",
            "X[77]       1949.2554     30.364     64.196      0.000    1889.743    2008.768\n",
            "X[78]        648.4347     30.990     20.924      0.000     587.694     709.175\n",
            "X[79]       -619.5797     80.309     -7.715      0.000    -776.982    -462.177\n",
            "X[80]       -292.2704     67.928     -4.303      0.000    -425.406    -159.135\n",
            "X[81]        642.8153     34.913     18.412      0.000     574.387     711.243\n",
            "X[82]       -483.5477     43.837    -11.030      0.000    -569.468    -397.628\n",
            "X[83]        419.5675     26.074     16.092      0.000     368.464     470.671\n",
            "X[84]       -112.8788     21.958     -5.141      0.000    -155.916     -69.842\n",
            "X[85]        380.6170     22.739     16.739      0.000     336.050     425.184\n",
            "X[86]       1329.0999     28.044     47.393      0.000    1274.134    1384.065\n",
            "X[87]        451.3802     44.490     10.146      0.000     364.180     538.580\n",
            "==============================================================================\n",
            "Omnibus:                    44493.411   Durbin-Watson:                   1.692\n",
            "Prob(Omnibus):                  0.000   Jarque-Bera (JB):            69983.354\n",
            "Skew:                          -0.628   Prob(JB):                         0.00\n",
            "Kurtosis:                       4.215   Cond. No.                     1.60e+16\n",
            "==============================================================================\n",
            "\n",
            "Warnings:\n",
            "[1] Standard Errors assume that the covariance matrix of the errors is correctly specified.\n",
            "[2] The smallest eigenvalue is 2.78e-24. This might indicate that there are\n",
            "strong multicollinearity problems or that the design matrix is singular.\n"
          ],
          "name": "stdout"
        }
      ]
    },
    {
      "cell_type": "markdown",
      "metadata": {
        "id": "L8RhGpbWFjlG"
      },
      "source": [
        "####OLS Attribute Removed "
      ]
    },
    {
      "cell_type": "code",
      "metadata": {
        "colab": {
          "base_uri": "https://localhost:8080/"
        },
        "id": "_uFQMIYT2ZBC",
        "outputId": "1d2f2ebc-7412-4c4c-f6ab-26b48ec4369b"
      },
      "source": [
        "#OLS\n",
        "drop_cols_1 = ['Occupation_1', 'Occupation_18', 'Occupation_20']\n",
        "\n",
        "X = dummy_X.drop(columns = drop_cols_1)\n",
        "Y = sale_df1[['Purchase']]\n",
        "\n",
        "df1 = sale_df1\n",
        "formula_str=\"Y~X\"\n",
        "result = sm.ols(formula=formula_str,data=df1).fit()\n",
        "print(result.summary())"
      ],
      "execution_count": null,
      "outputs": [
        {
          "output_type": "stream",
          "text": [
            "                            OLS Regression Results                            \n",
            "==============================================================================\n",
            "Dep. Variable:                      Y   R-squared:                       0.648\n",
            "Model:                            OLS   Adj. R-squared:                  0.648\n",
            "Method:                 Least Squares   F-statistic:                 1.297e+04\n",
            "Date:                Thu, 15 Apr 2021   Prob (F-statistic):               0.00\n",
            "Time:                        10:57:23   Log-Likelihood:            -5.1811e+06\n",
            "No. Observations:              550068   AIC:                         1.036e+07\n",
            "Df Residuals:                  549989   BIC:                         1.036e+07\n",
            "Df Model:                          78                                         \n",
            "Covariance Type:            nonrobust                                         \n",
            "==============================================================================\n",
            "                 coef    std err          t      P>|t|      [0.025      0.975]\n",
            "------------------------------------------------------------------------------\n",
            "Intercept   3198.5738     10.642    300.559      0.000    3177.716    3219.432\n",
            "X[0]          10.0333      0.451     22.234      0.000       9.149      10.918\n",
            "X[1]        1627.8979      7.477    217.713      0.000    1613.243    1642.553\n",
            "X[2]        1570.6759      6.951    225.966      0.000    1557.052    1584.300\n",
            "X[3]          69.9441     15.223      4.595      0.000      40.108      99.780\n",
            "X[4]         104.5636     20.930      4.996      0.000      63.542     145.585\n",
            "X[5]         299.4210     24.651     12.147      0.000     251.107     347.735\n",
            "X[6]         205.5020     15.853     12.963      0.000     174.431     236.573\n",
            "X[7]         120.6104     28.967      4.164      0.000      63.835     177.385\n",
            "X[8]         279.9360     23.303     12.013      0.000     234.262     325.610\n",
            "X[9]         172.4054     15.960     10.802      0.000     141.125     203.686\n",
            "X[10]       -221.7224     76.658     -2.892      0.004    -371.969     -71.476\n",
            "X[11]        167.4147     39.433      4.246      0.000      90.127     244.703\n",
            "X[12]        268.1760     30.326      8.843      0.000     208.737     327.615\n",
            "X[13]        164.9697     29.557      5.581      0.000     107.038     222.901\n",
            "X[14]        343.4914     19.846     17.308      0.000     304.594     382.389\n",
            "X[15]        114.6201     36.535      3.137      0.002      43.012     186.228\n",
            "X[16]        246.8024     20.732     11.904      0.000     206.168     287.437\n",
            "X[17]        423.1244     28.898     14.642      0.000     366.485     479.764\n",
            "X[18]        175.7130     21.383      8.217      0.000     133.802     217.624\n",
            "X[19]        248.6723     18.186     13.674      0.000     213.028     284.317\n",
            "X[20]       -220.4103     34.203     -6.444      0.000    -287.447    -153.373\n",
            "X[21]        838.6898      7.000    119.817      0.000     824.970     852.409\n",
            "X[22]        978.3819      6.426    152.246      0.000     965.786     990.977\n",
            "X[23]       1381.5020      7.116    194.130      0.000    1367.554    1395.450\n",
            "X[24]        627.0696      9.784     64.090      0.000     607.893     646.246\n",
            "X[25]        628.1926      7.017     89.526      0.000     614.440     641.946\n",
            "X[26]        667.9293      8.672     77.025      0.000     650.933     684.925\n",
            "X[27]        626.9636      8.893     70.499      0.000     609.533     644.394\n",
            "X[28]        648.4187      9.295     69.762      0.000     630.201     666.636\n",
            "X[29]       1627.6517      6.286    258.919      0.000    1615.331    1639.973\n",
            "X[30]       1570.9221      7.383    212.775      0.000    1556.452    1585.393\n",
            "X[31]       4491.7599     17.279    259.949      0.000    4457.893    4525.627\n",
            "X[32]       2745.7913     27.373    100.311      0.000    2692.141    2799.441\n",
            "X[33]       2299.9802     37.070     62.043      0.000    2227.323    2372.637\n",
            "X[34]      -6430.3962     34.415   -186.850      0.000   -6497.848   -6362.944\n",
            "X[35]      -2778.0719     15.463   -179.655      0.000   -2808.380   -2747.764\n",
            "X[36]       6631.9532     26.839    247.098      0.000    6579.349    6684.557\n",
            "X[37]       7442.5995     48.522    153.388      0.000    7347.499    7537.700\n",
            "X[38]      -1514.1989     15.918    -95.127      0.000   -1545.397   -1483.001\n",
            "X[39]       6712.8172    141.361     47.487      0.000    6435.754    6989.880\n",
            "X[40]       1.074e+04     43.313    247.914      0.000    1.07e+04    1.08e+04\n",
            "X[41]      -4226.5889     22.586   -187.135      0.000   -4270.856   -4182.322\n",
            "X[42]      -7657.0751     47.483   -161.258      0.000   -7750.141   -7564.009\n",
            "X[43]      -8261.7707     41.333   -199.884      0.000   -8342.782   -8180.759\n",
            "X[44]       4143.4947     73.848     56.108      0.000    3998.754    4288.235\n",
            "X[45]       5699.7975     38.518    147.978      0.000    5624.304    5775.291\n",
            "X[46]       5809.6534     31.951    181.829      0.000    5747.030    5872.277\n",
            "X[47]       1130.1038    118.675      9.523      0.000     897.504    1362.703\n",
            "X[48]      -6019.9703     52.669   -114.297      0.000   -6123.201   -5916.740\n",
            "X[49]      -9055.3823     72.182   -125.452      0.000   -9196.857   -8913.907\n",
            "X[50]      -8703.8218     57.899   -150.327      0.000   -8817.302   -8590.341\n",
            "X[51]         58.7957     14.669      4.008      0.000      30.045      87.547\n",
            "X[52]        179.4943     20.690      8.675      0.000     138.942     220.046\n",
            "X[53]       1612.9437     81.153     19.875      0.000    1453.887    1772.000\n",
            "X[54]      -1567.9208     34.985    -44.817      0.000   -1636.491   -1499.351\n",
            "X[55]       -553.7832     24.870    -22.267      0.000    -602.527    -505.040\n",
            "X[56]        168.4766     26.537      6.349      0.000     116.465     220.488\n",
            "X[57]        782.3508    113.342      6.903      0.000     560.203    1004.498\n",
            "X[58]        381.2874     16.423     23.217      0.000     349.100     413.475\n",
            "X[59]        -72.3822     39.707     -1.823      0.068    -150.206       5.442\n",
            "X[60]       1549.5461     59.023     26.253      0.000    1433.864    1665.228\n",
            "X[61]       -174.5789     26.511     -6.585      0.000    -226.539    -122.619\n",
            "X[62]       -347.1497     39.790     -8.724      0.000    -425.137    -269.162\n",
            "X[63]        -53.8884     31.456     -1.713      0.087    -115.540       7.764\n",
            "X[64]        -74.5374     17.489     -4.262      0.000    -108.815     -40.260\n",
            "X[65]        -91.6396     19.393     -4.725      0.000    -129.650     -53.629\n",
            "X[66]        111.7651     19.183      5.826      0.000      74.167     149.363\n",
            "X[67]        643.3664     27.699     23.227      0.000     589.077     697.655\n",
            "X[68]        646.4279     54.868     11.781      0.000     538.888     753.968\n",
            "X[69]        306.4637     17.586     17.427      0.000     271.996     340.931\n",
            "X[70]        695.5079    114.257      6.087      0.000     471.569     919.447\n",
            "X[71]      -3340.2316     84.134    -39.701      0.000   -3505.131   -3175.332\n",
            "X[72]        840.7304     28.178     29.836      0.000     785.502     895.959\n",
            "X[73]        380.8601     44.395      8.579      0.000     293.847     467.873\n",
            "X[74]       1949.3661     30.363     64.203      0.000    1889.857    2008.876\n",
            "X[75]        648.7663     30.991     20.934      0.000     588.025     709.507\n",
            "X[76]       -619.6718     80.310     -7.716      0.000    -777.076    -462.267\n",
            "X[77]       -291.6860     67.929     -4.294      0.000    -424.825    -158.547\n",
            "X[78]        642.9131     34.912     18.415      0.000     574.486     711.340\n",
            "X[79]       -483.3614     43.838    -11.026      0.000    -569.282    -397.441\n",
            "X[80]        419.7864     26.072     16.101      0.000     368.686     470.887\n",
            "X[81]       -112.6380     21.958     -5.130      0.000    -155.674     -69.602\n",
            "X[82]        380.8822     22.737     16.751      0.000     336.318     425.447\n",
            "X[83]       1329.2600     28.043     47.400      0.000    1274.296    1384.224\n",
            "X[84]        451.6261     44.491     10.151      0.000     364.426     538.827\n",
            "==============================================================================\n",
            "Omnibus:                    44504.956   Durbin-Watson:                   1.692\n",
            "Prob(Omnibus):                  0.000   Jarque-Bera (JB):            69999.377\n",
            "Skew:                          -0.628   Prob(JB):                         0.00\n",
            "Kurtosis:                       4.215   Cond. No.                     1.55e+16\n",
            "==============================================================================\n",
            "\n",
            "Warnings:\n",
            "[1] Standard Errors assume that the covariance matrix of the errors is correctly specified.\n",
            "[2] The smallest eigenvalue is 2.99e-24. This might indicate that there are\n",
            "strong multicollinearity problems or that the design matrix is singular.\n"
          ],
          "name": "stdout"
        }
      ]
    },
    {
      "cell_type": "markdown",
      "metadata": {
        "id": "dCvRSJ1DHUqq"
      },
      "source": [
        "AIC and BIC remain same after removal of attributes with no significant (p-value>0.05)."
      ]
    },
    {
      "cell_type": "markdown",
      "metadata": {
        "id": "mNTa09xH4E1T"
      },
      "source": [
        "###Model"
      ]
    },
    {
      "cell_type": "code",
      "metadata": {
        "id": "IYAq9J_U5HqE"
      },
      "source": [
        "from sklearn.linear_model import LinearRegression\n",
        "from sklearn.model_selection import train_test_split\n",
        "from sklearn.preprocessing import OneHotEncoder\n",
        "from sklearn import metrics\n",
        "import xgboost as xg\n",
        "from scipy.stats import skew, kurtosis\n",
        "import statsmodels.formula.api as sm\n",
        "import math"
      ],
      "execution_count": null,
      "outputs": []
    },
    {
      "cell_type": "code",
      "metadata": {
        "id": "Yy-RAqWb5n5N"
      },
      "source": [
        "X_train, X_test, y_train, y_test = train_test_split(dummy_X, Y, test_size=0.7)"
      ],
      "execution_count": null,
      "outputs": []
    },
    {
      "cell_type": "markdown",
      "metadata": {
        "id": "EHAFoS6EAVKx"
      },
      "source": [
        "####LR"
      ]
    },
    {
      "cell_type": "code",
      "metadata": {
        "colab": {
          "base_uri": "https://localhost:8080/"
        },
        "id": "aRRIhTZT4EL9",
        "outputId": "b052cf91-d268-4dd0-85c6-3975f1590b57"
      },
      "source": [
        "regressor = LinearRegression()\n",
        "regressor.fit(X_train, y_train)\n",
        "y_pred = regressor.predict(X_test)\n",
        "print(metrics.mean_absolute_error(y_test, y_pred), metrics.r2_score(y_test, y_pred))\n",
        "print(math.sqrt(metrics.mean_squared_error(y_test, y_pred)))\n",
        "err = np.array(y_pred) - np.array(y_test)\n",
        "print(skew(err), kurtosis(err))"
      ],
      "execution_count": null,
      "outputs": [
        {
          "output_type": "stream",
          "text": [
            "2248.7885917794665 0.6480475768265503\n",
            "2978.1691893034113\n",
            "[0.6321933] [1.21799821]\n"
          ],
          "name": "stdout"
        }
      ]
    },
    {
      "cell_type": "markdown",
      "metadata": {
        "id": "FbrXRUXSAcN5"
      },
      "source": [
        "####DT"
      ]
    },
    {
      "cell_type": "code",
      "metadata": {
        "colab": {
          "base_uri": "https://localhost:8080/"
        },
        "id": "CL53LTVx_lJr",
        "outputId": "1e8b2e2d-f0cb-4d41-8a88-ef53642926df"
      },
      "source": [
        "from sklearn.tree import DecisionTreeRegressor \n",
        "import math \n",
        "regressor = DecisionTreeRegressor()\n",
        "regressor.fit(X_train, y_train)\n",
        "y_pred = regressor.predict(X_test)\n",
        "print(metrics.mean_absolute_error(y_test, y_pred),metrics.r2_score(y_test, y_pred))\n",
        "print(math.sqrt(metrics.mean_squared_error(y_test, y_pred)))\n",
        "err = np.array(y_pred) - np.array(y_test)\n",
        "print(skew(err), kurtosis(err))"
      ],
      "execution_count": null,
      "outputs": [
        {
          "output_type": "stream",
          "text": [
            "2500.9908201778003 0.4958206042880783\n",
            "3567.1978518504425\n"
          ],
          "name": "stdout"
        }
      ]
    },
    {
      "cell_type": "markdown",
      "metadata": {
        "id": "InXthwkka7It"
      },
      "source": [
        "##**2.3. Missing value Handled with Prob Distribution**"
      ]
    },
    {
      "cell_type": "code",
      "metadata": {
        "colab": {
          "base_uri": "https://localhost:8080/",
          "height": 165
        },
        "id": "gMGGdJx7MLnj",
        "outputId": "7019668b-7837-447d-b037-d1dbb1f8f232"
      },
      "source": [
        "#Handling Missing Values 3\n",
        "sale_df3 = pd.read_csv('train.csv')\n",
        "prods = sale_df3['Product_Category_2'].value_counts().index.tolist()\n",
        "probs = sale_df3['Product_Category_2'].value_counts().tolist()\n",
        "probs = [p /376430  for p in probs ]    \n",
        "fill_missing = np.random.choice(prods, p = probs, size = len(sale_df3))\n",
        "sale_df3['Product_Category_2'].fillna(pd.Series(fill_missing), inplace=True)\n",
        "sale_df3.head(2)"
      ],
      "execution_count": null,
      "outputs": [
        {
          "output_type": "execute_result",
          "data": {
            "text/html": [
              "<div>\n",
              "<style scoped>\n",
              "    .dataframe tbody tr th:only-of-type {\n",
              "        vertical-align: middle;\n",
              "    }\n",
              "\n",
              "    .dataframe tbody tr th {\n",
              "        vertical-align: top;\n",
              "    }\n",
              "\n",
              "    .dataframe thead th {\n",
              "        text-align: right;\n",
              "    }\n",
              "</style>\n",
              "<table border=\"1\" class=\"dataframe\">\n",
              "  <thead>\n",
              "    <tr style=\"text-align: right;\">\n",
              "      <th></th>\n",
              "      <th>User_ID</th>\n",
              "      <th>Product_ID</th>\n",
              "      <th>Gender</th>\n",
              "      <th>Age</th>\n",
              "      <th>Occupation</th>\n",
              "      <th>City_Category</th>\n",
              "      <th>Stay_In_Current_City_Years</th>\n",
              "      <th>Marital_Status</th>\n",
              "      <th>Product_Category_1</th>\n",
              "      <th>Product_Category_2</th>\n",
              "      <th>Product_Category_3</th>\n",
              "      <th>Purchase</th>\n",
              "    </tr>\n",
              "  </thead>\n",
              "  <tbody>\n",
              "    <tr>\n",
              "      <th>0</th>\n",
              "      <td>1000001</td>\n",
              "      <td>P00069042</td>\n",
              "      <td>F</td>\n",
              "      <td>0-17</td>\n",
              "      <td>10</td>\n",
              "      <td>A</td>\n",
              "      <td>2</td>\n",
              "      <td>0</td>\n",
              "      <td>3</td>\n",
              "      <td>8.0</td>\n",
              "      <td>NaN</td>\n",
              "      <td>8370</td>\n",
              "    </tr>\n",
              "    <tr>\n",
              "      <th>1</th>\n",
              "      <td>1000001</td>\n",
              "      <td>P00248942</td>\n",
              "      <td>F</td>\n",
              "      <td>0-17</td>\n",
              "      <td>10</td>\n",
              "      <td>A</td>\n",
              "      <td>2</td>\n",
              "      <td>0</td>\n",
              "      <td>1</td>\n",
              "      <td>6.0</td>\n",
              "      <td>14.0</td>\n",
              "      <td>15200</td>\n",
              "    </tr>\n",
              "  </tbody>\n",
              "</table>\n",
              "</div>"
            ],
            "text/plain": [
              "   User_ID Product_ID Gender  ... Product_Category_2  Product_Category_3 Purchase\n",
              "0  1000001  P00069042      F  ...                8.0                 NaN     8370\n",
              "1  1000001  P00248942      F  ...                6.0                14.0    15200\n",
              "\n",
              "[2 rows x 12 columns]"
            ]
          },
          "metadata": {
            "tags": []
          },
          "execution_count": 4
        }
      ]
    },
    {
      "cell_type": "markdown",
      "metadata": {
        "id": "0EamoHyvCDi0"
      },
      "source": [
        "###Chi-Sq"
      ]
    },
    {
      "cell_type": "code",
      "metadata": {
        "id": "NjYnpt9cQEOM",
        "colab": {
          "base_uri": "https://localhost:8080/"
        },
        "outputId": "6db37799-05b4-4283-8098-c79bc6c20496"
      },
      "source": [
        "# CHI SQUARE TEST 3\n",
        "from scipy.stats import chi2_contingency\n",
        "c = sale_df3.columns\n",
        "categorical_cols = [c[2],c[4],c[5],c[6],c[7],c[8],c[9]]\n",
        "for i in list(range(0,3)):\n",
        "    for j in list(range(0,6)) :\n",
        "        cont = pd.crosstab(sale_df3[categorical_cols[i]], sale_df3[categorical_cols[j]])\n",
        "        c, p, dof, expected = chi2_contingency(cont)\n",
        "        print(categorical_cols[i] + \"  \", categorical_cols[j])\n",
        "        print(p)"
      ],
      "execution_count": null,
      "outputs": [
        {
          "output_type": "stream",
          "text": [
            "Gender   Gender\n",
            "0.0\n",
            "Gender   Occupation\n",
            "0.0\n",
            "Gender   City_Category\n",
            "5.097590042852447e-08\n",
            "Gender   Stay_In_Current_City_Years\n",
            "2.4239419818989305e-190\n",
            "Gender   Marital_Status\n",
            "7.80091894540745e-18\n",
            "Gender   Product_Category_1\n",
            "0.0\n",
            "Occupation   Gender\n",
            "0.0\n",
            "Occupation   Occupation\n",
            "0.0\n",
            "Occupation   City_Category\n",
            "0.0\n",
            "Occupation   Stay_In_Current_City_Years\n",
            "0.0\n",
            "Occupation   Marital_Status\n",
            "0.0\n",
            "Occupation   Product_Category_1\n",
            "0.0\n",
            "City_Category   Gender\n",
            "5.097590042852447e-08\n",
            "City_Category   Occupation\n",
            "0.0\n",
            "City_Category   City_Category\n",
            "0.0\n",
            "City_Category   Stay_In_Current_City_Years\n",
            "0.0\n",
            "City_Category   Marital_Status\n",
            "7.649061125706496e-190\n",
            "City_Category   Product_Category_1\n",
            "0.0\n"
          ],
          "name": "stdout"
        }
      ]
    },
    {
      "cell_type": "markdown",
      "metadata": {
        "id": "AVAs6OkGBIGi"
      },
      "source": [
        "###Age"
      ]
    },
    {
      "cell_type": "code",
      "metadata": {
        "id": "Fd-MAe85BMvU",
        "colab": {
          "base_uri": "https://localhost:8080/",
          "height": 131
        },
        "outputId": "34b31908-bf79-4735-9e46-c72aaec002b6"
      },
      "source": [
        "ages = sale_df3['Age'].unique()\n",
        "Age_number = {ages[2] : 30, ages[5]:40, ages[3] : 48, ages[4] : 53, ages[1] : 60, ages[0] : 9, ages[6] : 22}\n",
        "sale_df3 = sale_df3.replace({'Age':Age_number})\n",
        "sale_df3['Age'].unique()\n",
        "sale_df3.head(2)"
      ],
      "execution_count": null,
      "outputs": [
        {
          "output_type": "execute_result",
          "data": {
            "text/html": [
              "<div>\n",
              "<style scoped>\n",
              "    .dataframe tbody tr th:only-of-type {\n",
              "        vertical-align: middle;\n",
              "    }\n",
              "\n",
              "    .dataframe tbody tr th {\n",
              "        vertical-align: top;\n",
              "    }\n",
              "\n",
              "    .dataframe thead th {\n",
              "        text-align: right;\n",
              "    }\n",
              "</style>\n",
              "<table border=\"1\" class=\"dataframe\">\n",
              "  <thead>\n",
              "    <tr style=\"text-align: right;\">\n",
              "      <th></th>\n",
              "      <th>User_ID</th>\n",
              "      <th>Product_ID</th>\n",
              "      <th>Gender</th>\n",
              "      <th>Age</th>\n",
              "      <th>Occupation</th>\n",
              "      <th>City_Category</th>\n",
              "      <th>Stay_In_Current_City_Years</th>\n",
              "      <th>Marital_Status</th>\n",
              "      <th>Product_Category_1</th>\n",
              "      <th>Product_Category_2</th>\n",
              "      <th>Product_Category_3</th>\n",
              "      <th>Purchase</th>\n",
              "    </tr>\n",
              "  </thead>\n",
              "  <tbody>\n",
              "    <tr>\n",
              "      <th>0</th>\n",
              "      <td>1000001</td>\n",
              "      <td>P00069042</td>\n",
              "      <td>F</td>\n",
              "      <td>9</td>\n",
              "      <td>10</td>\n",
              "      <td>A</td>\n",
              "      <td>2</td>\n",
              "      <td>0</td>\n",
              "      <td>3</td>\n",
              "      <td>8.0</td>\n",
              "      <td>NaN</td>\n",
              "      <td>8370</td>\n",
              "    </tr>\n",
              "    <tr>\n",
              "      <th>1</th>\n",
              "      <td>1000001</td>\n",
              "      <td>P00248942</td>\n",
              "      <td>F</td>\n",
              "      <td>9</td>\n",
              "      <td>10</td>\n",
              "      <td>A</td>\n",
              "      <td>2</td>\n",
              "      <td>0</td>\n",
              "      <td>1</td>\n",
              "      <td>6.0</td>\n",
              "      <td>14.0</td>\n",
              "      <td>15200</td>\n",
              "    </tr>\n",
              "  </tbody>\n",
              "</table>\n",
              "</div>"
            ],
            "text/plain": [
              "   User_ID Product_ID Gender  ...  Product_Category_2  Product_Category_3 Purchase\n",
              "0  1000001  P00069042      F  ...                 8.0                 NaN     8370\n",
              "1  1000001  P00248942      F  ...                 6.0                14.0    15200\n",
              "\n",
              "[2 rows x 12 columns]"
            ]
          },
          "metadata": {
            "tags": []
          },
          "execution_count": 8
        }
      ]
    },
    {
      "cell_type": "markdown",
      "metadata": {
        "id": "2aftxfyuB88X"
      },
      "source": [
        "###Dummy Generated"
      ]
    },
    {
      "cell_type": "code",
      "metadata": {
        "id": "I2VJhJWjOTlj",
        "colab": {
          "base_uri": "https://localhost:8080/",
          "height": 131
        },
        "outputId": "e9ced90b-ea03-44ea-d8fb-66b1899ab59d"
      },
      "source": [
        "#Generating Dummy Values\n",
        "col_2 = ['Gender','Occupation', 'City_Category', 'Stay_In_Current_City_Years', 'Marital_Status', 'Product_Category_1',  'Product_Category_2']\n",
        "drop_cols_2 = ['User_ID', 'Product_ID',  'Product_Category_3', 'Purchase']\n",
        "X2 = pd.get_dummies(sale_df3, columns=col_2)\n",
        "dummy_X3 = X2.drop(columns = drop_cols_2)\n",
        "dummy_X3.head(2)"
      ],
      "execution_count": null,
      "outputs": [
        {
          "output_type": "execute_result",
          "data": {
            "text/html": [
              "<div>\n",
              "<style scoped>\n",
              "    .dataframe tbody tr th:only-of-type {\n",
              "        vertical-align: middle;\n",
              "    }\n",
              "\n",
              "    .dataframe tbody tr th {\n",
              "        vertical-align: top;\n",
              "    }\n",
              "\n",
              "    .dataframe thead th {\n",
              "        text-align: right;\n",
              "    }\n",
              "</style>\n",
              "<table border=\"1\" class=\"dataframe\">\n",
              "  <thead>\n",
              "    <tr style=\"text-align: right;\">\n",
              "      <th></th>\n",
              "      <th>Age</th>\n",
              "      <th>Gender_F</th>\n",
              "      <th>Gender_M</th>\n",
              "      <th>Occupation_0</th>\n",
              "      <th>Occupation_1</th>\n",
              "      <th>Occupation_2</th>\n",
              "      <th>Occupation_3</th>\n",
              "      <th>Occupation_4</th>\n",
              "      <th>Occupation_5</th>\n",
              "      <th>Occupation_6</th>\n",
              "      <th>Occupation_7</th>\n",
              "      <th>Occupation_8</th>\n",
              "      <th>Occupation_9</th>\n",
              "      <th>Occupation_10</th>\n",
              "      <th>Occupation_11</th>\n",
              "      <th>Occupation_12</th>\n",
              "      <th>Occupation_13</th>\n",
              "      <th>Occupation_14</th>\n",
              "      <th>Occupation_15</th>\n",
              "      <th>Occupation_16</th>\n",
              "      <th>Occupation_17</th>\n",
              "      <th>Occupation_18</th>\n",
              "      <th>Occupation_19</th>\n",
              "      <th>Occupation_20</th>\n",
              "      <th>City_Category_A</th>\n",
              "      <th>City_Category_B</th>\n",
              "      <th>City_Category_C</th>\n",
              "      <th>Stay_In_Current_City_Years_0</th>\n",
              "      <th>Stay_In_Current_City_Years_1</th>\n",
              "      <th>Stay_In_Current_City_Years_2</th>\n",
              "      <th>Stay_In_Current_City_Years_3</th>\n",
              "      <th>Stay_In_Current_City_Years_4+</th>\n",
              "      <th>Marital_Status_0</th>\n",
              "      <th>Marital_Status_1</th>\n",
              "      <th>Product_Category_1_1</th>\n",
              "      <th>Product_Category_1_2</th>\n",
              "      <th>Product_Category_1_3</th>\n",
              "      <th>Product_Category_1_4</th>\n",
              "      <th>Product_Category_1_5</th>\n",
              "      <th>Product_Category_1_6</th>\n",
              "      <th>Product_Category_1_7</th>\n",
              "      <th>Product_Category_1_8</th>\n",
              "      <th>Product_Category_1_9</th>\n",
              "      <th>Product_Category_1_10</th>\n",
              "      <th>Product_Category_1_11</th>\n",
              "      <th>Product_Category_1_12</th>\n",
              "      <th>Product_Category_1_13</th>\n",
              "      <th>Product_Category_1_14</th>\n",
              "      <th>Product_Category_1_15</th>\n",
              "      <th>Product_Category_1_16</th>\n",
              "      <th>Product_Category_1_17</th>\n",
              "      <th>Product_Category_1_18</th>\n",
              "      <th>Product_Category_1_19</th>\n",
              "      <th>Product_Category_1_20</th>\n",
              "      <th>Product_Category_2_2.0</th>\n",
              "      <th>Product_Category_2_3.0</th>\n",
              "      <th>Product_Category_2_4.0</th>\n",
              "      <th>Product_Category_2_5.0</th>\n",
              "      <th>Product_Category_2_6.0</th>\n",
              "      <th>Product_Category_2_7.0</th>\n",
              "      <th>Product_Category_2_8.0</th>\n",
              "      <th>Product_Category_2_9.0</th>\n",
              "      <th>Product_Category_2_10.0</th>\n",
              "      <th>Product_Category_2_11.0</th>\n",
              "      <th>Product_Category_2_12.0</th>\n",
              "      <th>Product_Category_2_13.0</th>\n",
              "      <th>Product_Category_2_14.0</th>\n",
              "      <th>Product_Category_2_15.0</th>\n",
              "      <th>Product_Category_2_16.0</th>\n",
              "      <th>Product_Category_2_17.0</th>\n",
              "      <th>Product_Category_2_18.0</th>\n",
              "    </tr>\n",
              "  </thead>\n",
              "  <tbody>\n",
              "    <tr>\n",
              "      <th>0</th>\n",
              "      <td>9</td>\n",
              "      <td>1</td>\n",
              "      <td>0</td>\n",
              "      <td>0</td>\n",
              "      <td>0</td>\n",
              "      <td>0</td>\n",
              "      <td>0</td>\n",
              "      <td>0</td>\n",
              "      <td>0</td>\n",
              "      <td>0</td>\n",
              "      <td>0</td>\n",
              "      <td>0</td>\n",
              "      <td>0</td>\n",
              "      <td>1</td>\n",
              "      <td>0</td>\n",
              "      <td>0</td>\n",
              "      <td>0</td>\n",
              "      <td>0</td>\n",
              "      <td>0</td>\n",
              "      <td>0</td>\n",
              "      <td>0</td>\n",
              "      <td>0</td>\n",
              "      <td>0</td>\n",
              "      <td>0</td>\n",
              "      <td>1</td>\n",
              "      <td>0</td>\n",
              "      <td>0</td>\n",
              "      <td>0</td>\n",
              "      <td>0</td>\n",
              "      <td>1</td>\n",
              "      <td>0</td>\n",
              "      <td>0</td>\n",
              "      <td>1</td>\n",
              "      <td>0</td>\n",
              "      <td>0</td>\n",
              "      <td>0</td>\n",
              "      <td>1</td>\n",
              "      <td>0</td>\n",
              "      <td>0</td>\n",
              "      <td>0</td>\n",
              "      <td>0</td>\n",
              "      <td>0</td>\n",
              "      <td>0</td>\n",
              "      <td>0</td>\n",
              "      <td>0</td>\n",
              "      <td>0</td>\n",
              "      <td>0</td>\n",
              "      <td>0</td>\n",
              "      <td>0</td>\n",
              "      <td>0</td>\n",
              "      <td>0</td>\n",
              "      <td>0</td>\n",
              "      <td>0</td>\n",
              "      <td>0</td>\n",
              "      <td>0</td>\n",
              "      <td>0</td>\n",
              "      <td>0</td>\n",
              "      <td>0</td>\n",
              "      <td>0</td>\n",
              "      <td>0</td>\n",
              "      <td>1</td>\n",
              "      <td>0</td>\n",
              "      <td>0</td>\n",
              "      <td>0</td>\n",
              "      <td>0</td>\n",
              "      <td>0</td>\n",
              "      <td>0</td>\n",
              "      <td>0</td>\n",
              "      <td>0</td>\n",
              "      <td>0</td>\n",
              "      <td>0</td>\n",
              "    </tr>\n",
              "    <tr>\n",
              "      <th>1</th>\n",
              "      <td>9</td>\n",
              "      <td>1</td>\n",
              "      <td>0</td>\n",
              "      <td>0</td>\n",
              "      <td>0</td>\n",
              "      <td>0</td>\n",
              "      <td>0</td>\n",
              "      <td>0</td>\n",
              "      <td>0</td>\n",
              "      <td>0</td>\n",
              "      <td>0</td>\n",
              "      <td>0</td>\n",
              "      <td>0</td>\n",
              "      <td>1</td>\n",
              "      <td>0</td>\n",
              "      <td>0</td>\n",
              "      <td>0</td>\n",
              "      <td>0</td>\n",
              "      <td>0</td>\n",
              "      <td>0</td>\n",
              "      <td>0</td>\n",
              "      <td>0</td>\n",
              "      <td>0</td>\n",
              "      <td>0</td>\n",
              "      <td>1</td>\n",
              "      <td>0</td>\n",
              "      <td>0</td>\n",
              "      <td>0</td>\n",
              "      <td>0</td>\n",
              "      <td>1</td>\n",
              "      <td>0</td>\n",
              "      <td>0</td>\n",
              "      <td>1</td>\n",
              "      <td>0</td>\n",
              "      <td>1</td>\n",
              "      <td>0</td>\n",
              "      <td>0</td>\n",
              "      <td>0</td>\n",
              "      <td>0</td>\n",
              "      <td>0</td>\n",
              "      <td>0</td>\n",
              "      <td>0</td>\n",
              "      <td>0</td>\n",
              "      <td>0</td>\n",
              "      <td>0</td>\n",
              "      <td>0</td>\n",
              "      <td>0</td>\n",
              "      <td>0</td>\n",
              "      <td>0</td>\n",
              "      <td>0</td>\n",
              "      <td>0</td>\n",
              "      <td>0</td>\n",
              "      <td>0</td>\n",
              "      <td>0</td>\n",
              "      <td>0</td>\n",
              "      <td>0</td>\n",
              "      <td>0</td>\n",
              "      <td>0</td>\n",
              "      <td>1</td>\n",
              "      <td>0</td>\n",
              "      <td>0</td>\n",
              "      <td>0</td>\n",
              "      <td>0</td>\n",
              "      <td>0</td>\n",
              "      <td>0</td>\n",
              "      <td>0</td>\n",
              "      <td>0</td>\n",
              "      <td>0</td>\n",
              "      <td>0</td>\n",
              "      <td>0</td>\n",
              "      <td>0</td>\n",
              "    </tr>\n",
              "  </tbody>\n",
              "</table>\n",
              "</div>"
            ],
            "text/plain": [
              "   Age  Gender_F  ...  Product_Category_2_17.0  Product_Category_2_18.0\n",
              "0    9         1  ...                        0                        0\n",
              "1    9         1  ...                        0                        0\n",
              "\n",
              "[2 rows x 71 columns]"
            ]
          },
          "metadata": {
            "tags": []
          },
          "execution_count": 9
        }
      ]
    },
    {
      "cell_type": "markdown",
      "metadata": {
        "id": "pu5k-TYfCMYC"
      },
      "source": [
        "###OLS"
      ]
    },
    {
      "cell_type": "code",
      "metadata": {
        "id": "n58VLeLiEW_f"
      },
      "source": [
        "dummy_X3.info()"
      ],
      "execution_count": null,
      "outputs": []
    },
    {
      "cell_type": "markdown",
      "metadata": {
        "id": "S3RrUokGE9K2"
      },
      "source": [
        "####OLS Dummy"
      ]
    },
    {
      "cell_type": "code",
      "metadata": {
        "id": "0zHWdKgT1EiK",
        "colab": {
          "base_uri": "https://localhost:8080/"
        },
        "outputId": "2222337c-88f0-4619-a002-530b4169f5c0"
      },
      "source": [
        "#OLS\n",
        "X = dummy_X3\n",
        "Y = sale_df3[['Purchase']]\n",
        "\n",
        "df1 = sale_df3\n",
        "formula_str=\"Y~X\"\n",
        "result = sm.ols(formula=formula_str,data=df1).fit()\n",
        "print(result.summary())"
      ],
      "execution_count": null,
      "outputs": [
        {
          "output_type": "stream",
          "text": [
            "                            OLS Regression Results                            \n",
            "==============================================================================\n",
            "Dep. Variable:                      Y   R-squared:                       0.642\n",
            "Model:                            OLS   Adj. R-squared:                  0.642\n",
            "Method:                 Least Squares   F-statistic:                 1.538e+04\n",
            "Date:                Thu, 15 Apr 2021   Prob (F-statistic):               0.00\n",
            "Time:                        10:22:12   Log-Likelihood:            -5.1859e+06\n",
            "No. Observations:              550068   AIC:                         1.037e+07\n",
            "Df Residuals:                  550003   BIC:                         1.037e+07\n",
            "Df Model:                          64                                         \n",
            "Covariance Type:            nonrobust                                         \n",
            "==============================================================================\n",
            "                 coef    std err          t      P>|t|      [0.025      0.975]\n",
            "------------------------------------------------------------------------------\n",
            "Intercept   3251.1091      8.691    374.085      0.000    3234.075    3268.143\n",
            "X[0]          10.9853      0.455     24.122      0.000      10.093      11.878\n",
            "X[1]        1653.3782      6.914    239.151      0.000    1639.828    1666.929\n",
            "X[2]        1597.7308      6.214    257.129      0.000    1585.552    1609.910\n",
            "X[3]          80.0815     12.491      6.411      0.000      55.601     104.563\n",
            "X[4]          35.9902     14.637      2.459      0.014       7.302      64.678\n",
            "X[5]         120.9285     18.682      6.473      0.000      84.313     157.544\n",
            "X[6]         313.2580     22.512     13.915      0.000     269.136     357.380\n",
            "X[7]         218.0409     13.054     16.702      0.000     192.455     243.627\n",
            "X[8]         123.1798     26.734      4.608      0.000      70.782     175.577\n",
            "X[9]         292.5064     21.176     13.813      0.000     251.003     334.010\n",
            "X[10]        189.0217     13.402     14.104      0.000     162.754     215.289\n",
            "X[11]       -238.9682     73.267     -3.262      0.001    -382.570     -95.367\n",
            "X[12]        180.6605     37.243      4.851      0.000     107.665     253.656\n",
            "X[13]        261.0784     27.968      9.335      0.000     206.261     315.895\n",
            "X[14]        191.1747     27.380      6.982      0.000     137.512     244.838\n",
            "X[15]        359.3286     17.439     20.604      0.000     325.148     393.509\n",
            "X[16]        143.6445     34.540      4.159      0.000      75.948     211.341\n",
            "X[17]        266.1259     18.417     14.450      0.000     230.030     302.222\n",
            "X[18]        449.5442     26.699     16.838      0.000     397.216     501.873\n",
            "X[19]        186.7893     19.190      9.734      0.000     149.179     224.400\n",
            "X[20]        254.6826     15.721     16.200      0.000     223.870     285.496\n",
            "X[21]         51.1409     35.863      1.426      0.154     -19.149     121.431\n",
            "X[22]       -214.1374     31.899     -6.713      0.000    -276.658    -151.617\n",
            "X[23]        -12.9619     16.898     -0.767      0.443     -46.081      20.158\n",
            "X[24]        851.3322      6.821    124.816      0.000     837.964     864.701\n",
            "X[25]        991.6203      6.111    162.277      0.000     979.644    1003.597\n",
            "X[26]       1408.1566      6.818    206.543      0.000    1394.794    1421.519\n",
            "X[27]        638.5318      9.787     65.240      0.000     619.349     657.715\n",
            "X[28]        640.9076      6.959     92.101      0.000     627.269     654.547\n",
            "X[29]        677.9064      8.666     78.223      0.000     660.921     694.892\n",
            "X[30]        633.8872      8.896     71.252      0.000     616.450     651.324\n",
            "X[31]        659.8761      9.291     71.023      0.000     641.666     678.086\n",
            "X[32]       1654.7023      5.442    304.045      0.000    1644.036    1665.369\n",
            "X[33]       1596.4068      6.798    234.819      0.000    1583.082    1609.732\n",
            "X[34]       4660.0948     15.652    297.726      0.000    4629.417    4690.773\n",
            "X[35]       2520.6201     24.197    104.169      0.000    2473.194    2568.046\n",
            "X[36]       1605.4448     28.883     55.585      0.000    1548.836    1662.054\n",
            "X[37]      -6444.9372     31.540   -204.344      0.000   -6506.754   -6383.121\n",
            "X[38]      -2712.6538     15.210   -178.346      0.000   -2742.465   -2682.843\n",
            "X[39]       6679.0297     25.250    264.516      0.000    6629.540    6728.519\n",
            "X[40]       7480.6453     48.613    153.880      0.000    7385.364    7575.926\n",
            "X[41]      -1427.9026     15.666    -91.144      0.000   -1458.608   -1397.197\n",
            "X[42]       6711.3122    142.139     47.217      0.000    6432.724    6989.900\n",
            "X[43]       1.079e+04     42.951    251.278      0.000    1.07e+04    1.09e+04\n",
            "X[44]      -4180.8178     22.593   -185.050      0.000   -4225.099   -4136.537\n",
            "X[45]      -7607.4210     47.623   -159.741      0.000   -7700.762   -7514.080\n",
            "X[46]      -8185.8129     41.067   -199.328      0.000   -8266.303   -8105.323\n",
            "X[47]       4209.2568     74.377     56.593      0.000    4063.480    4355.034\n",
            "X[48]       5814.4555     38.607    150.605      0.000    5738.787    5890.124\n",
            "X[49]       5850.7359     31.587    185.226      0.000    5788.826    5912.646\n",
            "X[50]       1154.9327    119.548      9.661      0.000     920.623    1389.242\n",
            "X[51]      -5984.4753     52.744   -113.462      0.000   -6087.852   -5881.098\n",
            "X[52]      -9016.3731     72.528   -124.316      0.000   -9158.526   -8874.221\n",
            "X[53]      -8667.6294     58.048   -149.318      0.000   -8781.402   -8553.857\n",
            "X[54]        151.4851     14.674     10.323      0.000     122.724     180.246\n",
            "X[55]        -84.4099     45.908     -1.839      0.066    -174.388       5.568\n",
            "X[56]       -320.8164     21.156    -15.164      0.000    -362.282    -279.351\n",
            "X[57]        -83.8113     18.052     -4.643      0.000    -119.193     -48.429\n",
            "X[58]        463.9519     20.363     22.785      0.000     424.042     503.862\n",
            "X[59]        639.0748     93.589      6.829      0.000     455.643     822.507\n",
            "X[60]        415.1486     12.882     32.227      0.000     389.901     440.397\n",
            "X[61]         69.8099     32.418      2.153      0.031       6.271     133.348\n",
            "X[62]        862.7113     44.925     19.203      0.000     774.659     950.764\n",
            "X[63]       -121.4497     21.594     -5.624      0.000    -163.773     -79.127\n",
            "X[64]        -69.4525     32.830     -2.115      0.034    -133.799      -5.106\n",
            "X[65]         40.0714     25.158      1.593      0.111      -9.237      89.380\n",
            "X[66]         94.9223     13.501      7.031      0.000      68.461     121.384\n",
            "X[67]         38.4952     15.071      2.554      0.011       8.957      68.033\n",
            "X[68]        140.4287     14.617      9.607      0.000     111.779     169.078\n",
            "X[69]        518.3367     22.379     23.162      0.000     474.475     562.199\n",
            "X[70]        496.6129     45.219     10.982      0.000     407.986     585.240\n",
            "==============================================================================\n",
            "Omnibus:                    44123.276   Durbin-Watson:                   1.685\n",
            "Prob(Omnibus):                  0.000   Jarque-Bera (JB):            68593.350\n",
            "Skew:                          -0.628   Prob(JB):                         0.00\n",
            "Kurtosis:                       4.190   Cond. No.                     1.65e+16\n",
            "==============================================================================\n",
            "\n",
            "Warnings:\n",
            "[1] Standard Errors assume that the covariance matrix of the errors is correctly specified.\n",
            "[2] The smallest eigenvalue is 2.64e-24. This might indicate that there are\n",
            "strong multicollinearity problems or that the design matrix is singular.\n"
          ],
          "name": "stdout"
        }
      ]
    },
    {
      "cell_type": "markdown",
      "metadata": {
        "id": "nC3Bm5e3FEwv"
      },
      "source": [
        "####OLS Attribute Removed"
      ]
    },
    {
      "cell_type": "code",
      "metadata": {
        "id": "l5Fz5f8v0we6",
        "colab": {
          "base_uri": "https://localhost:8080/"
        },
        "outputId": "38a8ff86-0f77-4e72-ac0a-8dd3bb591336"
      },
      "source": [
        "#OLS\n",
        "drop_cols_1 = ['Occupation_18', 'Occupation_20']\n",
        "\n",
        "X = dummy_X3.drop(columns = drop_cols_1)\n",
        "Y = sale_df3[['Purchase']]\n",
        "\n",
        "df1 = sale_df3\n",
        "formula_str=\"Y~X\"\n",
        "result = sm.ols(formula=formula_str,data=df1).fit()\n",
        "print(result.summary())"
      ],
      "execution_count": null,
      "outputs": [
        {
          "output_type": "stream",
          "text": [
            "                            OLS Regression Results                            \n",
            "==============================================================================\n",
            "Dep. Variable:                      Y   R-squared:                       0.642\n",
            "Model:                            OLS   Adj. R-squared:                  0.642\n",
            "Method:                 Least Squares   F-statistic:                 1.563e+04\n",
            "Date:                Thu, 15 Apr 2021   Prob (F-statistic):               0.00\n",
            "Time:                        10:35:01   Log-Likelihood:            -5.1859e+06\n",
            "No. Observations:              550068   AIC:                         1.037e+07\n",
            "Df Residuals:                  550004   BIC:                         1.037e+07\n",
            "Df Model:                          63                                         \n",
            "Covariance Type:            nonrobust                                         \n",
            "==============================================================================\n",
            "                 coef    std err          t      P>|t|      [0.025      0.975]\n",
            "------------------------------------------------------------------------------\n",
            "Intercept   3250.0531     10.224    317.885      0.000    3230.014    3270.092\n",
            "X[0]          10.9932      0.455     24.141      0.000      10.101      11.886\n",
            "X[1]        1652.4468      7.469    221.236      0.000    1637.807    1667.086\n",
            "X[2]        1597.6063      6.707    238.189      0.000    1584.460    1610.752\n",
            "X[3]          82.4157     18.895      4.362      0.000      45.382     119.449\n",
            "X[4]          38.4455     20.505      1.875      0.061      -1.744      78.635\n",
            "X[5]         123.4241     23.819      5.182      0.000      76.739     170.109\n",
            "X[6]         315.8002     27.271     11.580      0.000     262.350     369.251\n",
            "X[7]         220.4557     19.301     11.422      0.000     182.627     258.284\n",
            "X[8]         125.4065     31.209      4.018      0.000      64.238     186.575\n",
            "X[9]         294.9828     26.062     11.319      0.000     243.902     346.063\n",
            "X[10]        191.2535     19.530      9.793      0.000     152.976     229.531\n",
            "X[11]       -236.8956     78.141     -3.032      0.002    -390.049     -83.742\n",
            "X[12]        183.5361     41.441      4.429      0.000     102.313     264.759\n",
            "X[13]        263.4626     32.385      8.135      0.000     199.988     326.937\n",
            "X[14]        193.4036     31.794      6.083      0.000     131.088     255.719\n",
            "X[15]        361.5420     22.799     15.858      0.000     316.856     406.228\n",
            "X[16]        145.5220     38.629      3.767      0.000      69.811     221.233\n",
            "X[17]        268.4934     23.640     11.358      0.000     222.160     314.827\n",
            "X[18]        451.8686     31.156     14.503      0.000     390.803     512.934\n",
            "X[19]        188.9947     24.264      7.789      0.000     141.439     236.551\n",
            "X[20]        256.8381     21.389     12.008      0.000     214.916     298.760\n",
            "X[21]       -211.8701     36.186     -5.855      0.000    -282.794    -140.946\n",
            "X[22]        850.6220      6.915    123.013      0.000     837.069     864.175\n",
            "X[23]        991.1144      6.387    155.183      0.000     978.597    1003.632\n",
            "X[24]       1408.3167      7.158    196.744      0.000    1394.287    1422.346\n",
            "X[25]        638.9282      9.850     64.867      0.000     619.623     658.233\n",
            "X[26]        640.5328      7.036     91.031      0.000     626.742     654.324\n",
            "X[27]        677.5501      8.743     77.500      0.000     660.415     694.685\n",
            "X[28]        633.1774      8.944     70.790      0.000     615.647     650.708\n",
            "X[29]        659.8646      9.346     70.605      0.000     641.547     678.182\n",
            "X[30]       1654.2499      6.144    269.233      0.000    1642.207    1666.293\n",
            "X[31]       1595.8033      7.251    220.073      0.000    1581.591    1610.015\n",
            "X[32]       4660.1998     15.655    297.691      0.000    4629.517    4690.882\n",
            "X[33]       2520.6328     24.197    104.170      0.000    2473.207    2568.059\n",
            "X[34]       1605.1852     28.883     55.576      0.000    1548.576    1661.794\n",
            "X[35]      -6444.9467     31.541   -204.337      0.000   -6506.766   -6383.128\n",
            "X[36]      -2712.6717     15.208   -178.366      0.000   -2742.480   -2682.864\n",
            "X[37]       6679.0466     25.248    264.536      0.000    6629.561    6728.532\n",
            "X[38]       7480.1134     48.610    153.881      0.000    7384.840    7575.387\n",
            "X[39]      -1428.0595     15.664    -91.167      0.000   -1458.761   -1397.358\n",
            "X[40]       6711.0955    142.142     47.214      0.000    6432.501    6989.690\n",
            "X[41]       1.079e+04     42.950    251.279      0.000    1.07e+04    1.09e+04\n",
            "X[42]      -4180.1247     22.586   -185.072      0.000   -4224.393   -4135.856\n",
            "X[43]      -7607.5606     47.624   -159.741      0.000   -7700.903   -7514.218\n",
            "X[44]      -8185.7789     41.067   -199.326      0.000   -8266.270   -8105.288\n",
            "X[45]       4208.7502     74.377     56.587      0.000    4062.974    4354.527\n",
            "X[46]       5814.2772     38.607    150.600      0.000    5738.608    5889.947\n",
            "X[47]       5850.9568     31.587    185.235      0.000    5789.048    5912.866\n",
            "X[48]       1154.6836    119.549      9.659      0.000     920.371    1388.996\n",
            "X[49]      -5984.2895     52.745   -113.456      0.000   -6087.668   -5880.910\n",
            "X[50]      -9016.1019     72.529   -124.309      0.000   -9158.257   -8873.946\n",
            "X[51]      -8667.7259     58.050   -149.316      0.000   -8781.501   -8553.950\n",
            "X[52]        151.3811     14.676     10.315      0.000     122.617     180.145\n",
            "X[53]        -84.4209     45.910     -1.839      0.066    -174.403       5.561\n",
            "X[54]       -320.8350     21.157    -15.164      0.000    -362.303    -279.367\n",
            "X[55]        -83.8841     18.053     -4.646      0.000    -119.268     -48.500\n",
            "X[56]        463.8030     20.363     22.776      0.000     423.892     503.715\n",
            "X[57]        639.2981     93.591      6.831      0.000     455.862     822.734\n",
            "X[58]        414.9763     12.883     32.212      0.000     389.727     440.226\n",
            "X[59]         69.7345     32.421      2.151      0.031       6.191     133.278\n",
            "X[60]        862.4174     44.926     19.196      0.000     774.363     950.471\n",
            "X[61]       -121.2648     21.594     -5.616      0.000    -163.589     -78.941\n",
            "X[62]        -69.6267     32.831     -2.121      0.034    -133.975      -5.279\n",
            "X[63]         39.9956     25.159      1.590      0.112      -9.315      89.306\n",
            "X[64]         94.8010     13.504      7.020      0.000      68.334     121.268\n",
            "X[65]         38.2974     15.072      2.541      0.011       8.757      67.838\n",
            "X[66]        140.3852     14.619      9.603      0.000     111.732     169.038\n",
            "X[67]        518.2830     22.381     23.158      0.000     474.417     562.149\n",
            "X[68]        496.7122     45.221     10.984      0.000     408.081     585.344\n",
            "==============================================================================\n",
            "Omnibus:                    44131.007   Durbin-Watson:                   1.685\n",
            "Prob(Omnibus):                  0.000   Jarque-Bera (JB):            68606.339\n",
            "Skew:                          -0.628   Prob(JB):                         0.00\n",
            "Kurtosis:                       4.190   Cond. No.                     1.59e+16\n",
            "==============================================================================\n",
            "\n",
            "Warnings:\n",
            "[1] Standard Errors assume that the covariance matrix of the errors is correctly specified.\n",
            "[2] The smallest eigenvalue is 2.82e-24. This might indicate that there are\n",
            "strong multicollinearity problems or that the design matrix is singular.\n"
          ],
          "name": "stdout"
        }
      ]
    },
    {
      "cell_type": "code",
      "metadata": {
        "colab": {
          "base_uri": "https://localhost:8080/"
        },
        "id": "RJanQ5D0KM8d",
        "outputId": "e1074f74-6069-4cfe-b151-35fb6c0cebae"
      },
      "source": [
        "#OLS\n",
        "drop_cols_1 = ['Age', 'Gender_F', 'Gender_M', 'Occupation_1', 'Occupation_18', 'Occupation_20']\n",
        "\n",
        "X = dummy_X3.drop(columns = drop_cols_1)\n",
        "Y = sale_df3[['Purchase']]\n",
        "\n",
        "df1 = sale_df3\n",
        "formula_str=\"Y~X\"\n",
        "result = sm.ols(formula=formula_str,data=df1).fit()\n",
        "print(result.summary())"
      ],
      "execution_count": null,
      "outputs": [
        {
          "output_type": "stream",
          "text": [
            "                            OLS Regression Results                            \n",
            "==============================================================================\n",
            "Dep. Variable:                      Y   R-squared:                       0.641\n",
            "Model:                            OLS   Adj. R-squared:                  0.641\n",
            "Method:                 Least Squares   F-statistic:                 1.638e+04\n",
            "Date:                Thu, 15 Apr 2021   Prob (F-statistic):               0.00\n",
            "Time:                        10:54:18   Log-Likelihood:            -5.1862e+06\n",
            "No. Observations:              550068   AIC:                         1.037e+07\n",
            "Df Residuals:                  550007   BIC:                         1.037e+07\n",
            "Df Model:                          60                                         \n",
            "Covariance Type:            nonrobust                                         \n",
            "==============================================================================\n",
            "                 coef    std err          t      P>|t|      [0.025      0.975]\n",
            "------------------------------------------------------------------------------\n",
            "Intercept  -3.405e+14   4.24e+14     -0.803      0.422   -1.17e+15     4.9e+14\n",
            "X[0]          28.4531     15.314      1.858      0.063      -1.562      58.468\n",
            "X[1]          74.7674     21.102      3.543      0.000      33.408     116.127\n",
            "X[2]         296.8776     24.840     11.951      0.000     248.191     345.564\n",
            "X[3]          80.8821     15.255      5.302      0.000      50.983     110.781\n",
            "X[4]          74.3760     29.198      2.547      0.011      17.149     131.603\n",
            "X[5]         310.2699     23.470     13.220      0.000     264.269     356.271\n",
            "X[6]         177.6304     16.043     11.072      0.000     146.187     209.074\n",
            "X[7]        -185.0529     77.303     -2.394      0.017    -336.565     -33.541\n",
            "X[8]         206.0246     39.352      5.235      0.000     128.896     283.153\n",
            "X[9]         -11.2410     28.790     -0.390      0.696     -67.669      45.187\n",
            "X[10]        173.4855     29.782      5.825      0.000     115.115     231.856\n",
            "X[11]        295.7063     19.891     14.867      0.000     256.721     334.692\n",
            "X[12]        317.3597     35.918      8.836      0.000     246.962     387.757\n",
            "X[13]        217.3962     20.890     10.407      0.000     176.453     258.340\n",
            "X[14]        404.6202     29.145     13.883      0.000     347.497     461.743\n",
            "X[15]        199.1708     21.476      9.274      0.000     157.079     241.263\n",
            "X[16]        222.3756     18.249     12.186      0.000     186.608     258.143\n",
            "X[17]       -308.3719     34.386     -8.968      0.000    -375.768    -240.976\n",
            "X[18]      -1.228e+14   1.53e+14     -0.803      0.422   -4.23e+14    1.77e+14\n",
            "X[19]      -1.228e+14   1.53e+14     -0.803      0.422   -4.23e+14    1.77e+14\n",
            "X[20]      -1.228e+14   1.53e+14     -0.803      0.422   -4.23e+14    1.77e+14\n",
            "X[21]      -1.503e+14   1.87e+14     -0.803      0.422   -5.17e+14    2.16e+14\n",
            "X[22]      -1.503e+14   1.87e+14     -0.803      0.422   -5.17e+14    2.16e+14\n",
            "X[23]      -1.503e+14   1.87e+14     -0.803      0.422   -5.17e+14    2.16e+14\n",
            "X[24]      -1.503e+14   1.87e+14     -0.803      0.422   -5.17e+14    2.16e+14\n",
            "X[25]      -1.503e+14   1.87e+14     -0.803      0.422   -5.17e+14    2.16e+14\n",
            "X[26]       6.905e+14    8.6e+14      0.803      0.422   -9.95e+14    2.38e+15\n",
            "X[27]       6.905e+14    8.6e+14      0.803      0.422   -9.95e+14    2.38e+15\n",
            "X[28]      -3.623e+13   4.51e+13     -0.803      0.422   -1.25e+14    5.22e+13\n",
            "X[29]      -3.623e+13   4.51e+13     -0.803      0.422   -1.25e+14    5.22e+13\n",
            "X[30]      -3.623e+13   4.51e+13     -0.803      0.422   -1.25e+14    5.22e+13\n",
            "X[31]      -3.623e+13   4.51e+13     -0.803      0.422   -1.25e+14    5.22e+13\n",
            "X[32]      -3.623e+13   4.51e+13     -0.803      0.422   -1.25e+14    5.22e+13\n",
            "X[33]      -3.623e+13   4.51e+13     -0.803      0.422   -1.25e+14    5.22e+13\n",
            "X[34]      -3.623e+13   4.51e+13     -0.803      0.422   -1.25e+14    5.22e+13\n",
            "X[35]      -3.623e+13   4.51e+13     -0.803      0.422   -1.25e+14    5.22e+13\n",
            "X[36]      -3.623e+13   4.51e+13     -0.803      0.422   -1.25e+14    5.22e+13\n",
            "X[37]      -3.623e+13   4.51e+13     -0.803      0.422   -1.25e+14    5.22e+13\n",
            "X[38]      -3.623e+13   4.51e+13     -0.803      0.422   -1.25e+14    5.22e+13\n",
            "X[39]      -3.623e+13   4.51e+13     -0.803      0.422   -1.25e+14    5.22e+13\n",
            "X[40]      -3.623e+13   4.51e+13     -0.803      0.422   -1.25e+14    5.22e+13\n",
            "X[41]      -3.623e+13   4.51e+13     -0.803      0.422   -1.25e+14    5.22e+13\n",
            "X[42]      -3.623e+13   4.51e+13     -0.803      0.422   -1.25e+14    5.22e+13\n",
            "X[43]      -3.623e+13   4.51e+13     -0.803      0.422   -1.25e+14    5.22e+13\n",
            "X[44]      -3.623e+13   4.51e+13     -0.803      0.422   -1.25e+14    5.22e+13\n",
            "X[45]      -3.623e+13   4.51e+13     -0.803      0.422   -1.25e+14    5.22e+13\n",
            "X[46]      -3.623e+13   4.51e+13     -0.803      0.422   -1.25e+14    5.22e+13\n",
            "X[47]      -3.623e+13   4.51e+13     -0.803      0.422   -1.25e+14    5.22e+13\n",
            "X[48]      -4.073e+13   5.07e+13     -0.803      0.422    -1.4e+14    5.87e+13\n",
            "X[49]      -4.073e+13   5.07e+13     -0.803      0.422    -1.4e+14    5.87e+13\n",
            "X[50]      -4.073e+13   5.07e+13     -0.803      0.422    -1.4e+14    5.87e+13\n",
            "X[51]      -4.073e+13   5.07e+13     -0.803      0.422    -1.4e+14    5.87e+13\n",
            "X[52]      -4.073e+13   5.07e+13     -0.803      0.422    -1.4e+14    5.87e+13\n",
            "X[53]      -4.073e+13   5.07e+13     -0.803      0.422    -1.4e+14    5.87e+13\n",
            "X[54]      -4.073e+13   5.07e+13     -0.803      0.422    -1.4e+14    5.87e+13\n",
            "X[55]      -4.073e+13   5.07e+13     -0.803      0.422    -1.4e+14    5.87e+13\n",
            "X[56]      -4.073e+13   5.07e+13     -0.803      0.422    -1.4e+14    5.87e+13\n",
            "X[57]      -4.073e+13   5.07e+13     -0.803      0.422    -1.4e+14    5.87e+13\n",
            "X[58]      -4.073e+13   5.07e+13     -0.803      0.422    -1.4e+14    5.87e+13\n",
            "X[59]      -4.073e+13   5.07e+13     -0.803      0.422    -1.4e+14    5.87e+13\n",
            "X[60]      -4.073e+13   5.07e+13     -0.803      0.422    -1.4e+14    5.87e+13\n",
            "X[61]      -4.073e+13   5.07e+13     -0.803      0.422    -1.4e+14    5.87e+13\n",
            "X[62]      -4.073e+13   5.07e+13     -0.803      0.422    -1.4e+14    5.87e+13\n",
            "X[63]      -4.073e+13   5.07e+13     -0.803      0.422    -1.4e+14    5.87e+13\n",
            "X[64]      -4.073e+13   5.07e+13     -0.803      0.422    -1.4e+14    5.87e+13\n",
            "==============================================================================\n",
            "Omnibus:                    44419.183   Durbin-Watson:                   1.684\n",
            "Prob(Omnibus):                  0.000   Jarque-Bera (JB):            69070.413\n",
            "Skew:                          -0.631   Prob(JB):                         0.00\n",
            "Kurtosis:                       4.192   Cond. No.                     1.24e+16\n",
            "==============================================================================\n",
            "\n",
            "Warnings:\n",
            "[1] Standard Errors assume that the covariance matrix of the errors is correctly specified.\n",
            "[2] The smallest eigenvalue is 8.89e-27. This might indicate that there are\n",
            "strong multicollinearity problems or that the design matrix is singular.\n"
          ],
          "name": "stdout"
        }
      ]
    },
    {
      "cell_type": "markdown",
      "metadata": {
        "id": "9aayBYu_GXs2"
      },
      "source": [
        "AIC and BIC remain same after removal of attributes with no significant (p-value>0.05)."
      ]
    },
    {
      "cell_type": "markdown",
      "metadata": {
        "id": "5noVIx03TV_w"
      },
      "source": [
        "#**3. Model Implementation**"
      ]
    },
    {
      "cell_type": "markdown",
      "metadata": {
        "id": "Ov7kAr_DQpHx"
      },
      "source": [
        "##**3.1. Linear Regression**"
      ]
    },
    {
      "cell_type": "code",
      "metadata": {
        "id": "OhbNXMfMJohZ",
        "colab": {
          "base_uri": "https://localhost:8080/"
        },
        "outputId": "2cfc5691-08a5-4c66-c9a7-19e0a15b8642"
      },
      "source": [
        "Y = sale_df['Purchase']\n",
        "c = ['Product_Category_1','Product_Category_2']\n",
        "regressor = LinearRegression()\n",
        "X_train, X_test, y_train, y_test = train_test_split(X, Y, test_size=0.7)\n",
        "regressor.fit(X_train, y_train)\n",
        "y_pred = regressor.predict(X_test)\n",
        "print('Mean Absolute Error (MAE):', metrics.mean_absolute_error(y_test, y_pred))\n",
        "print('Root Mean Squared Error (RMSE):', np.sqrt(metrics.mean_squared_error(y_test, y_pred)))\n",
        "mape = np.mean(np.abs((y_test - y_pred) / np.abs(y_test)))\n",
        "print('R Squared Error (R2):', metrics.r2_score(y_test, y_pred))"
      ],
      "execution_count": null,
      "outputs": [
        {
          "output_type": "stream",
          "text": [
            "Mean Absolute Error (MAE): 2276.1572018293823\n",
            "Root Mean Squared Error (RMSE): 3008.266862449945\n",
            "R Squared Error (R2): 0.6406066529037617\n"
          ],
          "name": "stdout"
        }
      ]
    },
    {
      "cell_type": "code",
      "metadata": {
        "id": "mKDz58UuUIrU",
        "colab": {
          "base_uri": "https://localhost:8080/",
          "height": 265
        },
        "outputId": "4d4dc3a2-8ba5-4211-f73a-377463eabb33"
      },
      "source": [
        "er = np.array(y_test) - np.array(y_pred)\n",
        "plt.scatter(range(0,100),er[1000:1100])\n",
        "plt.show()"
      ],
      "execution_count": null,
      "outputs": [
        {
          "output_type": "display_data",
          "data": {
            "image/png": "[encoded data removed]",
            "text/plain": [
              "<Figure size 432x288 with 1 Axes>"
            ]
          },
          "metadata": {
            "tags": [],
            "needs_background": "light"
          }
        }
      ]
    },
    {
      "cell_type": "markdown",
      "metadata": {
        "id": "n6zwKDOLHyxZ"
      },
      "source": [
        "## **3.2. XGBoost** "
      ]
    },
    {
      "cell_type": "code",
      "metadata": {
        "colab": {
          "base_uri": "https://localhost:8080/"
        },
        "id": "UJX6XTu9ICkt",
        "outputId": "52f43184-a77f-4a20-a90f-7173bead73cc"
      },
      "source": [
        "import xgboost as xg\n",
        "xgb_r = xg.XGBRegressor(objective ='reg:linear',\n",
        "                  n_estimators = 10, seed = 123)\n",
        "xgb_r.fit(X_train, y_train)\n",
        "y_pred = xgb_r.predict(X_test)\n",
        "print('Mean Absolute Error (MAE):', metrics.mean_absolute_error(y_test, y_pred))\n",
        "print('Mean Squared Error (MSE):', metrics.mean_squared_error(y_test, y_pred))\n",
        "print('Root Mean Squared Error (RMSE):', np.sqrt(metrics.mean_squared_error(y_test, y_pred)))\n",
        "mape = np.mean(np.abs((y_test - y_pred) / np.abs(y_test)))\n",
        "print('R Squared Error (R2):', metrics.r2_score(y_test, y_pred))"
      ],
      "execution_count": null,
      "outputs": [
        {
          "output_type": "stream",
          "text": [
            "[09:45:32] WARNING: /workspace/src/objective/regression_obj.cu:152: reg:linear is now deprecated in favor of reg:squarederror.\n",
            "Mean Absolute Error (MAE): 4031.0926773874316\n",
            "Mean Squared Error (MSE): 25777672.129714794\n",
            "Root Mean Squared Error (RMSE): 5077.171666362562\n",
            "R Squared Error (R2): -0.02371957903660915\n"
          ],
          "name": "stdout"
        }
      ]
    },
    {
      "cell_type": "code",
      "metadata": {
        "colab": {
          "base_uri": "https://localhost:8080/",
          "height": 265
        },
        "id": "bts84mOSIPbu",
        "outputId": "0969a0c1-ba21-4cab-9d22-41bdab4b7fba"
      },
      "source": [
        "er = np.array(y_test) - np.array(y_pred)\n",
        "plt.scatter(range(0,100),er[1000:1100])\n",
        "plt.show()"
      ],
      "execution_count": null,
      "outputs": [
        {
          "output_type": "display_data",
          "data": {
            "image/png": "[encoded data removed]",
            "text/plain": [
              "<Figure size 432x288 with 1 Axes>"
            ]
          },
          "metadata": {
            "tags": [],
            "needs_background": "light"
          }
        }
      ]
    },
    {
      "cell_type": "markdown",
      "metadata": {
        "id": "JIGSQ8NcQzH0"
      },
      "source": [
        "##**3.3. Decision Tree Regression**"
      ]
    },
    {
      "cell_type": "code",
      "metadata": {
        "id": "ryu4jNvNQANR",
        "colab": {
          "base_uri": "https://localhost:8080/"
        },
        "outputId": "9eaf2855-6b5d-4f93-d2cf-2038c52535c1"
      },
      "source": [
        "from sklearn.tree import DecisionTreeRegressor  \n",
        "x = sale_df[cols]\n",
        "regressor = DecisionTreeRegressor()  \n",
        "X_train, X_test, y_train, y_test = train_test_split(X, Y, test_size=0.7)\n",
        "regressor.fit(X_train, y_train)\n",
        "y_pred = regressor.predict(X_test)\n",
        "print('Mean Absolute Error (MAE):', metrics.mean_absolute_error(y_test, y_pred))\n",
        "print('Mean Squared Error (MSE):', metrics.mean_squared_error(y_test, y_pred))\n",
        "print('Root Mean Squared Error (RMSE):', np.sqrt(metrics.mean_squared_error(y_test, y_pred)))\n",
        "mape = np.mean(np.abs((y_test - y_pred) / np.abs(y_test)))\n",
        "print('R Squared Error (R2):', metrics.r2_score(y_test, y_pred))"
      ],
      "execution_count": null,
      "outputs": [
        {
          "output_type": "stream",
          "text": [
            "Mean Absolute Error (MAE): 2454.79880847346\n",
            "Mean Squared Error (MSE): 11775276.488729639\n",
            "Root Mean Squared Error (RMSE): 3431.512274308463\n",
            "R Squared Error (R2): 0.5334091893860775\n"
          ],
          "name": "stdout"
        }
      ]
    },
    {
      "cell_type": "code",
      "metadata": {
        "colab": {
          "base_uri": "https://localhost:8080/",
          "height": 265
        },
        "id": "SBl3tU3WIgMD",
        "outputId": "387f7d8f-ffea-4e62-aa5b-b20873d3f1f8"
      },
      "source": [
        "er = np.array(y_test) - np.array(y_pred)\n",
        "plt.scatter(range(0,100),er[1000:1100])\n",
        "plt.show()"
      ],
      "execution_count": null,
      "outputs": [
        {
          "output_type": "display_data",
          "data": {
            "image/png": "[encoded data removed]",
            "text/plain": [
              "<Figure size 432x288 with 1 Axes>"
            ]
          },
          "metadata": {
            "tags": [],
            "needs_background": "light"
          }
        }
      ]
    },
    {
      "cell_type": "markdown",
      "metadata": {
        "id": "dP_uLGIRRXoT"
      },
      "source": [
        "##**3.4. Random Forest Regression**"
      ]
    },
    {
      "cell_type": "code",
      "metadata": {
        "id": "fR9cWV-6Q6Tu",
        "colab": {
          "base_uri": "https://localhost:8080/"
        },
        "outputId": "7f80ec44-aeef-4405-bb38-b21aaa9b64c0"
      },
      "source": [
        "from sklearn.ensemble import RandomForestRegressor \n",
        "regressor = RandomForestRegressor(n_estimators = 20, random_state = 0)\n",
        "X_train, X_test, y_train, y_test = train_test_split(X, Y, test_size=0.7)\n",
        "regressor.fit(X_train, y_train)\n",
        "y_pred = regressor.predict(X_test)\n",
        "print('Mean Absolute Error (MAE):', metrics.mean_absolute_error(y_test, y_pred))\n",
        "print('Mean Squared Error (MSE):', metrics.mean_squared_error(y_test, y_pred))\n",
        "print('Root Mean Squared Error (RMSE):', np.sqrt(metrics.mean_squared_error(y_test, y_pred)))\n",
        "mape = np.mean(np.abs((y_test - y_pred) / np.abs(y_test)))\n",
        "print('R Squared Error (R2):', metrics.r2_score(y_test, y_pred))"
      ],
      "execution_count": null,
      "outputs": [
        {
          "output_type": "stream",
          "text": [
            "Mean Absolute Error (MAE): 2299.946350016099\n",
            "Mean Squared Error (MSE): 9849615.84809566\n",
            "Root Mean Squared Error (RMSE): 3138.4097642111137\n",
            "R Squared Error (R2): 0.6102322861713818\n"
          ],
          "name": "stdout"
        }
      ]
    },
    {
      "cell_type": "markdown",
      "metadata": {
        "id": "qq-A9LPJDd7w"
      },
      "source": [
        "##**3.5. Lasso Regression**"
      ]
    },
    {
      "cell_type": "code",
      "metadata": {
        "colab": {
          "base_uri": "https://localhost:8080/"
        },
        "id": "hItrx2c9DjZl",
        "outputId": "75e5c802-c486-46c4-f23b-d13c23b33283"
      },
      "source": [
        "from sklearn import linear_model\n",
        "import math\n",
        "from scipy.stats import skew, kurtosis\n",
        "regressor = linear_model.Lasso(alpha=0.2,max_iter = 5000)\n",
        "regressor.fit(X_train, y_train)\n",
        "y_pred = regressor.predict(X_test)\n",
        "print(metrics.mean_absolute_error(y_test, y_pred), metrics.r2_score(y_test, y_pred))\n",
        "print(math.sqrt(metrics.mean_squared_error(y_test, y_pred)))\n",
        "err = np.array(y_pred) - np.array(y_test)\n",
        "print(skew(err), kurtosis(err))"
      ],
      "execution_count": null,
      "outputs": [
        {
          "output_type": "stream",
          "text": [
            "2275.624387727296 0.6421119288945629\n",
            "3007.324739068432\n",
            "0.6202736033106632 1.1859768744420434\n"
          ],
          "name": "stdout"
        }
      ]
    },
    {
      "cell_type": "markdown",
      "metadata": {
        "id": "CVomlZ42Gty4"
      },
      "source": [
        "##**3.6. Ridge Regression**"
      ]
    },
    {
      "cell_type": "code",
      "metadata": {
        "colab": {
          "base_uri": "https://localhost:8080/"
        },
        "id": "JBTtbPscGztQ",
        "outputId": "87238e7b-49b5-4452-d570-200ced1ad048"
      },
      "source": [
        "regressor = linear_model.Ridge(alpha=1, tol = 0.0005)\n",
        "regressor.fit(X_train, y_train)\n",
        "y_pred = regressor.predict(X_test)\n",
        "print(metrics.mean_absolute_error(y_test, y_pred), metrics.r2_score(y_test, y_pred))\n",
        "print(math.sqrt(metrics.mean_squared_error(y_test, y_pred)))\n",
        "err = np.array(y_pred) - np.array(y_test)\n",
        "print(skew(err), kurtosis(err))"
      ],
      "execution_count": null,
      "outputs": [
        {
          "output_type": "stream",
          "text": [
            "2275.544965812042 0.6421105598885073\n",
            "3007.330490925192\n",
            "0.6227893921644335 1.1886143534548603\n"
          ],
          "name": "stdout"
        }
      ]
    },
    {
      "cell_type": "markdown",
      "metadata": {
        "id": "zRW25IZZG5nF"
      },
      "source": [
        "##**3.7. Elastic Net Regression**"
      ]
    },
    {
      "cell_type": "code",
      "metadata": {
        "colab": {
          "base_uri": "https://localhost:8080/"
        },
        "id": "r0bQ7khyG_m_",
        "outputId": "e2ef5b1f-74e1-4ceb-f2be-a309cb68eee7"
      },
      "source": [
        "regressor = linear_model.ElasticNet(alpha=0.01)\n",
        "regressor.fit(X_train, y_train)\n",
        "y_pred = regressor.predict(X_test)\n",
        "print(metrics.mean_absolute_error(y_test, y_pred), metrics.r2_score(y_test, y_pred))\n",
        "print(math.sqrt(metrics.mean_squared_error(y_test, y_pred)))\n",
        "err = np.array(y_pred) - np.array(y_test)\n",
        "print(skew(err), kurtosis(err))"
      ],
      "execution_count": null,
      "outputs": [
        {
          "output_type": "stream",
          "text": [
            "2427.2483337339618 0.6115930707725838\n",
            "3132.9264550617404\n",
            "0.2837331333987208 0.7034581618185527\n"
          ],
          "name": "stdout"
        }
      ]
    },
    {
      "cell_type": "code",
      "metadata": {
        "id": "FWY8y_oHIiXB"
      },
      "source": [
        "er = np.array(y_test) - np.array(y_pred)\n",
        "plt.scatter(range(0,100),er[1000:1100])\n",
        "plt.show()"
      ],
      "execution_count": null,
      "outputs": []
    },
    {
      "cell_type": "code",
      "metadata": {
        "id": "Yc48GyqTR_HD"
      },
      "source": [
        "check = pd.DataFrame({'Actual': y_test, 'Predicted': y_pred})\n",
        "check"
      ],
      "execution_count": null,
      "outputs": []
    },
    {
      "cell_type": "code",
      "metadata": {
        "id": "Ese6xYpHWxAN"
      },
      "source": [
        "P_LR_MAE = metrics.mean_absolute_error(y_test, y_pred)\n",
        "print('DT Mean Absolute Error:', P_LR_MAE)\n",
        "P_LR_R2 = metrics.r2_score(y_test, y_pred)\n",
        "print('DT R Square:', P_LR_R2)"
      ],
      "execution_count": null,
      "outputs": []
    }
  ]
}